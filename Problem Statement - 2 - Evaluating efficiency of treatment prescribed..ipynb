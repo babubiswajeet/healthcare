{
 "cells": [
  {
   "cell_type": "code",
   "execution_count": 1,
   "metadata": {},
   "outputs": [],
   "source": [
    "import pandas as pd\n",
    "import numpy as np\n",
    "import seaborn as sns\n",
    "import matplotlib.pyplot as plt\n",
    "%matplotlib inline"
   ]
  },
  {
   "cell_type": "code",
   "execution_count": 2,
   "metadata": {},
   "outputs": [
    {
     "name": "stderr",
     "output_type": "stream",
     "text": [
      "C:\\ProgramData\\Anaconda3\\lib\\site-packages\\ipykernel_launcher.py:51: SettingWithCopyWarning: \n",
      "A value is trying to be set on a copy of a slice from a DataFrame.\n",
      "Try using .loc[row_indexer,col_indexer] = value instead\n",
      "\n",
      "See the caveats in the documentation: http://pandas.pydata.org/pandas-docs/stable/indexing.html#indexing-view-versus-copy\n",
      "C:\\ProgramData\\Anaconda3\\lib\\site-packages\\ipykernel_launcher.py:52: SettingWithCopyWarning: \n",
      "A value is trying to be set on a copy of a slice from a DataFrame.\n",
      "Try using .loc[row_indexer,col_indexer] = value instead\n",
      "\n",
      "See the caveats in the documentation: http://pandas.pydata.org/pandas-docs/stable/indexing.html#indexing-view-versus-copy\n",
      "C:\\ProgramData\\Anaconda3\\lib\\site-packages\\ipykernel_launcher.py:53: SettingWithCopyWarning: \n",
      "A value is trying to be set on a copy of a slice from a DataFrame.\n",
      "Try using .loc[row_indexer,col_indexer] = value instead\n",
      "\n",
      "See the caveats in the documentation: http://pandas.pydata.org/pandas-docs/stable/indexing.html#indexing-view-versus-copy\n",
      "C:\\ProgramData\\Anaconda3\\lib\\site-packages\\ipykernel_launcher.py:54: SettingWithCopyWarning: \n",
      "A value is trying to be set on a copy of a slice from a DataFrame.\n",
      "Try using .loc[row_indexer,col_indexer] = value instead\n",
      "\n",
      "See the caveats in the documentation: http://pandas.pydata.org/pandas-docs/stable/indexing.html#indexing-view-versus-copy\n"
     ]
    }
   ],
   "source": [
    "data = pd.read_csv('C:/Users/makam/Desktop/Capstone Project/diabetic_data.csv')\n",
    "data1 = pd.read_csv('C:/Users/makam/Desktop/Capstone Project/diabetic_data.csv')\n",
    "\n",
    "drugs = ['metformin',\n",
    "       'repaglinide', 'nateglinide', 'chlorpropamide', 'glimepiride',\n",
    "       'acetohexamide', 'glipizide', 'glyburide', 'tolbutamide',\n",
    "       'pioglitazone', 'rosiglitazone', 'acarbose', 'miglitol',\n",
    "       'troglitazone', 'tolazamide', 'examide', 'citoglipton', 'insulin',\n",
    "       'glyburide-metformin', 'glipizide-metformin',\n",
    "       'glimepiride-pioglitazone', 'metformin-rosiglitazone',\n",
    "       'metformin-pioglitazone']\n",
    "drug_d = pd.DataFrame()\n",
    "for x in drugs:\n",
    "    del data1[x]\n",
    "    drug_d[x]=data[x]\n",
    "    mapping_dict={x:{'No':0,'Down':1,'Steady':1,'Up':1}}\n",
    "    drug_d.replace(mapping_dict,inplace=True)\n",
    "    \n",
    "drug_d['encounter_id']=data['encounter_id']\n",
    "ids = data['encounter_id']\n",
    "ids1 = pd.DataFrame(ids)\n",
    "ids1['key'] = ids1.index\n",
    "drug_dt=drug_d.T\n",
    "insulin_data = drug_d['insulin']\n",
    "drug_dt.drop(['insulin'],inplace=True)\n",
    "cols = drug_dt.columns.values.tolist()\n",
    "drug_dt.drop(['encounter_id'],inplace=True)\n",
    "no_combo=[]\n",
    "combo=[]\n",
    "for x in cols:\n",
    "    if(drug_dt[x].sum()==0):\n",
    "        no_combo.append(x)\n",
    "    else:\n",
    "        combo.append(x)\n",
    "combo1 = pd.DataFrame(combo)\n",
    "combo1.rename(columns={0:'key'},inplace=True)\n",
    "combo2 = pd.merge(combo1,ids1,on='key',how='inner')\n",
    "del combo2['key']\n",
    "no_combo1 = pd.DataFrame(no_combo)\n",
    "no_combo1.rename(columns={0:'key'},inplace=True)\n",
    "no_combo2 = pd.merge(no_combo1,ids1,on='key',how='inner')\n",
    "del no_combo2['key']\n",
    "ins_data=pd.DataFrame(insulin_data,columns=['insulin'])\n",
    "ins_data['encounter_id']=data['encounter_id']\n",
    "combo3 = pd.merge(combo2,ins_data,on='encounter_id',how='inner')\n",
    "no_combo3 = pd.merge(no_combo2,ins_data,on='encounter_id',how='inner')\n",
    "no_diabetes = no_combo3[no_combo3['insulin']==0]\n",
    "type1 = no_combo3[no_combo3['insulin']!=0]\n",
    "type2 = combo3[combo3['insulin']==0]\n",
    "t1t2 = combo3[combo3['insulin']!=0]\n",
    "no_diabetes['treatment']=0\n",
    "type1['treatment']=1\n",
    "type2['treatment']=2\n",
    "t1t2['treatment']=3"
   ]
  },
  {
   "cell_type": "code",
   "execution_count": 24,
   "metadata": {},
   "outputs": [],
   "source": [
    "diabetes = pd.merge(drug_d,data1,on='encounter_id',how='inner')\n",
    "ttype = pd.concat([no_diabetes,type1,type2,t1t2])\n",
    "del ttype['insulin']\n",
    "diabetes = pd.merge(diabetes,ttype,on='encounter_id',how='inner')"
   ]
  },
  {
   "cell_type": "code",
   "execution_count": 25,
   "metadata": {},
   "outputs": [
    {
     "data": {
      "text/plain": [
       "array(['metformin', 'repaglinide', 'nateglinide', 'chlorpropamide',\n",
       "       'glimepiride', 'acetohexamide', 'glipizide', 'glyburide',\n",
       "       'tolbutamide', 'pioglitazone', 'rosiglitazone', 'acarbose',\n",
       "       'miglitol', 'troglitazone', 'tolazamide', 'examide', 'citoglipton',\n",
       "       'insulin', 'glyburide-metformin', 'glipizide-metformin',\n",
       "       'glimepiride-pioglitazone', 'metformin-rosiglitazone',\n",
       "       'metformin-pioglitazone', 'encounter_id', 'max_glu_serum',\n",
       "       'A1Cresult', 'change', 'diabetesMed', 'readmitted', 'treatment'],\n",
       "      dtype=object)"
      ]
     },
     "execution_count": 25,
     "metadata": {},
     "output_type": "execute_result"
    }
   ],
   "source": [
    "diabetes.columns.values"
   ]
  },
  {
   "cell_type": "markdown",
   "metadata": {},
   "source": [
    "# Evaluating efficiency of solo insulin based treatments"
   ]
  },
  {
   "cell_type": "code",
   "execution_count": 29,
   "metadata": {},
   "outputs": [],
   "source": [
    "data = diabetes[diabetes['treatment']==1]"
   ]
  },
  {
   "cell_type": "code",
   "execution_count": 30,
   "metadata": {},
   "outputs": [
    {
     "data": {
      "text/plain": [
       "Text(0.5, 1.0, 'readmission VS. solo insulin treatment')"
      ]
     },
     "execution_count": 30,
     "metadata": {},
     "output_type": "execute_result"
    },
    {
     "data": {
      "image/png": "[encoded data removed]",
      "text/plain": [
       "<Figure size 576x576 with 1 Axes>"
      ]
     },
     "metadata": {
      "needs_background": "light"
     },
     "output_type": "display_data"
    }
   ],
   "source": [
    "fig = plt.figure(figsize=(8,8))\n",
    "sns.countplot(x= data['treatment'], hue = data['readmitted']).set_title('readmission VS. solo insulin treatment')"
   ]
  },
  {
   "cell_type": "code",
   "execution_count": 31,
   "metadata": {},
   "outputs": [
    {
     "name": "stdout",
     "output_type": "stream",
     "text": [
      "The efficiency of solo insulin treatment is 87.08218956886807 %\n"
     ]
    }
   ],
   "source": [
    "x1 = len(data[data['readmitted']=='NO'])\n",
    "x2 = len(data[data['readmitted']=='>30'])\n",
    "y = len(data)\n",
    "\n",
    "print('The efficiency of solo insulin treatment is',((x1+x2)/y)*100,'%')"
   ]
  },
  {
   "cell_type": "markdown",
   "metadata": {},
   "source": [
    "# Evaluating efficiency of non-insulin based treatments"
   ]
  },
  {
   "cell_type": "code",
   "execution_count": 32,
   "metadata": {},
   "outputs": [
    {
     "data": {
      "text/plain": [
       "Text(0.5, 1.0, 'readmission VS. solo insulin treatment')"
      ]
     },
     "execution_count": 32,
     "metadata": {},
     "output_type": "execute_result"
    },
    {
     "data": {
      "image/png": "[encoded data removed]",
      "text/plain": [
       "<Figure size 576x576 with 1 Axes>"
      ]
     },
     "metadata": {
      "needs_background": "light"
     },
     "output_type": "display_data"
    }
   ],
   "source": [
    "data = diabetes[diabetes['treatment']==2]\n",
    "fig = plt.figure(figsize=(8,8))\n",
    "sns.countplot(x= data['treatment'], hue = data['readmitted']).set_title('readmission VS. solo insulin treatment')"
   ]
  },
  {
   "cell_type": "code",
   "execution_count": 33,
   "metadata": {},
   "outputs": [
    {
     "name": "stdout",
     "output_type": "stream",
     "text": [
      "The efficiency of non-insulin based treatment is 89.53294412010008 %\n"
     ]
    }
   ],
   "source": [
    "x1 = len(data[data['readmitted']=='NO'])\n",
    "x2 = len(data[data['readmitted']=='>30'])\n",
    "y = len(data)\n",
    "\n",
    "print('The efficiency of non-insulin based treatment is',((x1+x2)/y)*100,'%')"
   ]
  },
  {
   "cell_type": "markdown",
   "metadata": {},
   "source": [
    "#  Evaluating efficiency of insulin+other drug based treatments"
   ]
  },
  {
   "cell_type": "code",
   "execution_count": 34,
   "metadata": {},
   "outputs": [
    {
     "data": {
      "text/plain": [
       "Text(0.5, 1.0, 'readmission VS. solo insulin treatment')"
      ]
     },
     "execution_count": 34,
     "metadata": {},
     "output_type": "execute_result"
    },
    {
     "data": {
      "image/png": "[encoded data removed]",
      "text/plain": [
       "<Figure size 576x576 with 1 Axes>"
      ]
     },
     "metadata": {
      "needs_background": "light"
     },
     "output_type": "display_data"
    }
   ],
   "source": [
    "data = diabetes[diabetes['treatment']==3]\n",
    "fig = plt.figure(figsize=(8,8))\n",
    "sns.countplot(x= data['treatment'], hue = data['readmitted']).set_title('readmission VS. solo insulin treatment')"
   ]
  },
  {
   "cell_type": "code",
   "execution_count": 36,
   "metadata": {},
   "outputs": [
    {
     "name": "stdout",
     "output_type": "stream",
     "text": [
      "The efficiency of insulin+other drug based treatment is 88.89315910837817 %\n"
     ]
    }
   ],
   "source": [
    "x1 = len(data[data['readmitted']=='NO'])\n",
    "x2 = len(data[data['readmitted']=='>30'])\n",
    "y = len(data)\n",
    "\n",
    "print('The efficiency of insulin+other drug based treatment is',((x1+x2)/y)*100,'%')"
   ]
  },
  {
   "cell_type": "code",
   "execution_count": null,
   "metadata": {},
   "outputs": [],
   "source": []
  }
 ],
 "metadata": {
  "kernelspec": {
   "display_name": "Python 3",
   "language": "python",
   "name": "python3"
  },
  "language_info": {
   "codemirror_mode": {
    "name": "ipython",
    "version": 3
   },
   "file_extension": ".py",
   "mimetype": "text/x-python",
   "name": "python",
   "nbconvert_exporter": "python",
   "pygments_lexer": "ipython3",
   "version": "3.7.3"
  }
 },
 "nbformat": 4,
 "nbformat_minor": 2
}

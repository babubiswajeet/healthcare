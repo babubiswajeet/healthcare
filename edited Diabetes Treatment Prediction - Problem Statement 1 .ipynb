{
 "cells": [
  {
   "cell_type": "code",
   "execution_count": 33,
   "metadata": {},
   "outputs": [],
   "source": [
    "import pandas as pd\n",
    "import numpy as np\n",
    "import seaborn as sns\n",
    "import matplotlib.pyplot as plt\n",
    "%matplotlib inline"
   ]
  },
  {
   "cell_type": "markdown",
   "metadata": {},
   "source": [
    "# Adding treatment feature according to the medication prescribed"
   ]
  },
  {
   "cell_type": "code",
   "execution_count": 34,
   "metadata": {},
   "outputs": [
    {
     "name": "stderr",
     "output_type": "stream",
     "text": [
      "C:\\ProgramData\\Anaconda3\\lib\\site-packages\\ipykernel_launcher.py:80: SettingWithCopyWarning: \n",
      "A value is trying to be set on a copy of a slice from a DataFrame.\n",
      "Try using .loc[row_indexer,col_indexer] = value instead\n",
      "\n",
      "See the caveats in the documentation: http://pandas.pydata.org/pandas-docs/stable/indexing.html#indexing-view-versus-copy\n",
      "C:\\ProgramData\\Anaconda3\\lib\\site-packages\\ipykernel_launcher.py:81: SettingWithCopyWarning: \n",
      "A value is trying to be set on a copy of a slice from a DataFrame.\n",
      "Try using .loc[row_indexer,col_indexer] = value instead\n",
      "\n",
      "See the caveats in the documentation: http://pandas.pydata.org/pandas-docs/stable/indexing.html#indexing-view-versus-copy\n",
      "C:\\ProgramData\\Anaconda3\\lib\\site-packages\\ipykernel_launcher.py:82: SettingWithCopyWarning: \n",
      "A value is trying to be set on a copy of a slice from a DataFrame.\n",
      "Try using .loc[row_indexer,col_indexer] = value instead\n",
      "\n",
      "See the caveats in the documentation: http://pandas.pydata.org/pandas-docs/stable/indexing.html#indexing-view-versus-copy\n",
      "C:\\ProgramData\\Anaconda3\\lib\\site-packages\\ipykernel_launcher.py:83: SettingWithCopyWarning: \n",
      "A value is trying to be set on a copy of a slice from a DataFrame.\n",
      "Try using .loc[row_indexer,col_indexer] = value instead\n",
      "\n",
      "See the caveats in the documentation: http://pandas.pydata.org/pandas-docs/stable/indexing.html#indexing-view-versus-copy\n"
     ]
    }
   ],
   "source": [
    "#importing diabetes data\n",
    "data = pd.read_csv('C:/Users/makam/Desktop/Capstone Project/diabetic_data.csv')\n",
    "data1 = pd.read_csv('C:/Users/makam/Desktop/Capstone Project/diabetic_data.csv')\n",
    "#Now we label encode the values for the drug columns.\n",
    "drugs = ['metformin',\n",
    "       'repaglinide', 'nateglinide', 'chlorpropamide', 'glimepiride',\n",
    "       'acetohexamide', 'glipizide', 'glyburide', 'tolbutamide',\n",
    "       'pioglitazone', 'rosiglitazone', 'acarbose', 'miglitol',\n",
    "       'troglitazone', 'tolazamide', 'examide', 'citoglipton', 'insulin',\n",
    "       'glyburide-metformin', 'glipizide-metformin',\n",
    "       'glimepiride-pioglitazone', 'metformin-rosiglitazone',\n",
    "       'metformin-pioglitazone']\n",
    "drug_d = pd.DataFrame()\n",
    "for x in drugs:\n",
    "    del data1[x]\n",
    "    drug_d[x]=data[x]\n",
    "    mapping_dict={x:{'No':0,'Down':1,'Steady':1,'Up':1}}\n",
    "    drug_d.replace(mapping_dict,inplace=True)\n",
    "    \n",
    "#One hot encoding other columns in diabetes data\n",
    "cont = pd.get_dummies(data1['max_glu_serum'],prefix='max_glu_serum',drop_first=False)\n",
    "#Adding the results to the master dataframe\n",
    "data1 = pd.concat([data1,cont],axis=1)\n",
    "del data1['max_glu_serum']\n",
    "\n",
    "cont = pd.get_dummies(data1['A1Cresult'],prefix='A1Cresult',drop_first=False)\n",
    "#Adding the results to the master dataframe\n",
    "data1 = pd.concat([data1,cont],axis=1)\n",
    "del data1['A1Cresult']\n",
    "\n",
    "cont = pd.get_dummies(data1['change'],prefix='change',drop_first=False)\n",
    "#Adding the results to the master dataframe\n",
    "data1 = pd.concat([data1,cont],axis=1)\n",
    "del data1['change']\n",
    "\n",
    "\n",
    "data1['diabetesMed'].replace({'No':0,'Yes':1},inplace=True)\n",
    "\n",
    "cont = pd.get_dummies(data1['readmitted'],prefix='readmitted',drop_first=False)\n",
    "#Adding the results to the master dataframe\n",
    "data1 = pd.concat([data1,cont],axis=1)\n",
    "del data1['readmitted']\n",
    "\n",
    "\n",
    "#We will now check which encounters are having combination of insulin & which are having solo insulin treatment.\n",
    "drug_d['encounter_id']=data['encounter_id']\n",
    "ids = data['encounter_id']\n",
    "ids1 = pd.DataFrame(ids)\n",
    "ids1['key'] = ids1.index\n",
    "drug_dt=drug_d.T\n",
    "insulin_data = drug_d['insulin']\n",
    "drug_dt.drop(['insulin'],inplace=True)\n",
    "cols = drug_dt.columns.values.tolist()\n",
    "drug_dt.drop(['encounter_id'],inplace=True)\n",
    "no_combo=[]\n",
    "combo=[]\n",
    "for x in cols:\n",
    "    if(drug_dt[x].sum()==0):\n",
    "        no_combo.append(x)\n",
    "    else:\n",
    "        combo.append(x)\n",
    "combo1 = pd.DataFrame(combo)\n",
    "combo1.rename(columns={0:'key'},inplace=True)\n",
    "combo2 = pd.merge(combo1,ids1,on='key',how='inner')\n",
    "del combo2['key']\n",
    "no_combo1 = pd.DataFrame(no_combo)\n",
    "no_combo1.rename(columns={0:'key'},inplace=True)\n",
    "no_combo2 = pd.merge(no_combo1,ids1,on='key',how='inner')\n",
    "del no_combo2['key']\n",
    "ins_data=pd.DataFrame(insulin_data,columns=['insulin'])\n",
    "ins_data['encounter_id']=data['encounter_id']\n",
    "combo3 = pd.merge(combo2,ins_data,on='encounter_id',how='inner')\n",
    "no_combo3 = pd.merge(no_combo2,ins_data,on='encounter_id',how='inner')\n",
    "no_diabetes = no_combo3[no_combo3['insulin']==0]\n",
    "type1 = no_combo3[no_combo3['insulin']!=0]\n",
    "type2 = combo3[combo3['insulin']==0]\n",
    "t1t2 = combo3[combo3['insulin']!=0]\n",
    "\n",
    "\n",
    "no_diabetes['treatment']=0\n",
    "type1['treatment']=1\n",
    "type2['treatment']=0\n",
    "t1t2['treatment']=1\n",
    "\n",
    "\n",
    "diabetes = pd.merge(drug_d,data1,on='encounter_id',how='inner')\n",
    "\n",
    "\n",
    "\n",
    "#Reading pateint data & one hot encoding the features.\n",
    "patient_data = pd.read_excel('C:/Users/makam/Desktop/Capstone Project/Paitent_details.xlsx')\n",
    "\n",
    "df1 = pd.merge(patient_data,data,on='encounter_id',how='inner')\n",
    "\n",
    "patient_data['race'].replace({'?':'Other'},inplace=True)\n",
    "\n",
    "cont = pd.get_dummies(patient_data['race'],prefix='race',drop_first=False)\n",
    "#Adding the results to the master dataframe\n",
    "patient_data = pd.concat([patient_data,cont],axis=1)\n",
    "del patient_data['race']\n",
    "\n",
    "cont = pd.get_dummies(patient_data['gender'],prefix='gender',drop_first=False)\n",
    "#Adding the results to the master dataframe\n",
    "patient_data = pd.concat([patient_data,cont],axis=1)\n",
    "del patient_data['gender']\n",
    "\n",
    "\n",
    "patient_data['age'].replace({'[70-80)':7,'[60-70)':6,'[50-60)':5,'[80-90)':8,'[40-50)':4,'[30-40)':3,'[90-100)':9,'[20-30)':2,'[10-20)':1,'[0-10)':0},inplace=True)\n",
    "del patient_data['weight']\n",
    "final_diabetes = pd.merge(patient_data,diabetes,on='encounter_id',how='inner')\n",
    "ndc = pd.merge(no_diabetes['encounter_id'],final_diabetes,on='encounter_id',how='inner')\n",
    "t1 = pd.merge(type1['encounter_id'],final_diabetes,on='encounter_id',how='inner')\n",
    "t2= pd.merge(type2['encounter_id'],final_diabetes,on='encounter_id',how='inner')\n",
    "t12 = pd.merge(t1t2['encounter_id'],final_diabetes,on='encounter_id',how='inner')\n",
    "\n",
    "ndc['treatment']=0\n",
    "t1['treatment']=1\n",
    "t2['treatment']=0\n",
    "t12['treatment']=1\n",
    "\n",
    "NDC = pd.merge(no_diabetes[['encounter_id','treatment']],df1,on='encounter_id',how='inner')\n",
    "T1 = pd.merge(type1[['encounter_id','treatment']],df1,on='encounter_id',how='inner')\n",
    "T2= pd.merge(type2[['encounter_id','treatment']],df1,on='encounter_id',how='inner')\n",
    "T12 = pd.merge(t1t2[['encounter_id','treatment']],df1,on='encounter_id',how='inner')\n",
    "\n",
    "diabetes = pd.concat([t1,t2,t12])\n",
    "org_diabetes = pd.concat([NDC,T1,T2,T12])\n",
    "org_diabetes['race'].replace({'?':'Other'},inplace=True)\n",
    "#We can now delete all the drug columns as we have captured the data in treatment column.\n",
    "for x in drugs:\n",
    "    del diabetes[x]"
   ]
  },
  {
   "cell_type": "markdown",
   "metadata": {},
   "source": [
    "# We will now merge admission details data"
   ]
  },
  {
   "cell_type": "code",
   "execution_count": 35,
   "metadata": {
    "scrolled": true
   },
   "outputs": [],
   "source": [
    "d = pd.read_excel('C:/Users/makam/Desktop/Capstone Project/admission_details.xlsx')\n",
    "del d['patient_nbr']\n",
    "#We will do label encoding for the columns.\n",
    "d['payer_code'].replace({'?':'Others'},inplace=True)\n",
    "d['medical_specialty'].replace({'?':'Others'},inplace=True)\n",
    "\n",
    "cont = pd.get_dummies(d['payer_code'],prefix='payer_code',drop_first=False)\n",
    "#Adding the results to the master dataframe\n",
    "d = pd.concat([d,cont],axis=1)\n",
    "del d['payer_code']\n",
    "\n",
    "del d['medical_specialty']\n",
    "\n",
    "cont = pd.get_dummies(d['admission_type_id'],prefix='admission_type_id',drop_first=False)\n",
    "#Adding the results to the master dataframe\n",
    "d = pd.concat([d,cont],axis=1)\n",
    "del d['admission_type_id']\n",
    "\n",
    "cont = pd.get_dummies(d['discharge_disposition_id'],prefix='discharge_disposition_id',drop_first=False)\n",
    "#Adding the results to the master dataframe\n",
    "d = pd.concat([d,cont],axis=1)\n",
    "del d['discharge_disposition_id']\n",
    "\n",
    "cont = pd.get_dummies(d['admission_source_id'],prefix='admission_source_id',drop_first=False)\n",
    "#Adding the results to the master dataframe\n",
    "d = pd.concat([d,cont],axis=1)\n",
    "del d['admission_source_id']\n",
    "\n",
    "\n",
    "diabetes1 = pd.merge(diabetes,d,on='encounter_id',how='inner')"
   ]
  },
  {
   "cell_type": "markdown",
   "metadata": {},
   "source": [
    "# Merging lab session data"
   ]
  },
  {
   "cell_type": "code",
   "execution_count": 36,
   "metadata": {
    "scrolled": true
   },
   "outputs": [],
   "source": [
    "d1 = pd.read_excel('C:/Users/makam/Desktop/Capstone Project/Lab-session.xlsx')\n",
    "diabetes2 = pd.merge(diabetes1,d1,on='encounter_id',how='inner')"
   ]
  },
  {
   "cell_type": "markdown",
   "metadata": {},
   "source": [
    "# Merging diagnosis session data"
   ]
  },
  {
   "cell_type": "code",
   "execution_count": 37,
   "metadata": {
    "scrolled": true
   },
   "outputs": [],
   "source": [
    "dig_d = pd.read_excel('C:/Users/makam/Desktop/Capstone Project/Diagnosis_session.xlsx')\n",
    "'''\n",
    "er = pd.concat([dig_d['diag_1'],dig_d['diag_2'],dig_d['diag_3']],axis=0).tolist()\n",
    "y = 0\n",
    "for x in er:\n",
    "    er[y] = str(x)\n",
    "    y = y+1\n",
    "er1 = pd.DataFrame(er)\n",
    "l = LabelEncoder()\n",
    "l.fit(er1[0])\n",
    "y = 0\n",
    "l1 = dig_d['diag_1'].tolist()\n",
    "l2 = dig_d['diag_2'].tolist()\n",
    "l3 = dig_d['diag_3'].tolist()\n",
    "for x in l1:\n",
    "    l1[y] = str(x)\n",
    "    y = y+1\n",
    "y = 0\n",
    "for x in l2:\n",
    "    l2[y] = str(x)\n",
    "    y = y+1\n",
    "y = 0\n",
    "for x in l3:\n",
    "    l3[y] = str(x)\n",
    "    y = y+1\n",
    "m1 = l.transform(l1).tolist()\n",
    "m2 = l.transform(l2).tolist()\n",
    "m3 = l.transform(l3).tolist()\n",
    "dig_d['diag_1']=m1\n",
    "dig_d['diag_2']=m2\n",
    "dig_d['diag_3']=m3\n",
    "del dig_d['patient_nbr']\n",
    "'''\n",
    "df = pd.merge(diabetes2,dig_d[['encounter_id','number_diagnoses']],on='encounter_id',how='inner')"
   ]
  },
  {
   "cell_type": "code",
   "execution_count": 6,
   "metadata": {
    "scrolled": true
   },
   "outputs": [
    {
     "data": {
      "text/plain": [
       "array(['encounter_id', 'patient_nbr', 'age', 'race_AfricanAmerican',\n",
       "       'race_Asian', 'race_Caucasian', 'race_Hispanic', 'race_Other',\n",
       "       'gender_Female', 'gender_Male', 'gender_Unknown/Invalid',\n",
       "       'diabetesMed', 'max_glu_serum_>200', 'max_glu_serum_>300',\n",
       "       'max_glu_serum_None', 'max_glu_serum_Norm', 'A1Cresult_>7',\n",
       "       'A1Cresult_>8', 'A1Cresult_None', 'A1Cresult_Norm', 'change_Ch',\n",
       "       'change_No', 'readmitted_<30', 'readmitted_>30', 'readmitted_NO',\n",
       "       'treatment', 'time_in_hospital', 'payer_code_BC', 'payer_code_CH',\n",
       "       'payer_code_CM', 'payer_code_CP', 'payer_code_DM', 'payer_code_FR',\n",
       "       'payer_code_HM', 'payer_code_MC', 'payer_code_MD', 'payer_code_MP',\n",
       "       'payer_code_OG', 'payer_code_OT', 'payer_code_Others',\n",
       "       'payer_code_PO', 'payer_code_SI', 'payer_code_SP', 'payer_code_UN',\n",
       "       'payer_code_WC', 'admission_type_id_1', 'admission_type_id_2',\n",
       "       'admission_type_id_3', 'admission_type_id_4',\n",
       "       'admission_type_id_5', 'admission_type_id_6',\n",
       "       'admission_type_id_7', 'admission_type_id_8',\n",
       "       'discharge_disposition_id_1', 'discharge_disposition_id_2',\n",
       "       'discharge_disposition_id_3', 'discharge_disposition_id_4',\n",
       "       'discharge_disposition_id_5', 'discharge_disposition_id_6',\n",
       "       'discharge_disposition_id_7', 'discharge_disposition_id_8',\n",
       "       'discharge_disposition_id_9', 'discharge_disposition_id_10',\n",
       "       'discharge_disposition_id_11', 'discharge_disposition_id_12',\n",
       "       'discharge_disposition_id_13', 'discharge_disposition_id_14',\n",
       "       'discharge_disposition_id_15', 'discharge_disposition_id_16',\n",
       "       'discharge_disposition_id_17', 'discharge_disposition_id_18',\n",
       "       'discharge_disposition_id_19', 'discharge_disposition_id_20',\n",
       "       'discharge_disposition_id_22', 'discharge_disposition_id_23',\n",
       "       'discharge_disposition_id_24', 'discharge_disposition_id_25',\n",
       "       'discharge_disposition_id_27', 'discharge_disposition_id_28',\n",
       "       'admission_source_id_1', 'admission_source_id_2',\n",
       "       'admission_source_id_3', 'admission_source_id_4',\n",
       "       'admission_source_id_5', 'admission_source_id_6',\n",
       "       'admission_source_id_7', 'admission_source_id_8',\n",
       "       'admission_source_id_9', 'admission_source_id_10',\n",
       "       'admission_source_id_11', 'admission_source_id_13',\n",
       "       'admission_source_id_14', 'admission_source_id_17',\n",
       "       'admission_source_id_20', 'admission_source_id_22',\n",
       "       'admission_source_id_25', 'num_lab_procedures', 'num_procedures',\n",
       "       'num_medications', 'number_outpatient', 'number_emergency',\n",
       "       'number_inpatient', 'number_diagnoses'], dtype=object)"
      ]
     },
     "execution_count": 6,
     "metadata": {},
     "output_type": "execute_result"
    }
   ],
   "source": [
    "df.columns.values"
   ]
  },
  {
   "cell_type": "code",
   "execution_count": 38,
   "metadata": {},
   "outputs": [
    {
     "data": {
      "text/plain": [
       "(78363, 103)"
      ]
     },
     "execution_count": 38,
     "metadata": {},
     "output_type": "execute_result"
    }
   ],
   "source": [
    "df.shape"
   ]
  },
  {
   "cell_type": "markdown",
   "metadata": {},
   "source": [
    "# Scaling continous features"
   ]
  },
  {
   "cell_type": "code",
   "execution_count": 39,
   "metadata": {},
   "outputs": [],
   "source": [
    "list1 =['num_lab_procedures',             \n",
    "'num_procedures',            \n",
    "'num_medications',                \n",
    "'number_outpatient',          \n",
    "'number_emergency',            \n",
    "'number_inpatient',           \n",
    "'number_diagnoses']"
   ]
  },
  {
   "cell_type": "code",
   "execution_count": 23,
   "metadata": {},
   "outputs": [],
   "source": [
    "from sklearn.preprocessing import MinMaxScaler\n",
    "le=MinMaxScaler()\n",
    "df[['age','num_lab_procedures',             \n",
    "'num_procedures',            \n",
    "'num_medications',                \n",
    "'number_outpatient',          \n",
    "'number_emergency',            \n",
    "'number_inpatient',           \n",
    "'number_diagnoses']]=le.fit_transform(df[['age','num_lab_procedures',             \n",
    "'num_procedures',            \n",
    "'num_medications',                \n",
    "'number_outpatient',          \n",
    "'number_emergency',            \n",
    "'number_inpatient',           \n",
    "'number_diagnoses']])"
   ]
  },
  {
   "cell_type": "code",
   "execution_count": 61,
   "metadata": {},
   "outputs": [
    {
     "data": {
      "text/plain": [
       "Text(0.5, 1.0, 'Distribution of Treatment')"
      ]
     },
     "execution_count": 61,
     "metadata": {},
     "output_type": "execute_result"
    },
    {
     "data": {
      "image/png": "[encoded data removed]",
      "text/plain": [
       "<Figure size 432x288 with 1 Axes>"
      ]
     },
     "metadata": {
      "needs_background": "light"
     },
     "output_type": "display_data"
    }
   ],
   "source": [
    "# Distribution of Readmission \n",
    "sns.countplot(df['treatment']).set_title('Distribution of Treatment')"
   ]
  },
  {
   "cell_type": "code",
   "execution_count": 10,
   "metadata": {},
   "outputs": [
    {
     "data": {
      "text/plain": [
       "Text(0.5, 1.0, 'Age of Patient VS. Treatment')"
      ]
     },
     "execution_count": 10,
     "metadata": {},
     "output_type": "execute_result"
    },
    {
     "data": {
      "image/png": "[encoded data removed]",
      "text/plain": [
       "<Figure size 1080x360 with 1 Axes>"
      ]
     },
     "metadata": {
      "needs_background": "light"
     },
     "output_type": "display_data"
    }
   ],
   "source": [
    "fig = plt.figure(figsize=(15,5))\n",
    "sns.countplot(x= df['age'], hue = df['treatment']).set_title('Age of Patient VS. Treatment')"
   ]
  },
  {
   "cell_type": "code",
   "execution_count": 65,
   "metadata": {},
   "outputs": [
    {
     "data": {
      "text/plain": [
       "<matplotlib.axes._subplots.AxesSubplot at 0x2ca09c3f160>"
      ]
     },
     "execution_count": 65,
     "metadata": {},
     "output_type": "execute_result"
    },
    {
     "data": {
      "image/png": "[encoded data removed]",
      "text/plain": [
       "<Figure size 576x576 with 1 Axes>"
      ]
     },
     "metadata": {
      "needs_background": "light"
     },
     "output_type": "display_data"
    }
   ],
   "source": [
    "fig = plt.figure(figsize=(8,8))\n",
    "sns.countplot(x = org_diabetes['race'], hue = org_diabetes['treatment'])"
   ]
  },
  {
   "cell_type": "code",
   "execution_count": 47,
   "metadata": {},
   "outputs": [
    {
     "data": {
      "text/plain": [
       "Text(0.5, 1.0, 'Number of medication used VS. Treatment')"
      ]
     },
     "execution_count": 47,
     "metadata": {},
     "output_type": "execute_result"
    },
    {
     "data": {
      "image/png": "[encoded data removed]",
      "text/plain": [
       "<Figure size 576x576 with 1 Axes>"
      ]
     },
     "metadata": {
      "needs_background": "light"
     },
     "output_type": "display_data"
    }
   ],
   "source": [
    "fig = plt.figure(figsize=(8,8))\n",
    "sns.barplot(x = df['treatment'], y = (df['num_medications'])).set_title(\"Number of medication used VS. Treatment\")"
   ]
  },
  {
   "cell_type": "code",
   "execution_count": 14,
   "metadata": {},
   "outputs": [
    {
     "data": {
      "text/plain": [
       "Text(0.5, 1.0, 'Glucose test serum test result VS. Treatment')"
      ]
     },
     "execution_count": 14,
     "metadata": {},
     "output_type": "execute_result"
    },
    {
     "data": {
      "image/png": "[encoded data removed]",
      "text/plain": [
       "<Figure size 576x576 with 1 Axes>"
      ]
     },
     "metadata": {
      "needs_background": "light"
     },
     "output_type": "display_data"
    }
   ],
   "source": [
    "fig = plt.figure(figsize=(8,8))\n",
    "sns.countplot(x = org_diabetes['max_glu_serum'], hue = org_diabetes['treatment']).set_title('Glucose test serum test result VS. Treatment')                                                                                                                                                                                                         "
   ]
  },
  {
   "cell_type": "code",
   "execution_count": 16,
   "metadata": {},
   "outputs": [
    {
     "data": {
      "text/plain": [
       "Text(0.5, 1.0, 'A1C test result VS. Treatment')"
      ]
     },
     "execution_count": 16,
     "metadata": {},
     "output_type": "execute_result"
    },
    {
     "data": {
      "image/png": "[encoded data removed]",
      "text/plain": [
       "<Figure size 576x576 with 1 Axes>"
      ]
     },
     "metadata": {
      "needs_background": "light"
     },
     "output_type": "display_data"
    }
   ],
   "source": [
    "fig = plt.figure(figsize=(8,8))\n",
    "sns.countplot(x= org_diabetes['A1Cresult'], hue = org_diabetes['treatment']).set_title('A1C test result VS. Treatment')"
   ]
  },
  {
   "cell_type": "code",
   "execution_count": 17,
   "metadata": {},
   "outputs": [
    {
     "data": {
      "text/plain": [
       "Text(0.5, 1.0, 'readmission VS. Treatment')"
      ]
     },
     "execution_count": 17,
     "metadata": {},
     "output_type": "execute_result"
    },
    {
     "data": {
      "image/png": "[encoded data removed]",
      "text/plain": [
       "<Figure size 576x576 with 1 Axes>"
      ]
     },
     "metadata": {
      "needs_background": "light"
     },
     "output_type": "display_data"
    }
   ],
   "source": [
    "fig = plt.figure(figsize=(8,8))\n",
    "sns.countplot(x= org_diabetes['treatment'], hue = org_diabetes['readmitted']).set_title('readmission VS. Treatment')"
   ]
  },
  {
   "cell_type": "code",
   "execution_count": 24,
   "metadata": {},
   "outputs": [
    {
     "data": {
      "text/plain": [
       "Text(0.5, 1.0, 'Number of lab procedure VS. Treatment')"
      ]
     },
     "execution_count": 24,
     "metadata": {},
     "output_type": "execute_result"
    },
    {
     "data": {
      "image/png": "[encoded data removed]",
      "text/plain": [
       "<Figure size 1080x432 with 1 Axes>"
      ]
     },
     "metadata": {
      "needs_background": "light"
     },
     "output_type": "display_data"
    }
   ],
   "source": [
    "fig = plt.figure(figsize=(15,6),)\n",
    "ax=sns.kdeplot(df.loc[(df['treatment'] == 0),'num_lab_procedures'] , color='b',shade=True,label='No Insulin')\n",
    "ax=sns.kdeplot(df.loc[(df['treatment'] == 1),'num_lab_procedures'] , color='r',shade=True, label='Insulin Present')\n",
    "ax.set(xlabel='Number of lab procedure', ylabel='Frequency')\n",
    "plt.title('Number of lab procedure VS. Treatment')"
   ]
  },
  {
   "cell_type": "code",
   "execution_count": 25,
   "metadata": {},
   "outputs": [
    {
     "data": {
      "text/plain": [
       "Text(0.5, 1.0, 'Time in Hospital VS. Treatment')"
      ]
     },
     "execution_count": 25,
     "metadata": {},
     "output_type": "execute_result"
    },
    {
     "data": {
      "image/png": "[encoded data removed]",
      "text/plain": [
       "<Figure size 936x504 with 1 Axes>"
      ]
     },
     "metadata": {
      "needs_background": "light"
     },
     "output_type": "display_data"
    }
   ],
   "source": [
    "fig = plt.figure(figsize=(13,7),)\n",
    "ax=sns.kdeplot(df.loc[(df['treatment'] == 0),'time_in_hospital'] , color='b',shade=True,label='No Insulin')\n",
    "ax=sns.kdeplot(df.loc[(df['treatment'] == 1),'time_in_hospital'] , color='r',shade=True, label='Insulin present')\n",
    "ax.set(xlabel='Time in Hospital', ylabel='Frequency')\n",
    "plt.title('Time in Hospital VS. Treatment')"
   ]
  },
  {
   "cell_type": "code",
   "execution_count": 26,
   "metadata": {
    "scrolled": false
   },
   "outputs": [
    {
     "data": {
      "text/plain": [
       "Text(0.5, 1.0, 'number_diagnoses VS. Treatment')"
      ]
     },
     "execution_count": 26,
     "metadata": {},
     "output_type": "execute_result"
    },
    {
     "data": {
      "image/png": "[encoded data removed]",
      "text/plain": [
       "<Figure size 1080x360 with 1 Axes>"
      ]
     },
     "metadata": {
      "needs_background": "light"
     },
     "output_type": "display_data"
    }
   ],
   "source": [
    "fig = plt.figure(figsize=(15,5),)\n",
    "ax=sns.kdeplot(df.loc[(df['treatment'] == 0),'number_diagnoses'] , color='b',shade=True,label='No Insulin')\n",
    "ax=sns.kdeplot(df.loc[(df['treatment'] == 1),'number_diagnoses'] , color='r',shade=True, label='Insulin present')\n",
    "ax.set(xlabel='number_diagnoses', ylabel='Frequency')\n",
    "plt.title('number_diagnoses VS. Treatment')"
   ]
  },
  {
   "cell_type": "code",
   "execution_count": 27,
   "metadata": {},
   "outputs": [
    {
     "data": {
      "text/plain": [
       "Text(0.5, 1.0, 'num_medications VS. Treatment')"
      ]
     },
     "execution_count": 27,
     "metadata": {},
     "output_type": "execute_result"
    },
    {
     "data": {
      "image/png": "[encoded data removed]",
      "text/plain": [
       "<Figure size 1080x360 with 1 Axes>"
      ]
     },
     "metadata": {
      "needs_background": "light"
     },
     "output_type": "display_data"
    }
   ],
   "source": [
    "fig = plt.figure(figsize=(15,5),)\n",
    "ax=sns.kdeplot(df.loc[(df['treatment'] == 0),'num_medications'] , color='b',shade=True,label='No Insulin')\n",
    "ax=sns.kdeplot(df.loc[(df['treatment'] == 1),'num_medications'] , color='r',shade=True, label='Insulin present')\n",
    "ax.set(xlabel='number_diagnoses', ylabel='Frequency')\n",
    "plt.title('num_medications VS. Treatment')"
   ]
  },
  {
   "cell_type": "code",
   "execution_count": 24,
   "metadata": {},
   "outputs": [
    {
     "data": {
      "text/plain": [
       "Text(0.5, 1.0, 'number_diagnoses VS. Treatment')"
      ]
     },
     "execution_count": 24,
     "metadata": {},
     "output_type": "execute_result"
    },
    {
     "data": {
      "image/png": "[encoded data removed]",
      "text/plain": [
       "<Figure size 1080x360 with 1 Axes>"
      ]
     },
     "metadata": {
      "needs_background": "light"
     },
     "output_type": "display_data"
    }
   ],
   "source": [
    "fig = plt.figure(figsize=(15,5),)\n",
    "ax=sns.kdeplot(df.loc[(df['treatment'] == 0),'number_diagnoses'] , color='b',shade=True,label='No Insulin')\n",
    "ax=sns.kdeplot(df.loc[(df['treatment'] == 1),'number_diagnoses'] , color='r',shade=True, label='Insulin present')\n",
    "ax.set(xlabel='number_diagnoses', ylabel='Frequency')\n",
    "plt.title('number_diagnoses VS. Treatment')"
   ]
  },
  {
   "cell_type": "code",
   "execution_count": 25,
   "metadata": {
    "scrolled": true
   },
   "outputs": [
    {
     "data": {
      "text/plain": [
       "array(['encounter_id', 'patient_nbr', 'age', 'race_?',\n",
       "       'race_AfricanAmerican', 'race_Asian', 'race_Caucasian',\n",
       "       'race_Hispanic', 'race_Other', 'gender_Female', 'gender_Male',\n",
       "       'gender_Unknown/Invalid', 'diabetesMed', 'max_glu_serum_>200',\n",
       "       'max_glu_serum_>300', 'max_glu_serum_None', 'max_glu_serum_Norm',\n",
       "       'A1Cresult_>7', 'A1Cresult_>8', 'A1Cresult_None', 'A1Cresult_Norm',\n",
       "       'change_Ch', 'change_No', 'readmitted_<30', 'readmitted_>30',\n",
       "       'readmitted_NO', 'treatment', 'time_in_hospital', 'payer_code_BC',\n",
       "       'payer_code_CH', 'payer_code_CM', 'payer_code_CP', 'payer_code_DM',\n",
       "       'payer_code_FR', 'payer_code_HM', 'payer_code_MC', 'payer_code_MD',\n",
       "       'payer_code_MP', 'payer_code_OG', 'payer_code_OT',\n",
       "       'payer_code_Others', 'payer_code_PO', 'payer_code_SI',\n",
       "       'payer_code_SP', 'payer_code_UN', 'payer_code_WC',\n",
       "       'admission_type_id_1', 'admission_type_id_2',\n",
       "       'admission_type_id_3', 'admission_type_id_4',\n",
       "       'admission_type_id_5', 'admission_type_id_6',\n",
       "       'admission_type_id_7', 'admission_type_id_8',\n",
       "       'discharge_disposition_id_1', 'discharge_disposition_id_2',\n",
       "       'discharge_disposition_id_3', 'discharge_disposition_id_4',\n",
       "       'discharge_disposition_id_5', 'discharge_disposition_id_6',\n",
       "       'discharge_disposition_id_7', 'discharge_disposition_id_8',\n",
       "       'discharge_disposition_id_9', 'discharge_disposition_id_10',\n",
       "       'discharge_disposition_id_11', 'discharge_disposition_id_12',\n",
       "       'discharge_disposition_id_13', 'discharge_disposition_id_14',\n",
       "       'discharge_disposition_id_15', 'discharge_disposition_id_16',\n",
       "       'discharge_disposition_id_17', 'discharge_disposition_id_18',\n",
       "       'discharge_disposition_id_19', 'discharge_disposition_id_20',\n",
       "       'discharge_disposition_id_22', 'discharge_disposition_id_23',\n",
       "       'discharge_disposition_id_24', 'discharge_disposition_id_25',\n",
       "       'discharge_disposition_id_27', 'discharge_disposition_id_28',\n",
       "       'admission_source_id_1', 'admission_source_id_2',\n",
       "       'admission_source_id_3', 'admission_source_id_4',\n",
       "       'admission_source_id_5', 'admission_source_id_6',\n",
       "       'admission_source_id_7', 'admission_source_id_8',\n",
       "       'admission_source_id_9', 'admission_source_id_10',\n",
       "       'admission_source_id_11', 'admission_source_id_13',\n",
       "       'admission_source_id_14', 'admission_source_id_17',\n",
       "       'admission_source_id_20', 'admission_source_id_22',\n",
       "       'admission_source_id_25', 'num_lab_procedures', 'num_procedures',\n",
       "       'num_medications', 'number_outpatient', 'number_emergency',\n",
       "       'number_inpatient', 'number_diagnoses'], dtype=object)"
      ]
     },
     "execution_count": 25,
     "metadata": {},
     "output_type": "execute_result"
    }
   ],
   "source": [
    "df.columns.values"
   ]
  },
  {
   "cell_type": "markdown",
   "metadata": {},
   "source": [
    "# Performing chi-square analysis to identify imp features"
   ]
  },
  {
   "cell_type": "code",
   "execution_count": 8,
   "metadata": {},
   "outputs": [],
   "source": [
    "import scipy.stats as stats\n",
    "from scipy.stats import chi2_contingency\n",
    "class ChiSquare:\n",
    "    def __init__(self, dataframe):\n",
    "        self.df = dataframe\n",
    "        self.p = None #P-Value\n",
    "        self.chi2 = None #Chi Test Statistic\n",
    "        self.dof = None\n",
    "        \n",
    "        self.dfObserved = None\n",
    "        self.dfExpected = None\n",
    "        \n",
    "    def _print_chisquare_result(self, colX, alpha):\n",
    "        result = \"\"\n",
    "        if self.p<alpha:\n",
    "            result=\"{0} is IMPORTANT for Prediction\".format(colX)\n",
    "        else:\n",
    "            result=\"{0} is NOT an important predictor. (Discard {0} from model)\".format(colX)\n",
    "\n",
    "        print(result)\n",
    "        \n",
    "    def TestIndependence(self,colX,colY, alpha=0.05):\n",
    "        X = self.df[colX].astype(str)\n",
    "        Y = self.df[colY].astype(str)\n",
    "        \n",
    "        self.dfObserved = pd.crosstab(Y,X) \n",
    "        chi2, p, dof, expected = stats.chi2_contingency(self.dfObserved.values)\n",
    "        self.p = p\n",
    "        self.chi2 = chi2\n",
    "        self.dof = dof \n",
    "        \n",
    "        self.dfExpected = pd.DataFrame(expected, columns=self.dfObserved.columns, index = self.dfObserved.index)\n",
    "        \n",
    "        self._print_chisquare_result(colX,alpha)"
   ]
  },
  {
   "cell_type": "code",
   "execution_count": 9,
   "metadata": {
    "scrolled": true
   },
   "outputs": [],
   "source": [
    "cT = ChiSquare(df)\n",
    "#Feature Selection\n",
    "testColumns = diabetes2.columns.values.tolist()\n",
    "testColumns.remove('treatment')"
   ]
  },
  {
   "cell_type": "code",
   "execution_count": 10,
   "metadata": {
    "scrolled": true
   },
   "outputs": [
    {
     "name": "stdout",
     "output_type": "stream",
     "text": [
      "encounter_id is NOT an important predictor. (Discard encounter_id from model)\n",
      "patient_nbr is IMPORTANT for Prediction\n",
      "age is IMPORTANT for Prediction\n",
      "race_AfricanAmerican is IMPORTANT for Prediction\n",
      "race_Asian is IMPORTANT for Prediction\n",
      "race_Caucasian is IMPORTANT for Prediction\n",
      "race_Hispanic is NOT an important predictor. (Discard race_Hispanic from model)\n",
      "race_Other is IMPORTANT for Prediction\n",
      "gender_Female is IMPORTANT for Prediction\n",
      "gender_Male is IMPORTANT for Prediction\n",
      "gender_Unknown/Invalid is NOT an important predictor. (Discard gender_Unknown/Invalid from model)\n",
      "diabetesMed is NOT an important predictor. (Discard diabetesMed from model)\n",
      "max_glu_serum_>200 is IMPORTANT for Prediction\n",
      "max_glu_serum_>300 is IMPORTANT for Prediction\n",
      "max_glu_serum_None is IMPORTANT for Prediction\n",
      "max_glu_serum_Norm is IMPORTANT for Prediction\n",
      "A1Cresult_>7 is NOT an important predictor. (Discard A1Cresult_>7 from model)\n",
      "A1Cresult_>8 is IMPORTANT for Prediction\n",
      "A1Cresult_None is IMPORTANT for Prediction\n",
      "A1Cresult_Norm is IMPORTANT for Prediction\n",
      "change_Ch is IMPORTANT for Prediction\n",
      "change_No is IMPORTANT for Prediction\n",
      "readmitted_<30 is IMPORTANT for Prediction\n",
      "readmitted_>30 is NOT an important predictor. (Discard readmitted_>30 from model)\n",
      "readmitted_NO is IMPORTANT for Prediction\n",
      "time_in_hospital is IMPORTANT for Prediction\n",
      "payer_code_BC is IMPORTANT for Prediction\n",
      "payer_code_CH is IMPORTANT for Prediction\n",
      "payer_code_CM is IMPORTANT for Prediction\n",
      "payer_code_CP is NOT an important predictor. (Discard payer_code_CP from model)\n",
      "payer_code_DM is IMPORTANT for Prediction\n",
      "payer_code_FR is NOT an important predictor. (Discard payer_code_FR from model)\n",
      "payer_code_HM is IMPORTANT for Prediction\n",
      "payer_code_MC is IMPORTANT for Prediction\n",
      "payer_code_MD is IMPORTANT for Prediction\n",
      "payer_code_MP is IMPORTANT for Prediction\n",
      "payer_code_OG is IMPORTANT for Prediction\n",
      "payer_code_OT is NOT an important predictor. (Discard payer_code_OT from model)\n",
      "payer_code_Others is IMPORTANT for Prediction\n",
      "payer_code_PO is IMPORTANT for Prediction\n",
      "payer_code_SI is IMPORTANT for Prediction\n",
      "payer_code_SP is IMPORTANT for Prediction\n",
      "payer_code_UN is IMPORTANT for Prediction\n",
      "payer_code_WC is NOT an important predictor. (Discard payer_code_WC from model)\n",
      "admission_type_id_1 is IMPORTANT for Prediction\n",
      "admission_type_id_2 is IMPORTANT for Prediction\n",
      "admission_type_id_3 is IMPORTANT for Prediction\n",
      "admission_type_id_4 is NOT an important predictor. (Discard admission_type_id_4 from model)\n",
      "admission_type_id_5 is IMPORTANT for Prediction\n",
      "admission_type_id_6 is IMPORTANT for Prediction\n",
      "admission_type_id_7 is IMPORTANT for Prediction\n",
      "admission_type_id_8 is IMPORTANT for Prediction\n",
      "discharge_disposition_id_1 is IMPORTANT for Prediction\n",
      "discharge_disposition_id_2 is NOT an important predictor. (Discard discharge_disposition_id_2 from model)\n",
      "discharge_disposition_id_3 is IMPORTANT for Prediction\n",
      "discharge_disposition_id_4 is IMPORTANT for Prediction\n",
      "discharge_disposition_id_5 is IMPORTANT for Prediction\n",
      "discharge_disposition_id_6 is IMPORTANT for Prediction\n",
      "discharge_disposition_id_7 is IMPORTANT for Prediction\n",
      "discharge_disposition_id_8 is IMPORTANT for Prediction\n",
      "discharge_disposition_id_9 is NOT an important predictor. (Discard discharge_disposition_id_9 from model)\n",
      "discharge_disposition_id_10 is NOT an important predictor. (Discard discharge_disposition_id_10 from model)\n",
      "discharge_disposition_id_11 is IMPORTANT for Prediction\n",
      "discharge_disposition_id_12 is NOT an important predictor. (Discard discharge_disposition_id_12 from model)\n",
      "discharge_disposition_id_13 is IMPORTANT for Prediction\n",
      "discharge_disposition_id_14 is IMPORTANT for Prediction\n",
      "discharge_disposition_id_15 is IMPORTANT for Prediction\n",
      "discharge_disposition_id_16 is NOT an important predictor. (Discard discharge_disposition_id_16 from model)\n",
      "discharge_disposition_id_17 is NOT an important predictor. (Discard discharge_disposition_id_17 from model)\n",
      "discharge_disposition_id_18 is IMPORTANT for Prediction\n",
      "discharge_disposition_id_19 is NOT an important predictor. (Discard discharge_disposition_id_19 from model)\n",
      "discharge_disposition_id_20 is NOT an important predictor. (Discard discharge_disposition_id_20 from model)\n",
      "discharge_disposition_id_22 is NOT an important predictor. (Discard discharge_disposition_id_22 from model)\n",
      "discharge_disposition_id_23 is IMPORTANT for Prediction\n",
      "discharge_disposition_id_24 is NOT an important predictor. (Discard discharge_disposition_id_24 from model)\n",
      "discharge_disposition_id_25 is IMPORTANT for Prediction\n",
      "discharge_disposition_id_27 is NOT an important predictor. (Discard discharge_disposition_id_27 from model)\n",
      "discharge_disposition_id_28 is NOT an important predictor. (Discard discharge_disposition_id_28 from model)\n",
      "admission_source_id_1 is IMPORTANT for Prediction\n",
      "admission_source_id_2 is IMPORTANT for Prediction\n",
      "admission_source_id_3 is IMPORTANT for Prediction\n",
      "admission_source_id_4 is IMPORTANT for Prediction\n",
      "admission_source_id_5 is IMPORTANT for Prediction\n",
      "admission_source_id_6 is NOT an important predictor. (Discard admission_source_id_6 from model)\n",
      "admission_source_id_7 is IMPORTANT for Prediction\n",
      "admission_source_id_8 is NOT an important predictor. (Discard admission_source_id_8 from model)\n",
      "admission_source_id_9 is IMPORTANT for Prediction\n",
      "admission_source_id_10 is NOT an important predictor. (Discard admission_source_id_10 from model)\n",
      "admission_source_id_11 is NOT an important predictor. (Discard admission_source_id_11 from model)\n",
      "admission_source_id_13 is NOT an important predictor. (Discard admission_source_id_13 from model)\n",
      "admission_source_id_14 is NOT an important predictor. (Discard admission_source_id_14 from model)\n",
      "admission_source_id_17 is IMPORTANT for Prediction\n",
      "admission_source_id_20 is IMPORTANT for Prediction\n",
      "admission_source_id_22 is NOT an important predictor. (Discard admission_source_id_22 from model)\n",
      "admission_source_id_25 is NOT an important predictor. (Discard admission_source_id_25 from model)\n",
      "num_lab_procedures is IMPORTANT for Prediction\n",
      "num_procedures is IMPORTANT for Prediction\n",
      "num_medications is IMPORTANT for Prediction\n",
      "number_outpatient is IMPORTANT for Prediction\n",
      "number_emergency is IMPORTANT for Prediction\n",
      "number_inpatient is IMPORTANT for Prediction\n"
     ]
    }
   ],
   "source": [
    "for var in testColumns:\n",
    "    cT.TestIndependence(colX=var,colY=\"treatment\" )"
   ]
  },
  {
   "cell_type": "code",
   "execution_count": 40,
   "metadata": {},
   "outputs": [],
   "source": [
    "list = ['encounter_id','patient_nbr',\n",
    "       'race_Hispanic', \n",
    "       'gender_Unknown/Invalid', 'diabetesMed', \n",
    "       'A1Cresult_>7',  'readmitted_>30',\n",
    "        'payer_code_CP', \n",
    "       'payer_code_FR',  'payer_code_OT',\n",
    "        'payer_code_WC',\n",
    "        'admission_type_id_4',\n",
    "        'discharge_disposition_id_2',\n",
    "       \n",
    "       'discharge_disposition_id_9', 'discharge_disposition_id_10'\n",
    "       , 'discharge_disposition_id_12',\n",
    "        'discharge_disposition_id_16',\n",
    "       'discharge_disposition_id_17',\n",
    "       'discharge_disposition_id_19', 'discharge_disposition_id_20',\n",
    "       'discharge_disposition_id_22', \n",
    "       'discharge_disposition_id_24', \n",
    "       'discharge_disposition_id_27', 'discharge_disposition_id_28',\n",
    "        'admission_source_id_6',\n",
    "       'admission_source_id_8',\n",
    "        'admission_source_id_10',\n",
    "       'admission_source_id_11', 'admission_source_id_13',\n",
    "       'admission_source_id_14','admission_source_id_22',\n",
    "       'admission_source_id_25']"
   ]
  },
  {
   "cell_type": "code",
   "execution_count": 41,
   "metadata": {},
   "outputs": [],
   "source": [
    "for x in list:\n",
    "    del df[x]"
   ]
  },
  {
   "cell_type": "code",
   "execution_count": 43,
   "metadata": {},
   "outputs": [
    {
     "data": {
      "text/plain": [
       "(78363, 71)"
      ]
     },
     "execution_count": 43,
     "metadata": {},
     "output_type": "execute_result"
    }
   ],
   "source": [
    "df.shape"
   ]
  },
  {
   "cell_type": "code",
   "execution_count": 19,
   "metadata": {
    "scrolled": true
   },
   "outputs": [
    {
     "name": "stdout",
     "output_type": "stream",
     "text": [
      "<class 'pandas.core.frame.DataFrame'>\n",
      "Int64Index: 78363 entries, 0 to 78362\n",
      "Data columns (total 71 columns):\n",
      "age                            78363 non-null int64\n",
      "race_AfricanAmerican           78363 non-null uint8\n",
      "race_Asian                     78363 non-null uint8\n",
      "race_Caucasian                 78363 non-null uint8\n",
      "race_Other                     78363 non-null uint8\n",
      "gender_Female                  78363 non-null uint8\n",
      "gender_Male                    78363 non-null uint8\n",
      "max_glu_serum_>200             78363 non-null uint8\n",
      "max_glu_serum_>300             78363 non-null uint8\n",
      "max_glu_serum_None             78363 non-null uint8\n",
      "max_glu_serum_Norm             78363 non-null uint8\n",
      "A1Cresult_>8                   78363 non-null uint8\n",
      "A1Cresult_None                 78363 non-null uint8\n",
      "A1Cresult_Norm                 78363 non-null uint8\n",
      "change_Ch                      78363 non-null uint8\n",
      "change_No                      78363 non-null uint8\n",
      "readmitted_<30                 78363 non-null uint8\n",
      "readmitted_NO                  78363 non-null uint8\n",
      "treatment                      78363 non-null int64\n",
      "time_in_hospital               78363 non-null int64\n",
      "payer_code_BC                  78363 non-null uint8\n",
      "payer_code_CH                  78363 non-null uint8\n",
      "payer_code_CM                  78363 non-null uint8\n",
      "payer_code_DM                  78363 non-null uint8\n",
      "payer_code_HM                  78363 non-null uint8\n",
      "payer_code_MC                  78363 non-null uint8\n",
      "payer_code_MD                  78363 non-null uint8\n",
      "payer_code_MP                  78363 non-null uint8\n",
      "payer_code_OG                  78363 non-null uint8\n",
      "payer_code_Others              78363 non-null uint8\n",
      "payer_code_PO                  78363 non-null uint8\n",
      "payer_code_SI                  78363 non-null uint8\n",
      "payer_code_SP                  78363 non-null uint8\n",
      "payer_code_UN                  78363 non-null uint8\n",
      "admission_type_id_1            78363 non-null uint8\n",
      "admission_type_id_2            78363 non-null uint8\n",
      "admission_type_id_3            78363 non-null uint8\n",
      "admission_type_id_5            78363 non-null uint8\n",
      "admission_type_id_6            78363 non-null uint8\n",
      "admission_type_id_7            78363 non-null uint8\n",
      "admission_type_id_8            78363 non-null uint8\n",
      "discharge_disposition_id_1     78363 non-null uint8\n",
      "discharge_disposition_id_3     78363 non-null uint8\n",
      "discharge_disposition_id_4     78363 non-null uint8\n",
      "discharge_disposition_id_5     78363 non-null uint8\n",
      "discharge_disposition_id_6     78363 non-null uint8\n",
      "discharge_disposition_id_7     78363 non-null uint8\n",
      "discharge_disposition_id_8     78363 non-null uint8\n",
      "discharge_disposition_id_11    78363 non-null uint8\n",
      "discharge_disposition_id_13    78363 non-null uint8\n",
      "discharge_disposition_id_14    78363 non-null uint8\n",
      "discharge_disposition_id_15    78363 non-null uint8\n",
      "discharge_disposition_id_18    78363 non-null uint8\n",
      "discharge_disposition_id_23    78363 non-null uint8\n",
      "discharge_disposition_id_25    78363 non-null uint8\n",
      "admission_source_id_1          78363 non-null uint8\n",
      "admission_source_id_2          78363 non-null uint8\n",
      "admission_source_id_3          78363 non-null uint8\n",
      "admission_source_id_4          78363 non-null uint8\n",
      "admission_source_id_5          78363 non-null uint8\n",
      "admission_source_id_7          78363 non-null uint8\n",
      "admission_source_id_9          78363 non-null uint8\n",
      "admission_source_id_17         78363 non-null uint8\n",
      "admission_source_id_20         78363 non-null uint8\n",
      "num_lab_procedures             78363 non-null int64\n",
      "num_procedures                 78363 non-null int64\n",
      "num_medications                78363 non-null int64\n",
      "number_outpatient              78363 non-null int64\n",
      "number_emergency               78363 non-null int64\n",
      "number_inpatient               78363 non-null int64\n",
      "number_diagnoses               78363 non-null int64\n",
      "dtypes: int64(10), uint8(61)\n",
      "memory usage: 11.1 MB\n"
     ]
    }
   ],
   "source": [
    "df.info()"
   ]
  },
  {
   "cell_type": "code",
   "execution_count": 44,
   "metadata": {},
   "outputs": [],
   "source": [
    "from sklearn.model_selection import train_test_split\n",
    "from sklearn.linear_model import LogisticRegression\n",
    "from sklearn.neighbors import KNeighborsClassifier\n",
    "from sklearn.naive_bayes import MultinomialNB,GaussianNB,BernoulliNB\n",
    "from sklearn.tree import DecisionTreeClassifier\n",
    "from sklearn.ensemble import RandomForestClassifier\n",
    "from sklearn.metrics import accuracy_score,confusion_matrix,classification_report\n",
    "from sklearn.model_selection import GridSearchCV"
   ]
  },
  {
   "cell_type": "markdown",
   "metadata": {},
   "source": [
    "# Building base model"
   ]
  },
  {
   "cell_type": "markdown",
   "metadata": {},
   "source": [
    "# Random Forest Classifier"
   ]
  },
  {
   "cell_type": "code",
   "execution_count": 48,
   "metadata": {},
   "outputs": [
    {
     "name": "stdout",
     "output_type": "stream",
     "text": [
      "RandomForestClassifier(bootstrap=True, class_weight=None, criterion='gini',\n",
      "            max_depth=None, max_features='auto', max_leaf_nodes=None,\n",
      "            min_impurity_decrease=0.0, min_impurity_split=None,\n",
      "            min_samples_leaf=1, min_samples_split=2,\n",
      "            min_weight_fraction_leaf=0.0, n_estimators=10, n_jobs=None,\n",
      "            oob_score=False, random_state=None, verbose=0,\n",
      "            warm_start=False)\n",
      "Testing set accuracy\n",
      "0.7236802926538772\n",
      "[[ 3649  3620]\n",
      " [ 2876 13364]]\n",
      "Training set accuracy\n",
      "0.9899551536806797\n",
      "[[16463   248]\n",
      " [  303 37840]]\n"
     ]
    }
   ],
   "source": [
    "x = df.drop('treatment',axis=1)\n",
    "y = df['treatment']\n",
    "m1 = RandomForestClassifier()\n",
    "print(model5)\n",
    "xtrain,xtest,ytrain,ytest = train_test_split(x,y,test_size=0.3,random_state=100)\n",
    "model5.fit(xtrain,ytrain)\n",
    "y_pred_test= model5.predict(xtest)\n",
    "from sklearn.metrics import *\n",
    "print('Testing set accuracy')\n",
    "print(accuracy_score(ytest, y_pred_test))\n",
    "print(confusion_matrix(ytest,y_pred_test))\n",
    "y_pred_train = model5.predict(xtrain)\n",
    "print('Training set accuracy')\n",
    "print(accuracy_score(ytrain, y_pred_train))\n",
    "print(confusion_matrix(ytrain,y_pred_train))"
   ]
  },
  {
   "cell_type": "markdown",
   "metadata": {},
   "source": [
    "# Decision Tree Classifier"
   ]
  },
  {
   "cell_type": "code",
   "execution_count": 49,
   "metadata": {},
   "outputs": [
    {
     "name": "stdout",
     "output_type": "stream",
     "text": [
      "Training Accuracy : 0.9999817697888942\n",
      "Testing Accuracy : 0.6697860393891701\n",
      "              precision    recall  f1-score   support\n",
      "\n",
      "           0       0.47      0.47      0.47      7269\n",
      "           1       0.76      0.76      0.76     16240\n",
      "\n",
      "   micro avg       0.67      0.67      0.67     23509\n",
      "   macro avg       0.61      0.62      0.61     23509\n",
      "weighted avg       0.67      0.67      0.67     23509\n",
      "\n"
     ]
    }
   ],
   "source": [
    "m2 = DecisionTreeClassifier()\n",
    "m2.fit(xtrain,ytrain)\n",
    "y_pred_dt=m4.predict(xtest)\n",
    "Train_Score_dt = m2.score(xtrain,ytrain)\n",
    "Test_Score_dt = accuracy_score(ytest,y_pred_dt)\n",
    "\n",
    "print('Training Accuracy :',Train_Score_dt)\n",
    "print('Testing Accuracy :',Test_Score_dt)\n",
    "print(classification_report(ytest,y_pred_dt))"
   ]
  },
  {
   "cell_type": "markdown",
   "metadata": {},
   "source": [
    "# KNeighbor Classifier"
   ]
  },
  {
   "cell_type": "code",
   "execution_count": 51,
   "metadata": {},
   "outputs": [
    {
     "name": "stdout",
     "output_type": "stream",
     "text": [
      "Training Accuracy is: 0.7842819119845408\n",
      "Testing Accuracy is: 0.6827597941214003\n",
      "              precision    recall  f1-score   support\n",
      "\n",
      "           0       0.48      0.33      0.39      7269\n",
      "           1       0.74      0.84      0.79     16240\n",
      "\n",
      "   micro avg       0.68      0.68      0.68     23509\n",
      "   macro avg       0.61      0.59      0.59     23509\n",
      "weighted avg       0.66      0.68      0.66     23509\n",
      "\n"
     ]
    }
   ],
   "source": [
    "#KNeigborsClassifier\n",
    "\n",
    "m3=KNeighborsClassifier()\n",
    "m3.fit(xtrain,ytrain)\n",
    "y_pred_lr=m3.predict(xtest)\n",
    "Train_Score_lr = m3.score(xtrain,ytrain)\n",
    "Test_Score_lr = accuracy_score(ytest,y_pred_lr)\n",
    "\n",
    "\n",
    "print('Training Accuracy is:',Train_Score_lr)\n",
    "print('Testing Accuracy is:',Test_Score_lr)\n",
    "print(classification_report(ytest,y_pred_lr))"
   ]
  },
  {
   "cell_type": "markdown",
   "metadata": {},
   "source": [
    "# Naive Bayes Classifier"
   ]
  },
  {
   "cell_type": "code",
   "execution_count": 53,
   "metadata": {},
   "outputs": [
    {
     "name": "stdout",
     "output_type": "stream",
     "text": [
      "Training Accuracy : 0.7072592700623473\n",
      "Testing Accuracy  : 0.7133863626696159\n",
      "              precision    recall  f1-score   support\n",
      "\n",
      "           0       0.54      0.55      0.54      7269\n",
      "           1       0.80      0.79      0.79     16240\n",
      "\n",
      "   micro avg       0.71      0.71      0.71     23509\n",
      "   macro avg       0.67      0.67      0.67     23509\n",
      "weighted avg       0.72      0.71      0.71     23509\n",
      "\n"
     ]
    }
   ],
   "source": [
    "m4=BernoulliNB()\n",
    "m4.fit(xtrain,ytrain)\n",
    "print(m4)\n",
    "y_pred_bnb=m4.predict(xtest)\n",
    "Train_Score_bnb = m4.score(xtrain,ytrain)\n",
    "Test_Score_bnb = accuracy_score(ytest,y_pred_bnb)\n",
    "\n",
    "print('Training Accuracy :',Train_Score_bnb)\n",
    "print('Testing Accuracy  :',Test_Score_bnb)\n",
    "print(classification_report(ytest,y_pred_bnb))"
   ]
  },
  {
   "cell_type": "markdown",
   "metadata": {},
   "source": [
    "# Tuning Base Estimators"
   ]
  },
  {
   "cell_type": "markdown",
   "metadata": {},
   "source": [
    "# Tuning Decision Tree"
   ]
  },
  {
   "cell_type": "code",
   "execution_count": 55,
   "metadata": {},
   "outputs": [
    {
     "data": {
      "text/plain": [
       "GridSearchCV(cv=5, error_score='raise-deprecating',\n",
       "       estimator=DecisionTreeClassifier(class_weight=None, criterion='gini', max_depth=None,\n",
       "            max_features=None, max_leaf_nodes=None,\n",
       "            min_impurity_decrease=0.0, min_impurity_split=None,\n",
       "            min_samples_leaf=1, min_samples_split=2,\n",
       "            min_weight_fraction_leaf=0.0, presort=False, random_state=None,\n",
       "            splitter='best'),\n",
       "       fit_params=None, iid='warn', n_jobs=None,\n",
       "       param_grid={'max_depth': array([1, 2, 3, 4]), 'min_samples_leaf': array([ 1,  2,  3,  4,  5,  6,  7,  8,  9, 10, 11, 12, 13, 14]), 'min_samples_split': array([2, 3, 4]), 'criterion': ['entropy', 'gini']},\n",
       "       pre_dispatch='2*n_jobs', refit=True, return_train_score='warn',\n",
       "       scoring='accuracy', verbose=0)"
      ]
     },
     "execution_count": 55,
     "metadata": {},
     "output_type": "execute_result"
    }
   ],
   "source": [
    "# GridSearchCV to find optimal max_depth\n",
    "from sklearn.model_selection import KFold\n",
    "from sklearn.model_selection import GridSearchCV\n",
    "\n",
    "\n",
    "# specify number of folds for k-fold CV\n",
    "n_folds = 5\n",
    "\n",
    "# parameters to build the model on\n",
    "parameters = {'max_depth': np.arange(1,5,1),\n",
    "    'min_samples_leaf': np.arange(1,15,1),\n",
    "    'min_samples_split': np.arange(2,5,1),\n",
    "    'criterion': [\"entropy\", \"gini\"]}\n",
    "\n",
    "#Decision Tree Tuning\n",
    "\n",
    "# fit tree on training data\n",
    "tree = GridSearchCV(m2, parameters, \n",
    "                    cv=n_folds, \n",
    "                   scoring=\"accuracy\")\n",
    "tree.fit(xtrain, ytrain)"
   ]
  },
  {
   "cell_type": "code",
   "execution_count": 56,
   "metadata": {},
   "outputs": [
    {
     "data": {
      "text/plain": [
       "{'criterion': 'gini',\n",
       " 'max_depth': 4,\n",
       " 'min_samples_leaf': 6,\n",
       " 'min_samples_split': 2}"
      ]
     },
     "execution_count": 56,
     "metadata": {},
     "output_type": "execute_result"
    }
   ],
   "source": [
    "tree.best_params_"
   ]
  },
  {
   "cell_type": "code",
   "execution_count": 57,
   "metadata": {},
   "outputs": [
    {
     "name": "stdout",
     "output_type": "stream",
     "text": [
      "Testing set accuracy\n",
      "0.7172572206389043\n",
      "[[ 1305  5964]\n",
      " [  683 15557]]\n",
      "Training set accuracy\n",
      "0.7186531520035002\n",
      "[[ 2982 13729]\n",
      " [ 1704 36439]]\n"
     ]
    }
   ],
   "source": [
    "m2 = DecisionTreeClassifier(random_state = 100,criterion= 'gini',max_depth= 4,min_samples_leaf= 6,min_samples_split= 2)\n",
    "m2.fit(xtrain,ytrain)\n",
    "y_pred_dttest = m2.predict(xtest)\n",
    "print('Testing set accuracy')\n",
    "print(accuracy_score(ytest, y_pred_test))\n",
    "print(confusion_matrix(ytest,y_pred_test))\n",
    "y_pred_dttrain = m2.predict(xtrain)\n",
    "print('Training set accuracy')\n",
    "print(accuracy_score(ytrain, y_pred_train))\n",
    "print(confusion_matrix(ytrain,y_pred_train))"
   ]
  },
  {
   "cell_type": "markdown",
   "metadata": {},
   "source": [
    "# Tuning KNeighbors Classifier"
   ]
  },
  {
   "cell_type": "code",
   "execution_count": 59,
   "metadata": {},
   "outputs": [
    {
     "ename": "KeyboardInterrupt",
     "evalue": "",
     "output_type": "error",
     "traceback": [
      "\u001b[1;31m---------------------------------------------------------------------------\u001b[0m",
      "\u001b[1;31mKeyboardInterrupt\u001b[0m                         Traceback (most recent call last)",
      "\u001b[1;32m<ipython-input-59-cc10c9a4a5b7>\u001b[0m in \u001b[0;36m<module>\u001b[1;34m\u001b[0m\n\u001b[0;32m      3\u001b[0m \u001b[1;33m\u001b[0m\u001b[0m\n\u001b[0;32m      4\u001b[0m \u001b[0mknn_cv\u001b[0m\u001b[1;33m=\u001b[0m\u001b[0mGridSearchCV\u001b[0m\u001b[1;33m(\u001b[0m\u001b[0mm3\u001b[0m\u001b[1;33m,\u001b[0m\u001b[0mgrid\u001b[0m\u001b[1;33m,\u001b[0m\u001b[0mcv\u001b[0m\u001b[1;33m=\u001b[0m\u001b[1;36m5\u001b[0m\u001b[1;33m)\u001b[0m\u001b[1;33m\u001b[0m\u001b[1;33m\u001b[0m\u001b[0m\n\u001b[1;32m----> 5\u001b[1;33m \u001b[0mknn_cv\u001b[0m\u001b[1;33m.\u001b[0m\u001b[0mfit\u001b[0m\u001b[1;33m(\u001b[0m\u001b[0mxtrain\u001b[0m\u001b[1;33m,\u001b[0m\u001b[0mytrain\u001b[0m\u001b[1;33m)\u001b[0m\u001b[1;33m\u001b[0m\u001b[1;33m\u001b[0m\u001b[0m\n\u001b[0m\u001b[0;32m      6\u001b[0m \u001b[1;33m\u001b[0m\u001b[0m\n\u001b[0;32m      7\u001b[0m \u001b[1;33m\u001b[0m\u001b[0m\n",
      "\u001b[1;32mC:\\ProgramData\\Anaconda3\\lib\\site-packages\\sklearn\\model_selection\\_search.py\u001b[0m in \u001b[0;36mfit\u001b[1;34m(self, X, y, groups, **fit_params)\u001b[0m\n\u001b[0;32m    720\u001b[0m                 \u001b[1;32mreturn\u001b[0m \u001b[0mresults_container\u001b[0m\u001b[1;33m[\u001b[0m\u001b[1;36m0\u001b[0m\u001b[1;33m]\u001b[0m\u001b[1;33m\u001b[0m\u001b[1;33m\u001b[0m\u001b[0m\n\u001b[0;32m    721\u001b[0m \u001b[1;33m\u001b[0m\u001b[0m\n\u001b[1;32m--> 722\u001b[1;33m             \u001b[0mself\u001b[0m\u001b[1;33m.\u001b[0m\u001b[0m_run_search\u001b[0m\u001b[1;33m(\u001b[0m\u001b[0mevaluate_candidates\u001b[0m\u001b[1;33m)\u001b[0m\u001b[1;33m\u001b[0m\u001b[1;33m\u001b[0m\u001b[0m\n\u001b[0m\u001b[0;32m    723\u001b[0m \u001b[1;33m\u001b[0m\u001b[0m\n\u001b[0;32m    724\u001b[0m         \u001b[0mresults\u001b[0m \u001b[1;33m=\u001b[0m \u001b[0mresults_container\u001b[0m\u001b[1;33m[\u001b[0m\u001b[1;36m0\u001b[0m\u001b[1;33m]\u001b[0m\u001b[1;33m\u001b[0m\u001b[1;33m\u001b[0m\u001b[0m\n",
      "\u001b[1;32mC:\\ProgramData\\Anaconda3\\lib\\site-packages\\sklearn\\model_selection\\_search.py\u001b[0m in \u001b[0;36m_run_search\u001b[1;34m(self, evaluate_candidates)\u001b[0m\n\u001b[0;32m   1189\u001b[0m     \u001b[1;32mdef\u001b[0m \u001b[0m_run_search\u001b[0m\u001b[1;33m(\u001b[0m\u001b[0mself\u001b[0m\u001b[1;33m,\u001b[0m \u001b[0mevaluate_candidates\u001b[0m\u001b[1;33m)\u001b[0m\u001b[1;33m:\u001b[0m\u001b[1;33m\u001b[0m\u001b[1;33m\u001b[0m\u001b[0m\n\u001b[0;32m   1190\u001b[0m         \u001b[1;34m\"\"\"Search all candidates in param_grid\"\"\"\u001b[0m\u001b[1;33m\u001b[0m\u001b[1;33m\u001b[0m\u001b[0m\n\u001b[1;32m-> 1191\u001b[1;33m         \u001b[0mevaluate_candidates\u001b[0m\u001b[1;33m(\u001b[0m\u001b[0mParameterGrid\u001b[0m\u001b[1;33m(\u001b[0m\u001b[0mself\u001b[0m\u001b[1;33m.\u001b[0m\u001b[0mparam_grid\u001b[0m\u001b[1;33m)\u001b[0m\u001b[1;33m)\u001b[0m\u001b[1;33m\u001b[0m\u001b[1;33m\u001b[0m\u001b[0m\n\u001b[0m\u001b[0;32m   1192\u001b[0m \u001b[1;33m\u001b[0m\u001b[0m\n\u001b[0;32m   1193\u001b[0m \u001b[1;33m\u001b[0m\u001b[0m\n",
      "\u001b[1;32mC:\\ProgramData\\Anaconda3\\lib\\site-packages\\sklearn\\model_selection\\_search.py\u001b[0m in \u001b[0;36mevaluate_candidates\u001b[1;34m(candidate_params)\u001b[0m\n\u001b[0;32m    709\u001b[0m                                \u001b[1;32mfor\u001b[0m \u001b[0mparameters\u001b[0m\u001b[1;33m,\u001b[0m \u001b[1;33m(\u001b[0m\u001b[0mtrain\u001b[0m\u001b[1;33m,\u001b[0m \u001b[0mtest\u001b[0m\u001b[1;33m)\u001b[0m\u001b[1;33m\u001b[0m\u001b[1;33m\u001b[0m\u001b[0m\n\u001b[0;32m    710\u001b[0m                                in product(candidate_params,\n\u001b[1;32m--> 711\u001b[1;33m                                           cv.split(X, y, groups)))\n\u001b[0m\u001b[0;32m    712\u001b[0m \u001b[1;33m\u001b[0m\u001b[0m\n\u001b[0;32m    713\u001b[0m                 \u001b[0mall_candidate_params\u001b[0m\u001b[1;33m.\u001b[0m\u001b[0mextend\u001b[0m\u001b[1;33m(\u001b[0m\u001b[0mcandidate_params\u001b[0m\u001b[1;33m)\u001b[0m\u001b[1;33m\u001b[0m\u001b[1;33m\u001b[0m\u001b[0m\n",
      "\u001b[1;32mC:\\ProgramData\\Anaconda3\\lib\\site-packages\\sklearn\\externals\\joblib\\parallel.py\u001b[0m in \u001b[0;36m__call__\u001b[1;34m(self, iterable)\u001b[0m\n\u001b[0;32m    918\u001b[0m                 \u001b[0mself\u001b[0m\u001b[1;33m.\u001b[0m\u001b[0m_iterating\u001b[0m \u001b[1;33m=\u001b[0m \u001b[0mself\u001b[0m\u001b[1;33m.\u001b[0m\u001b[0m_original_iterator\u001b[0m \u001b[1;32mis\u001b[0m \u001b[1;32mnot\u001b[0m \u001b[1;32mNone\u001b[0m\u001b[1;33m\u001b[0m\u001b[1;33m\u001b[0m\u001b[0m\n\u001b[0;32m    919\u001b[0m \u001b[1;33m\u001b[0m\u001b[0m\n\u001b[1;32m--> 920\u001b[1;33m             \u001b[1;32mwhile\u001b[0m \u001b[0mself\u001b[0m\u001b[1;33m.\u001b[0m\u001b[0mdispatch_one_batch\u001b[0m\u001b[1;33m(\u001b[0m\u001b[0miterator\u001b[0m\u001b[1;33m)\u001b[0m\u001b[1;33m:\u001b[0m\u001b[1;33m\u001b[0m\u001b[1;33m\u001b[0m\u001b[0m\n\u001b[0m\u001b[0;32m    921\u001b[0m                 \u001b[1;32mpass\u001b[0m\u001b[1;33m\u001b[0m\u001b[1;33m\u001b[0m\u001b[0m\n\u001b[0;32m    922\u001b[0m \u001b[1;33m\u001b[0m\u001b[0m\n",
      "\u001b[1;32mC:\\ProgramData\\Anaconda3\\lib\\site-packages\\sklearn\\externals\\joblib\\parallel.py\u001b[0m in \u001b[0;36mdispatch_one_batch\u001b[1;34m(self, iterator)\u001b[0m\n\u001b[0;32m    757\u001b[0m                 \u001b[1;32mreturn\u001b[0m \u001b[1;32mFalse\u001b[0m\u001b[1;33m\u001b[0m\u001b[1;33m\u001b[0m\u001b[0m\n\u001b[0;32m    758\u001b[0m             \u001b[1;32melse\u001b[0m\u001b[1;33m:\u001b[0m\u001b[1;33m\u001b[0m\u001b[1;33m\u001b[0m\u001b[0m\n\u001b[1;32m--> 759\u001b[1;33m                 \u001b[0mself\u001b[0m\u001b[1;33m.\u001b[0m\u001b[0m_dispatch\u001b[0m\u001b[1;33m(\u001b[0m\u001b[0mtasks\u001b[0m\u001b[1;33m)\u001b[0m\u001b[1;33m\u001b[0m\u001b[1;33m\u001b[0m\u001b[0m\n\u001b[0m\u001b[0;32m    760\u001b[0m                 \u001b[1;32mreturn\u001b[0m \u001b[1;32mTrue\u001b[0m\u001b[1;33m\u001b[0m\u001b[1;33m\u001b[0m\u001b[0m\n\u001b[0;32m    761\u001b[0m \u001b[1;33m\u001b[0m\u001b[0m\n",
      "\u001b[1;32mC:\\ProgramData\\Anaconda3\\lib\\site-packages\\sklearn\\externals\\joblib\\parallel.py\u001b[0m in \u001b[0;36m_dispatch\u001b[1;34m(self, batch)\u001b[0m\n\u001b[0;32m    714\u001b[0m         \u001b[1;32mwith\u001b[0m \u001b[0mself\u001b[0m\u001b[1;33m.\u001b[0m\u001b[0m_lock\u001b[0m\u001b[1;33m:\u001b[0m\u001b[1;33m\u001b[0m\u001b[1;33m\u001b[0m\u001b[0m\n\u001b[0;32m    715\u001b[0m             \u001b[0mjob_idx\u001b[0m \u001b[1;33m=\u001b[0m \u001b[0mlen\u001b[0m\u001b[1;33m(\u001b[0m\u001b[0mself\u001b[0m\u001b[1;33m.\u001b[0m\u001b[0m_jobs\u001b[0m\u001b[1;33m)\u001b[0m\u001b[1;33m\u001b[0m\u001b[1;33m\u001b[0m\u001b[0m\n\u001b[1;32m--> 716\u001b[1;33m             \u001b[0mjob\u001b[0m \u001b[1;33m=\u001b[0m \u001b[0mself\u001b[0m\u001b[1;33m.\u001b[0m\u001b[0m_backend\u001b[0m\u001b[1;33m.\u001b[0m\u001b[0mapply_async\u001b[0m\u001b[1;33m(\u001b[0m\u001b[0mbatch\u001b[0m\u001b[1;33m,\u001b[0m \u001b[0mcallback\u001b[0m\u001b[1;33m=\u001b[0m\u001b[0mcb\u001b[0m\u001b[1;33m)\u001b[0m\u001b[1;33m\u001b[0m\u001b[1;33m\u001b[0m\u001b[0m\n\u001b[0m\u001b[0;32m    717\u001b[0m             \u001b[1;31m# A job can complete so quickly than its callback is\u001b[0m\u001b[1;33m\u001b[0m\u001b[1;33m\u001b[0m\u001b[1;33m\u001b[0m\u001b[0m\n\u001b[0;32m    718\u001b[0m             \u001b[1;31m# called before we get here, causing self._jobs to\u001b[0m\u001b[1;33m\u001b[0m\u001b[1;33m\u001b[0m\u001b[1;33m\u001b[0m\u001b[0m\n",
      "\u001b[1;32mC:\\ProgramData\\Anaconda3\\lib\\site-packages\\sklearn\\externals\\joblib\\_parallel_backends.py\u001b[0m in \u001b[0;36mapply_async\u001b[1;34m(self, func, callback)\u001b[0m\n\u001b[0;32m    180\u001b[0m     \u001b[1;32mdef\u001b[0m \u001b[0mapply_async\u001b[0m\u001b[1;33m(\u001b[0m\u001b[0mself\u001b[0m\u001b[1;33m,\u001b[0m \u001b[0mfunc\u001b[0m\u001b[1;33m,\u001b[0m \u001b[0mcallback\u001b[0m\u001b[1;33m=\u001b[0m\u001b[1;32mNone\u001b[0m\u001b[1;33m)\u001b[0m\u001b[1;33m:\u001b[0m\u001b[1;33m\u001b[0m\u001b[1;33m\u001b[0m\u001b[0m\n\u001b[0;32m    181\u001b[0m         \u001b[1;34m\"\"\"Schedule a func to be run\"\"\"\u001b[0m\u001b[1;33m\u001b[0m\u001b[1;33m\u001b[0m\u001b[0m\n\u001b[1;32m--> 182\u001b[1;33m         \u001b[0mresult\u001b[0m \u001b[1;33m=\u001b[0m \u001b[0mImmediateResult\u001b[0m\u001b[1;33m(\u001b[0m\u001b[0mfunc\u001b[0m\u001b[1;33m)\u001b[0m\u001b[1;33m\u001b[0m\u001b[1;33m\u001b[0m\u001b[0m\n\u001b[0m\u001b[0;32m    183\u001b[0m         \u001b[1;32mif\u001b[0m \u001b[0mcallback\u001b[0m\u001b[1;33m:\u001b[0m\u001b[1;33m\u001b[0m\u001b[1;33m\u001b[0m\u001b[0m\n\u001b[0;32m    184\u001b[0m             \u001b[0mcallback\u001b[0m\u001b[1;33m(\u001b[0m\u001b[0mresult\u001b[0m\u001b[1;33m)\u001b[0m\u001b[1;33m\u001b[0m\u001b[1;33m\u001b[0m\u001b[0m\n",
      "\u001b[1;32mC:\\ProgramData\\Anaconda3\\lib\\site-packages\\sklearn\\externals\\joblib\\_parallel_backends.py\u001b[0m in \u001b[0;36m__init__\u001b[1;34m(self, batch)\u001b[0m\n\u001b[0;32m    547\u001b[0m         \u001b[1;31m# Don't delay the application, to avoid keeping the input\u001b[0m\u001b[1;33m\u001b[0m\u001b[1;33m\u001b[0m\u001b[1;33m\u001b[0m\u001b[0m\n\u001b[0;32m    548\u001b[0m         \u001b[1;31m# arguments in memory\u001b[0m\u001b[1;33m\u001b[0m\u001b[1;33m\u001b[0m\u001b[1;33m\u001b[0m\u001b[0m\n\u001b[1;32m--> 549\u001b[1;33m         \u001b[0mself\u001b[0m\u001b[1;33m.\u001b[0m\u001b[0mresults\u001b[0m \u001b[1;33m=\u001b[0m \u001b[0mbatch\u001b[0m\u001b[1;33m(\u001b[0m\u001b[1;33m)\u001b[0m\u001b[1;33m\u001b[0m\u001b[1;33m\u001b[0m\u001b[0m\n\u001b[0m\u001b[0;32m    550\u001b[0m \u001b[1;33m\u001b[0m\u001b[0m\n\u001b[0;32m    551\u001b[0m     \u001b[1;32mdef\u001b[0m \u001b[0mget\u001b[0m\u001b[1;33m(\u001b[0m\u001b[0mself\u001b[0m\u001b[1;33m)\u001b[0m\u001b[1;33m:\u001b[0m\u001b[1;33m\u001b[0m\u001b[1;33m\u001b[0m\u001b[0m\n",
      "\u001b[1;32mC:\\ProgramData\\Anaconda3\\lib\\site-packages\\sklearn\\externals\\joblib\\parallel.py\u001b[0m in \u001b[0;36m__call__\u001b[1;34m(self)\u001b[0m\n\u001b[0;32m    223\u001b[0m         \u001b[1;32mwith\u001b[0m \u001b[0mparallel_backend\u001b[0m\u001b[1;33m(\u001b[0m\u001b[0mself\u001b[0m\u001b[1;33m.\u001b[0m\u001b[0m_backend\u001b[0m\u001b[1;33m,\u001b[0m \u001b[0mn_jobs\u001b[0m\u001b[1;33m=\u001b[0m\u001b[0mself\u001b[0m\u001b[1;33m.\u001b[0m\u001b[0m_n_jobs\u001b[0m\u001b[1;33m)\u001b[0m\u001b[1;33m:\u001b[0m\u001b[1;33m\u001b[0m\u001b[1;33m\u001b[0m\u001b[0m\n\u001b[0;32m    224\u001b[0m             return [func(*args, **kwargs)\n\u001b[1;32m--> 225\u001b[1;33m                     for func, args, kwargs in self.items]\n\u001b[0m\u001b[0;32m    226\u001b[0m \u001b[1;33m\u001b[0m\u001b[0m\n\u001b[0;32m    227\u001b[0m     \u001b[1;32mdef\u001b[0m \u001b[0m__len__\u001b[0m\u001b[1;33m(\u001b[0m\u001b[0mself\u001b[0m\u001b[1;33m)\u001b[0m\u001b[1;33m:\u001b[0m\u001b[1;33m\u001b[0m\u001b[1;33m\u001b[0m\u001b[0m\n",
      "\u001b[1;32mC:\\ProgramData\\Anaconda3\\lib\\site-packages\\sklearn\\externals\\joblib\\parallel.py\u001b[0m in \u001b[0;36m<listcomp>\u001b[1;34m(.0)\u001b[0m\n\u001b[0;32m    223\u001b[0m         \u001b[1;32mwith\u001b[0m \u001b[0mparallel_backend\u001b[0m\u001b[1;33m(\u001b[0m\u001b[0mself\u001b[0m\u001b[1;33m.\u001b[0m\u001b[0m_backend\u001b[0m\u001b[1;33m,\u001b[0m \u001b[0mn_jobs\u001b[0m\u001b[1;33m=\u001b[0m\u001b[0mself\u001b[0m\u001b[1;33m.\u001b[0m\u001b[0m_n_jobs\u001b[0m\u001b[1;33m)\u001b[0m\u001b[1;33m:\u001b[0m\u001b[1;33m\u001b[0m\u001b[1;33m\u001b[0m\u001b[0m\n\u001b[0;32m    224\u001b[0m             return [func(*args, **kwargs)\n\u001b[1;32m--> 225\u001b[1;33m                     for func, args, kwargs in self.items]\n\u001b[0m\u001b[0;32m    226\u001b[0m \u001b[1;33m\u001b[0m\u001b[0m\n\u001b[0;32m    227\u001b[0m     \u001b[1;32mdef\u001b[0m \u001b[0m__len__\u001b[0m\u001b[1;33m(\u001b[0m\u001b[0mself\u001b[0m\u001b[1;33m)\u001b[0m\u001b[1;33m:\u001b[0m\u001b[1;33m\u001b[0m\u001b[1;33m\u001b[0m\u001b[0m\n",
      "\u001b[1;32mC:\\ProgramData\\Anaconda3\\lib\\site-packages\\sklearn\\model_selection\\_validation.py\u001b[0m in \u001b[0;36m_fit_and_score\u001b[1;34m(estimator, X, y, scorer, train, test, verbose, parameters, fit_params, return_train_score, return_parameters, return_n_test_samples, return_times, return_estimator, error_score)\u001b[0m\n\u001b[0;32m    566\u001b[0m         \u001b[0mfit_time\u001b[0m \u001b[1;33m=\u001b[0m \u001b[0mtime\u001b[0m\u001b[1;33m.\u001b[0m\u001b[0mtime\u001b[0m\u001b[1;33m(\u001b[0m\u001b[1;33m)\u001b[0m \u001b[1;33m-\u001b[0m \u001b[0mstart_time\u001b[0m\u001b[1;33m\u001b[0m\u001b[1;33m\u001b[0m\u001b[0m\n\u001b[0;32m    567\u001b[0m         \u001b[1;31m# _score will return dict if is_multimetric is True\u001b[0m\u001b[1;33m\u001b[0m\u001b[1;33m\u001b[0m\u001b[1;33m\u001b[0m\u001b[0m\n\u001b[1;32m--> 568\u001b[1;33m         \u001b[0mtest_scores\u001b[0m \u001b[1;33m=\u001b[0m \u001b[0m_score\u001b[0m\u001b[1;33m(\u001b[0m\u001b[0mestimator\u001b[0m\u001b[1;33m,\u001b[0m \u001b[0mX_test\u001b[0m\u001b[1;33m,\u001b[0m \u001b[0my_test\u001b[0m\u001b[1;33m,\u001b[0m \u001b[0mscorer\u001b[0m\u001b[1;33m,\u001b[0m \u001b[0mis_multimetric\u001b[0m\u001b[1;33m)\u001b[0m\u001b[1;33m\u001b[0m\u001b[1;33m\u001b[0m\u001b[0m\n\u001b[0m\u001b[0;32m    569\u001b[0m         \u001b[0mscore_time\u001b[0m \u001b[1;33m=\u001b[0m \u001b[0mtime\u001b[0m\u001b[1;33m.\u001b[0m\u001b[0mtime\u001b[0m\u001b[1;33m(\u001b[0m\u001b[1;33m)\u001b[0m \u001b[1;33m-\u001b[0m \u001b[0mstart_time\u001b[0m \u001b[1;33m-\u001b[0m \u001b[0mfit_time\u001b[0m\u001b[1;33m\u001b[0m\u001b[1;33m\u001b[0m\u001b[0m\n\u001b[0;32m    570\u001b[0m         \u001b[1;32mif\u001b[0m \u001b[0mreturn_train_score\u001b[0m\u001b[1;33m:\u001b[0m\u001b[1;33m\u001b[0m\u001b[1;33m\u001b[0m\u001b[0m\n",
      "\u001b[1;32mC:\\ProgramData\\Anaconda3\\lib\\site-packages\\sklearn\\model_selection\\_validation.py\u001b[0m in \u001b[0;36m_score\u001b[1;34m(estimator, X_test, y_test, scorer, is_multimetric)\u001b[0m\n\u001b[0;32m    603\u001b[0m     \"\"\"\n\u001b[0;32m    604\u001b[0m     \u001b[1;32mif\u001b[0m \u001b[0mis_multimetric\u001b[0m\u001b[1;33m:\u001b[0m\u001b[1;33m\u001b[0m\u001b[1;33m\u001b[0m\u001b[0m\n\u001b[1;32m--> 605\u001b[1;33m         \u001b[1;32mreturn\u001b[0m \u001b[0m_multimetric_score\u001b[0m\u001b[1;33m(\u001b[0m\u001b[0mestimator\u001b[0m\u001b[1;33m,\u001b[0m \u001b[0mX_test\u001b[0m\u001b[1;33m,\u001b[0m \u001b[0my_test\u001b[0m\u001b[1;33m,\u001b[0m \u001b[0mscorer\u001b[0m\u001b[1;33m)\u001b[0m\u001b[1;33m\u001b[0m\u001b[1;33m\u001b[0m\u001b[0m\n\u001b[0m\u001b[0;32m    606\u001b[0m     \u001b[1;32melse\u001b[0m\u001b[1;33m:\u001b[0m\u001b[1;33m\u001b[0m\u001b[1;33m\u001b[0m\u001b[0m\n\u001b[0;32m    607\u001b[0m         \u001b[1;32mif\u001b[0m \u001b[0my_test\u001b[0m \u001b[1;32mis\u001b[0m \u001b[1;32mNone\u001b[0m\u001b[1;33m:\u001b[0m\u001b[1;33m\u001b[0m\u001b[1;33m\u001b[0m\u001b[0m\n",
      "\u001b[1;32mC:\\ProgramData\\Anaconda3\\lib\\site-packages\\sklearn\\model_selection\\_validation.py\u001b[0m in \u001b[0;36m_multimetric_score\u001b[1;34m(estimator, X_test, y_test, scorers)\u001b[0m\n\u001b[0;32m    633\u001b[0m             \u001b[0mscore\u001b[0m \u001b[1;33m=\u001b[0m \u001b[0mscorer\u001b[0m\u001b[1;33m(\u001b[0m\u001b[0mestimator\u001b[0m\u001b[1;33m,\u001b[0m \u001b[0mX_test\u001b[0m\u001b[1;33m)\u001b[0m\u001b[1;33m\u001b[0m\u001b[1;33m\u001b[0m\u001b[0m\n\u001b[0;32m    634\u001b[0m         \u001b[1;32melse\u001b[0m\u001b[1;33m:\u001b[0m\u001b[1;33m\u001b[0m\u001b[1;33m\u001b[0m\u001b[0m\n\u001b[1;32m--> 635\u001b[1;33m             \u001b[0mscore\u001b[0m \u001b[1;33m=\u001b[0m \u001b[0mscorer\u001b[0m\u001b[1;33m(\u001b[0m\u001b[0mestimator\u001b[0m\u001b[1;33m,\u001b[0m \u001b[0mX_test\u001b[0m\u001b[1;33m,\u001b[0m \u001b[0my_test\u001b[0m\u001b[1;33m)\u001b[0m\u001b[1;33m\u001b[0m\u001b[1;33m\u001b[0m\u001b[0m\n\u001b[0m\u001b[0;32m    636\u001b[0m \u001b[1;33m\u001b[0m\u001b[0m\n\u001b[0;32m    637\u001b[0m         \u001b[1;32mif\u001b[0m \u001b[0mhasattr\u001b[0m\u001b[1;33m(\u001b[0m\u001b[0mscore\u001b[0m\u001b[1;33m,\u001b[0m \u001b[1;34m'item'\u001b[0m\u001b[1;33m)\u001b[0m\u001b[1;33m:\u001b[0m\u001b[1;33m\u001b[0m\u001b[1;33m\u001b[0m\u001b[0m\n",
      "\u001b[1;32mC:\\ProgramData\\Anaconda3\\lib\\site-packages\\sklearn\\metrics\\scorer.py\u001b[0m in \u001b[0;36m_passthrough_scorer\u001b[1;34m(estimator, *args, **kwargs)\u001b[0m\n\u001b[0;32m    239\u001b[0m \u001b[1;32mdef\u001b[0m \u001b[0m_passthrough_scorer\u001b[0m\u001b[1;33m(\u001b[0m\u001b[0mestimator\u001b[0m\u001b[1;33m,\u001b[0m \u001b[1;33m*\u001b[0m\u001b[0margs\u001b[0m\u001b[1;33m,\u001b[0m \u001b[1;33m**\u001b[0m\u001b[0mkwargs\u001b[0m\u001b[1;33m)\u001b[0m\u001b[1;33m:\u001b[0m\u001b[1;33m\u001b[0m\u001b[1;33m\u001b[0m\u001b[0m\n\u001b[0;32m    240\u001b[0m     \u001b[1;34m\"\"\"Function that wraps estimator.score\"\"\"\u001b[0m\u001b[1;33m\u001b[0m\u001b[1;33m\u001b[0m\u001b[0m\n\u001b[1;32m--> 241\u001b[1;33m     \u001b[1;32mreturn\u001b[0m \u001b[0mestimator\u001b[0m\u001b[1;33m.\u001b[0m\u001b[0mscore\u001b[0m\u001b[1;33m(\u001b[0m\u001b[1;33m*\u001b[0m\u001b[0margs\u001b[0m\u001b[1;33m,\u001b[0m \u001b[1;33m**\u001b[0m\u001b[0mkwargs\u001b[0m\u001b[1;33m)\u001b[0m\u001b[1;33m\u001b[0m\u001b[1;33m\u001b[0m\u001b[0m\n\u001b[0m\u001b[0;32m    242\u001b[0m \u001b[1;33m\u001b[0m\u001b[0m\n\u001b[0;32m    243\u001b[0m \u001b[1;33m\u001b[0m\u001b[0m\n",
      "\u001b[1;32mC:\\ProgramData\\Anaconda3\\lib\\site-packages\\sklearn\\base.py\u001b[0m in \u001b[0;36mscore\u001b[1;34m(self, X, y, sample_weight)\u001b[0m\n\u001b[0;32m    288\u001b[0m         \"\"\"\n\u001b[0;32m    289\u001b[0m         \u001b[1;32mfrom\u001b[0m \u001b[1;33m.\u001b[0m\u001b[0mmetrics\u001b[0m \u001b[1;32mimport\u001b[0m \u001b[0maccuracy_score\u001b[0m\u001b[1;33m\u001b[0m\u001b[1;33m\u001b[0m\u001b[0m\n\u001b[1;32m--> 290\u001b[1;33m         \u001b[1;32mreturn\u001b[0m \u001b[0maccuracy_score\u001b[0m\u001b[1;33m(\u001b[0m\u001b[0my\u001b[0m\u001b[1;33m,\u001b[0m \u001b[0mself\u001b[0m\u001b[1;33m.\u001b[0m\u001b[0mpredict\u001b[0m\u001b[1;33m(\u001b[0m\u001b[0mX\u001b[0m\u001b[1;33m)\u001b[0m\u001b[1;33m,\u001b[0m \u001b[0msample_weight\u001b[0m\u001b[1;33m=\u001b[0m\u001b[0msample_weight\u001b[0m\u001b[1;33m)\u001b[0m\u001b[1;33m\u001b[0m\u001b[1;33m\u001b[0m\u001b[0m\n\u001b[0m\u001b[0;32m    291\u001b[0m \u001b[1;33m\u001b[0m\u001b[0m\n\u001b[0;32m    292\u001b[0m \u001b[1;33m\u001b[0m\u001b[0m\n",
      "\u001b[1;32mC:\\ProgramData\\Anaconda3\\lib\\site-packages\\sklearn\\neighbors\\classification.py\u001b[0m in \u001b[0;36mpredict\u001b[1;34m(self, X)\u001b[0m\n\u001b[0;32m    147\u001b[0m         \u001b[0mX\u001b[0m \u001b[1;33m=\u001b[0m \u001b[0mcheck_array\u001b[0m\u001b[1;33m(\u001b[0m\u001b[0mX\u001b[0m\u001b[1;33m,\u001b[0m \u001b[0maccept_sparse\u001b[0m\u001b[1;33m=\u001b[0m\u001b[1;34m'csr'\u001b[0m\u001b[1;33m)\u001b[0m\u001b[1;33m\u001b[0m\u001b[1;33m\u001b[0m\u001b[0m\n\u001b[0;32m    148\u001b[0m \u001b[1;33m\u001b[0m\u001b[0m\n\u001b[1;32m--> 149\u001b[1;33m         \u001b[0mneigh_dist\u001b[0m\u001b[1;33m,\u001b[0m \u001b[0mneigh_ind\u001b[0m \u001b[1;33m=\u001b[0m \u001b[0mself\u001b[0m\u001b[1;33m.\u001b[0m\u001b[0mkneighbors\u001b[0m\u001b[1;33m(\u001b[0m\u001b[0mX\u001b[0m\u001b[1;33m)\u001b[0m\u001b[1;33m\u001b[0m\u001b[1;33m\u001b[0m\u001b[0m\n\u001b[0m\u001b[0;32m    150\u001b[0m         \u001b[0mclasses_\u001b[0m \u001b[1;33m=\u001b[0m \u001b[0mself\u001b[0m\u001b[1;33m.\u001b[0m\u001b[0mclasses_\u001b[0m\u001b[1;33m\u001b[0m\u001b[1;33m\u001b[0m\u001b[0m\n\u001b[0;32m    151\u001b[0m         \u001b[0m_y\u001b[0m \u001b[1;33m=\u001b[0m \u001b[0mself\u001b[0m\u001b[1;33m.\u001b[0m\u001b[0m_y\u001b[0m\u001b[1;33m\u001b[0m\u001b[1;33m\u001b[0m\u001b[0m\n",
      "\u001b[1;32mC:\\ProgramData\\Anaconda3\\lib\\site-packages\\sklearn\\neighbors\\base.py\u001b[0m in \u001b[0;36mkneighbors\u001b[1;34m(self, X, n_neighbors, return_distance)\u001b[0m\n\u001b[0;32m    453\u001b[0m                 delayed_query(\n\u001b[0;32m    454\u001b[0m                     self._tree, X[s], n_neighbors, return_distance)\n\u001b[1;32m--> 455\u001b[1;33m                 \u001b[1;32mfor\u001b[0m \u001b[0ms\u001b[0m \u001b[1;32min\u001b[0m \u001b[0mgen_even_slices\u001b[0m\u001b[1;33m(\u001b[0m\u001b[0mX\u001b[0m\u001b[1;33m.\u001b[0m\u001b[0mshape\u001b[0m\u001b[1;33m[\u001b[0m\u001b[1;36m0\u001b[0m\u001b[1;33m]\u001b[0m\u001b[1;33m,\u001b[0m \u001b[0mn_jobs\u001b[0m\u001b[1;33m)\u001b[0m\u001b[1;33m\u001b[0m\u001b[1;33m\u001b[0m\u001b[0m\n\u001b[0m\u001b[0;32m    456\u001b[0m             )\n\u001b[0;32m    457\u001b[0m         \u001b[1;32melse\u001b[0m\u001b[1;33m:\u001b[0m\u001b[1;33m\u001b[0m\u001b[1;33m\u001b[0m\u001b[0m\n",
      "\u001b[1;32mC:\\ProgramData\\Anaconda3\\lib\\site-packages\\sklearn\\externals\\joblib\\parallel.py\u001b[0m in \u001b[0;36m__call__\u001b[1;34m(self, iterable)\u001b[0m\n\u001b[0;32m    915\u001b[0m             \u001b[1;31m# remaining jobs.\u001b[0m\u001b[1;33m\u001b[0m\u001b[1;33m\u001b[0m\u001b[1;33m\u001b[0m\u001b[0m\n\u001b[0;32m    916\u001b[0m             \u001b[0mself\u001b[0m\u001b[1;33m.\u001b[0m\u001b[0m_iterating\u001b[0m \u001b[1;33m=\u001b[0m \u001b[1;32mFalse\u001b[0m\u001b[1;33m\u001b[0m\u001b[1;33m\u001b[0m\u001b[0m\n\u001b[1;32m--> 917\u001b[1;33m             \u001b[1;32mif\u001b[0m \u001b[0mself\u001b[0m\u001b[1;33m.\u001b[0m\u001b[0mdispatch_one_batch\u001b[0m\u001b[1;33m(\u001b[0m\u001b[0miterator\u001b[0m\u001b[1;33m)\u001b[0m\u001b[1;33m:\u001b[0m\u001b[1;33m\u001b[0m\u001b[1;33m\u001b[0m\u001b[0m\n\u001b[0m\u001b[0;32m    918\u001b[0m                 \u001b[0mself\u001b[0m\u001b[1;33m.\u001b[0m\u001b[0m_iterating\u001b[0m \u001b[1;33m=\u001b[0m \u001b[0mself\u001b[0m\u001b[1;33m.\u001b[0m\u001b[0m_original_iterator\u001b[0m \u001b[1;32mis\u001b[0m \u001b[1;32mnot\u001b[0m \u001b[1;32mNone\u001b[0m\u001b[1;33m\u001b[0m\u001b[1;33m\u001b[0m\u001b[0m\n\u001b[0;32m    919\u001b[0m \u001b[1;33m\u001b[0m\u001b[0m\n",
      "\u001b[1;32mC:\\ProgramData\\Anaconda3\\lib\\site-packages\\sklearn\\externals\\joblib\\parallel.py\u001b[0m in \u001b[0;36mdispatch_one_batch\u001b[1;34m(self, iterator)\u001b[0m\n\u001b[0;32m    757\u001b[0m                 \u001b[1;32mreturn\u001b[0m \u001b[1;32mFalse\u001b[0m\u001b[1;33m\u001b[0m\u001b[1;33m\u001b[0m\u001b[0m\n\u001b[0;32m    758\u001b[0m             \u001b[1;32melse\u001b[0m\u001b[1;33m:\u001b[0m\u001b[1;33m\u001b[0m\u001b[1;33m\u001b[0m\u001b[0m\n\u001b[1;32m--> 759\u001b[1;33m                 \u001b[0mself\u001b[0m\u001b[1;33m.\u001b[0m\u001b[0m_dispatch\u001b[0m\u001b[1;33m(\u001b[0m\u001b[0mtasks\u001b[0m\u001b[1;33m)\u001b[0m\u001b[1;33m\u001b[0m\u001b[1;33m\u001b[0m\u001b[0m\n\u001b[0m\u001b[0;32m    760\u001b[0m                 \u001b[1;32mreturn\u001b[0m \u001b[1;32mTrue\u001b[0m\u001b[1;33m\u001b[0m\u001b[1;33m\u001b[0m\u001b[0m\n\u001b[0;32m    761\u001b[0m \u001b[1;33m\u001b[0m\u001b[0m\n",
      "\u001b[1;32mC:\\ProgramData\\Anaconda3\\lib\\site-packages\\sklearn\\externals\\joblib\\parallel.py\u001b[0m in \u001b[0;36m_dispatch\u001b[1;34m(self, batch)\u001b[0m\n\u001b[0;32m    714\u001b[0m         \u001b[1;32mwith\u001b[0m \u001b[0mself\u001b[0m\u001b[1;33m.\u001b[0m\u001b[0m_lock\u001b[0m\u001b[1;33m:\u001b[0m\u001b[1;33m\u001b[0m\u001b[1;33m\u001b[0m\u001b[0m\n\u001b[0;32m    715\u001b[0m             \u001b[0mjob_idx\u001b[0m \u001b[1;33m=\u001b[0m \u001b[0mlen\u001b[0m\u001b[1;33m(\u001b[0m\u001b[0mself\u001b[0m\u001b[1;33m.\u001b[0m\u001b[0m_jobs\u001b[0m\u001b[1;33m)\u001b[0m\u001b[1;33m\u001b[0m\u001b[1;33m\u001b[0m\u001b[0m\n\u001b[1;32m--> 716\u001b[1;33m             \u001b[0mjob\u001b[0m \u001b[1;33m=\u001b[0m \u001b[0mself\u001b[0m\u001b[1;33m.\u001b[0m\u001b[0m_backend\u001b[0m\u001b[1;33m.\u001b[0m\u001b[0mapply_async\u001b[0m\u001b[1;33m(\u001b[0m\u001b[0mbatch\u001b[0m\u001b[1;33m,\u001b[0m \u001b[0mcallback\u001b[0m\u001b[1;33m=\u001b[0m\u001b[0mcb\u001b[0m\u001b[1;33m)\u001b[0m\u001b[1;33m\u001b[0m\u001b[1;33m\u001b[0m\u001b[0m\n\u001b[0m\u001b[0;32m    717\u001b[0m             \u001b[1;31m# A job can complete so quickly than its callback is\u001b[0m\u001b[1;33m\u001b[0m\u001b[1;33m\u001b[0m\u001b[1;33m\u001b[0m\u001b[0m\n\u001b[0;32m    718\u001b[0m             \u001b[1;31m# called before we get here, causing self._jobs to\u001b[0m\u001b[1;33m\u001b[0m\u001b[1;33m\u001b[0m\u001b[1;33m\u001b[0m\u001b[0m\n",
      "\u001b[1;32mC:\\ProgramData\\Anaconda3\\lib\\site-packages\\sklearn\\externals\\joblib\\_parallel_backends.py\u001b[0m in \u001b[0;36mapply_async\u001b[1;34m(self, func, callback)\u001b[0m\n\u001b[0;32m    180\u001b[0m     \u001b[1;32mdef\u001b[0m \u001b[0mapply_async\u001b[0m\u001b[1;33m(\u001b[0m\u001b[0mself\u001b[0m\u001b[1;33m,\u001b[0m \u001b[0mfunc\u001b[0m\u001b[1;33m,\u001b[0m \u001b[0mcallback\u001b[0m\u001b[1;33m=\u001b[0m\u001b[1;32mNone\u001b[0m\u001b[1;33m)\u001b[0m\u001b[1;33m:\u001b[0m\u001b[1;33m\u001b[0m\u001b[1;33m\u001b[0m\u001b[0m\n\u001b[0;32m    181\u001b[0m         \u001b[1;34m\"\"\"Schedule a func to be run\"\"\"\u001b[0m\u001b[1;33m\u001b[0m\u001b[1;33m\u001b[0m\u001b[0m\n\u001b[1;32m--> 182\u001b[1;33m         \u001b[0mresult\u001b[0m \u001b[1;33m=\u001b[0m \u001b[0mImmediateResult\u001b[0m\u001b[1;33m(\u001b[0m\u001b[0mfunc\u001b[0m\u001b[1;33m)\u001b[0m\u001b[1;33m\u001b[0m\u001b[1;33m\u001b[0m\u001b[0m\n\u001b[0m\u001b[0;32m    183\u001b[0m         \u001b[1;32mif\u001b[0m \u001b[0mcallback\u001b[0m\u001b[1;33m:\u001b[0m\u001b[1;33m\u001b[0m\u001b[1;33m\u001b[0m\u001b[0m\n\u001b[0;32m    184\u001b[0m             \u001b[0mcallback\u001b[0m\u001b[1;33m(\u001b[0m\u001b[0mresult\u001b[0m\u001b[1;33m)\u001b[0m\u001b[1;33m\u001b[0m\u001b[1;33m\u001b[0m\u001b[0m\n",
      "\u001b[1;32mC:\\ProgramData\\Anaconda3\\lib\\site-packages\\sklearn\\externals\\joblib\\_parallel_backends.py\u001b[0m in \u001b[0;36m__init__\u001b[1;34m(self, batch)\u001b[0m\n\u001b[0;32m    547\u001b[0m         \u001b[1;31m# Don't delay the application, to avoid keeping the input\u001b[0m\u001b[1;33m\u001b[0m\u001b[1;33m\u001b[0m\u001b[1;33m\u001b[0m\u001b[0m\n\u001b[0;32m    548\u001b[0m         \u001b[1;31m# arguments in memory\u001b[0m\u001b[1;33m\u001b[0m\u001b[1;33m\u001b[0m\u001b[1;33m\u001b[0m\u001b[0m\n\u001b[1;32m--> 549\u001b[1;33m         \u001b[0mself\u001b[0m\u001b[1;33m.\u001b[0m\u001b[0mresults\u001b[0m \u001b[1;33m=\u001b[0m \u001b[0mbatch\u001b[0m\u001b[1;33m(\u001b[0m\u001b[1;33m)\u001b[0m\u001b[1;33m\u001b[0m\u001b[1;33m\u001b[0m\u001b[0m\n\u001b[0m\u001b[0;32m    550\u001b[0m \u001b[1;33m\u001b[0m\u001b[0m\n\u001b[0;32m    551\u001b[0m     \u001b[1;32mdef\u001b[0m \u001b[0mget\u001b[0m\u001b[1;33m(\u001b[0m\u001b[0mself\u001b[0m\u001b[1;33m)\u001b[0m\u001b[1;33m:\u001b[0m\u001b[1;33m\u001b[0m\u001b[1;33m\u001b[0m\u001b[0m\n",
      "\u001b[1;32mC:\\ProgramData\\Anaconda3\\lib\\site-packages\\sklearn\\externals\\joblib\\parallel.py\u001b[0m in \u001b[0;36m__call__\u001b[1;34m(self)\u001b[0m\n\u001b[0;32m    223\u001b[0m         \u001b[1;32mwith\u001b[0m \u001b[0mparallel_backend\u001b[0m\u001b[1;33m(\u001b[0m\u001b[0mself\u001b[0m\u001b[1;33m.\u001b[0m\u001b[0m_backend\u001b[0m\u001b[1;33m,\u001b[0m \u001b[0mn_jobs\u001b[0m\u001b[1;33m=\u001b[0m\u001b[0mself\u001b[0m\u001b[1;33m.\u001b[0m\u001b[0m_n_jobs\u001b[0m\u001b[1;33m)\u001b[0m\u001b[1;33m:\u001b[0m\u001b[1;33m\u001b[0m\u001b[1;33m\u001b[0m\u001b[0m\n\u001b[0;32m    224\u001b[0m             return [func(*args, **kwargs)\n\u001b[1;32m--> 225\u001b[1;33m                     for func, args, kwargs in self.items]\n\u001b[0m\u001b[0;32m    226\u001b[0m \u001b[1;33m\u001b[0m\u001b[0m\n\u001b[0;32m    227\u001b[0m     \u001b[1;32mdef\u001b[0m \u001b[0m__len__\u001b[0m\u001b[1;33m(\u001b[0m\u001b[0mself\u001b[0m\u001b[1;33m)\u001b[0m\u001b[1;33m:\u001b[0m\u001b[1;33m\u001b[0m\u001b[1;33m\u001b[0m\u001b[0m\n",
      "\u001b[1;32mC:\\ProgramData\\Anaconda3\\lib\\site-packages\\sklearn\\externals\\joblib\\parallel.py\u001b[0m in \u001b[0;36m<listcomp>\u001b[1;34m(.0)\u001b[0m\n\u001b[0;32m    223\u001b[0m         \u001b[1;32mwith\u001b[0m \u001b[0mparallel_backend\u001b[0m\u001b[1;33m(\u001b[0m\u001b[0mself\u001b[0m\u001b[1;33m.\u001b[0m\u001b[0m_backend\u001b[0m\u001b[1;33m,\u001b[0m \u001b[0mn_jobs\u001b[0m\u001b[1;33m=\u001b[0m\u001b[0mself\u001b[0m\u001b[1;33m.\u001b[0m\u001b[0m_n_jobs\u001b[0m\u001b[1;33m)\u001b[0m\u001b[1;33m:\u001b[0m\u001b[1;33m\u001b[0m\u001b[1;33m\u001b[0m\u001b[0m\n\u001b[0;32m    224\u001b[0m             return [func(*args, **kwargs)\n\u001b[1;32m--> 225\u001b[1;33m                     for func, args, kwargs in self.items]\n\u001b[0m\u001b[0;32m    226\u001b[0m \u001b[1;33m\u001b[0m\u001b[0m\n\u001b[0;32m    227\u001b[0m     \u001b[1;32mdef\u001b[0m \u001b[0m__len__\u001b[0m\u001b[1;33m(\u001b[0m\u001b[0mself\u001b[0m\u001b[1;33m)\u001b[0m\u001b[1;33m:\u001b[0m\u001b[1;33m\u001b[0m\u001b[1;33m\u001b[0m\u001b[0m\n",
      "\u001b[1;32mC:\\ProgramData\\Anaconda3\\lib\\site-packages\\sklearn\\neighbors\\base.py\u001b[0m in \u001b[0;36m_tree_query_parallel_helper\u001b[1;34m(tree, data, n_neighbors, return_distance)\u001b[0m\n\u001b[0;32m    290\u001b[0m     \u001b[0munder\u001b[0m \u001b[0mPyPy\u001b[0m\u001b[1;33m.\u001b[0m\u001b[1;33m\u001b[0m\u001b[1;33m\u001b[0m\u001b[0m\n\u001b[0;32m    291\u001b[0m     \"\"\"\n\u001b[1;32m--> 292\u001b[1;33m     \u001b[1;32mreturn\u001b[0m \u001b[0mtree\u001b[0m\u001b[1;33m.\u001b[0m\u001b[0mquery\u001b[0m\u001b[1;33m(\u001b[0m\u001b[0mdata\u001b[0m\u001b[1;33m,\u001b[0m \u001b[0mn_neighbors\u001b[0m\u001b[1;33m,\u001b[0m \u001b[0mreturn_distance\u001b[0m\u001b[1;33m)\u001b[0m\u001b[1;33m\u001b[0m\u001b[1;33m\u001b[0m\u001b[0m\n\u001b[0m\u001b[0;32m    293\u001b[0m \u001b[1;33m\u001b[0m\u001b[0m\n\u001b[0;32m    294\u001b[0m \u001b[1;33m\u001b[0m\u001b[0m\n",
      "\u001b[1;31mKeyboardInterrupt\u001b[0m: "
     ]
    }
   ],
   "source": [
    "#Gridsearch CV to find Optimal K value for KNN model\n",
    "grid = {'n_neighbors':np.arange(1,20)}\n",
    "    \n",
    "knn_cv=GridSearchCV(m3,grid,cv=5)\n",
    "knn_cv.fit(xtrain,ytrain)\n",
    " \n",
    "\n",
    "print(\"Tuned Hyperparameter k: {}\".format(knn_cv.best_params_))"
   ]
  },
  {
   "cell_type": "code",
   "execution_count": 61,
   "metadata": {},
   "outputs": [
    {
     "name": "stdout",
     "output_type": "stream",
     "text": [
      "Testing set accuracy\n",
      "0.7029222850823089\n",
      "[[ 1968  5301]\n",
      " [ 1683 14557]]\n",
      "Training set accuracy\n",
      "0.7468005979509242\n",
      "[[ 5792 10919]\n",
      " [ 2970 35173]]\n"
     ]
    }
   ],
   "source": [
    "m3= KNeighborsClassifier(n_neighbors= 13)\n",
    "m3.fit(xtrain,ytrain)\n",
    "y_pred_kttest = m3.predict(xtest)\n",
    "print('Testing set accuracy')\n",
    "print(accuracy_score(ytest, y_pred_test))\n",
    "print(confusion_matrix(ytest,y_pred_test))\n",
    "y_pred_kttrain = m3.predict(xtrain)\n",
    "print('Training set accuracy')\n",
    "print(accuracy_score(ytrain, y_pred_train))\n",
    "print(confusion_matrix(ytrain,y_pred_train))"
   ]
  },
  {
   "cell_type": "markdown",
   "metadata": {},
   "source": [
    "# CAT BOOST Classifier"
   ]
  },
  {
   "cell_type": "code",
   "execution_count": 62,
   "metadata": {},
   "outputs": [
    {
     "name": "stdout",
     "output_type": "stream",
     "text": [
      "Collecting catboost\n",
      "  Downloading https://files.pythonhosted.org/packages/d1/52/ec09041f1d614f338050ee32b32e9b72f053dfa5c9e0fd9d827b4b405c33/catboost-0.17.4-cp37-none-win_amd64.whl (61.8MB)\n",
      "Requirement already satisfied: matplotlib in c:\\programdata\\anaconda3\\lib\\site-packages (from catboost) (3.0.3)\n",
      "Requirement already satisfied: numpy>=1.16.0 in c:\\programdata\\anaconda3\\lib\\site-packages (from catboost) (1.16.2)\n",
      "Requirement already satisfied: scipy in c:\\programdata\\anaconda3\\lib\\site-packages (from catboost) (1.2.1)\n",
      "Requirement already satisfied: six in c:\\programdata\\anaconda3\\lib\\site-packages (from catboost) (1.12.0)\n",
      "Collecting graphviz (from catboost)\n",
      "  Downloading https://files.pythonhosted.org/packages/94/cd/7b37f2b658995033879719e1ea4c9f171bf7a14c16b79220bd19f9eda3fe/graphviz-0.13-py2.py3-none-any.whl\n",
      "Requirement already satisfied: pandas>=0.24.0 in c:\\programdata\\anaconda3\\lib\\site-packages (from catboost) (0.24.2)\n",
      "Collecting plotly (from catboost)\n",
      "  Downloading https://files.pythonhosted.org/packages/70/19/8437e22c84083a6d5d8a3c80f4edc73c9dcbb89261d07e6bd13b48752bbd/plotly-4.1.1-py2.py3-none-any.whl (7.1MB)\n",
      "Requirement already satisfied: cycler>=0.10 in c:\\programdata\\anaconda3\\lib\\site-packages (from matplotlib->catboost) (0.10.0)\n",
      "Requirement already satisfied: kiwisolver>=1.0.1 in c:\\programdata\\anaconda3\\lib\\site-packages (from matplotlib->catboost) (1.0.1)\n",
      "Requirement already satisfied: pyparsing!=2.0.4,!=2.1.2,!=2.1.6,>=2.0.1 in c:\\programdata\\anaconda3\\lib\\site-packages (from matplotlib->catboost) (2.3.1)\n",
      "Requirement already satisfied: python-dateutil>=2.1 in c:\\programdata\\anaconda3\\lib\\site-packages (from matplotlib->catboost) (2.8.0)\n",
      "Requirement already satisfied: pytz>=2011k in c:\\programdata\\anaconda3\\lib\\site-packages (from pandas>=0.24.0->catboost) (2018.9)\n",
      "Collecting retrying>=1.3.3 (from plotly->catboost)\n",
      "  Downloading https://files.pythonhosted.org/packages/44/ef/beae4b4ef80902f22e3af073397f079c96969c69b2c7d52a57ea9ae61c9d/retrying-1.3.3.tar.gz\n",
      "Requirement already satisfied: setuptools in c:\\programdata\\anaconda3\\lib\\site-packages (from kiwisolver>=1.0.1->matplotlib->catboost) (40.8.0)\n",
      "Building wheels for collected packages: retrying\n",
      "  Building wheel for retrying (setup.py): started\n",
      "  Building wheel for retrying (setup.py): finished with status 'done'\n",
      "  Stored in directory: C:\\Users\\makam\\AppData\\Local\\pip\\Cache\\wheels\\d7\\a9\\33\\acc7b709e2a35caa7d4cae442f6fe6fbf2c43f80823d46460c\n",
      "Successfully built retrying\n",
      "Installing collected packages: graphviz, retrying, plotly, catboost\n",
      "Successfully installed catboost-0.17.4 graphviz-0.13 plotly-4.1.1 retrying-1.3.3\n",
      "Note: you may need to restart the kernel to use updated packages.\n"
     ]
    }
   ],
   "source": [
    "pip install catboost"
   ]
  },
  {
   "cell_type": "code",
   "execution_count": 63,
   "metadata": {},
   "outputs": [],
   "source": [
    "from catboost import CatBoostClassifier, Pool,cv\n",
    "#let us make the catboost model, use_best_model params will make the model prevent overfitting\n",
    "model = CatBoostClassifier(eval_metric='Accuracy',use_best_model=True,random_seed=42)"
   ]
  },
  {
   "cell_type": "code",
   "execution_count": 66,
   "metadata": {},
   "outputs": [],
   "source": [
    "cate_features_index = np.where(x.dtypes != int)[0]"
   ]
  },
  {
   "cell_type": "code",
   "execution_count": 67,
   "metadata": {
    "scrolled": true
   },
   "outputs": [
    {
     "name": "stdout",
     "output_type": "stream",
     "text": [
      "Learning rate set to 0.118814\n",
      "0:\tlearn: 0.7171036\ttest: 0.7221915\tbest: 0.7221915 (0)\ttotal: 392ms\tremaining: 6m 31s\n",
      "1:\tlearn: 0.7257812\ttest: 0.7283168\tbest: 0.7283168 (1)\ttotal: 573ms\tremaining: 4m 45s\n",
      "2:\tlearn: 0.7284063\ttest: 0.7281892\tbest: 0.7283168 (1)\ttotal: 764ms\tremaining: 4m 13s\n",
      "3:\tlearn: 0.7291720\ttest: 0.7301884\tbest: 0.7301884 (3)\ttotal: 979ms\tremaining: 4m 3s\n",
      "4:\tlearn: 0.7296824\ttest: 0.7309541\tbest: 0.7309541 (4)\ttotal: 1.19s\tremaining: 3m 56s\n",
      "5:\tlearn: 0.7311408\ttest: 0.7328683\tbest: 0.7328683 (5)\ttotal: 1.42s\tremaining: 3m 55s\n",
      "6:\tlearn: 0.7335837\ttest: 0.7343996\tbest: 0.7343996 (6)\ttotal: 1.68s\tremaining: 3m 57s\n",
      "7:\tlearn: 0.7328545\ttest: 0.7336339\tbest: 0.7343996 (6)\ttotal: 1.73s\tremaining: 3m 34s\n",
      "8:\tlearn: 0.7337478\ttest: 0.7358884\tbest: 0.7358884 (8)\ttotal: 1.96s\tremaining: 3m 35s\n",
      "9:\tlearn: 0.7338936\ttest: 0.7345272\tbest: 0.7358884 (8)\ttotal: 2.21s\tremaining: 3m 38s\n",
      "10:\tlearn: 0.7347687\ttest: 0.7352929\tbest: 0.7358884 (8)\ttotal: 2.52s\tremaining: 3m 46s\n",
      "11:\tlearn: 0.7361177\ttest: 0.7366540\tbest: 0.7366540 (11)\ttotal: 2.76s\tremaining: 3m 47s\n",
      "12:\tlearn: 0.7364276\ttest: 0.7384831\tbest: 0.7384831 (12)\ttotal: 3.13s\tremaining: 3m 57s\n",
      "13:\tlearn: 0.7356984\ttest: 0.7382279\tbest: 0.7384831 (12)\ttotal: 3.39s\tremaining: 3m 58s\n",
      "14:\tlearn: 0.7363729\ttest: 0.7379302\tbest: 0.7384831 (12)\ttotal: 3.58s\tremaining: 3m 55s\n",
      "15:\tlearn: 0.7377949\ttest: 0.7395891\tbest: 0.7395891 (15)\ttotal: 3.81s\tremaining: 3m 54s\n",
      "16:\tlearn: 0.7380683\ttest: 0.7393339\tbest: 0.7395891 (15)\ttotal: 4.1s\tremaining: 3m 57s\n",
      "17:\tlearn: 0.7390163\ttest: 0.7395891\tbest: 0.7395891 (15)\ttotal: 4.46s\tremaining: 4m 3s\n",
      "18:\tlearn: 0.7392351\ttest: 0.7402271\tbest: 0.7402271 (18)\ttotal: 4.67s\tremaining: 4m 1s\n",
      "19:\tlearn: 0.7405659\ttest: 0.7418010\tbest: 0.7418010 (19)\ttotal: 4.88s\tremaining: 3m 58s\n",
      "20:\tlearn: 0.7402195\ttest: 0.7418435\tbest: 0.7418435 (20)\ttotal: 5.13s\tremaining: 3m 59s\n",
      "21:\tlearn: 0.7405659\ttest: 0.7420562\tbest: 0.7420562 (21)\ttotal: 5.4s\tremaining: 4m\n",
      "22:\tlearn: 0.7410763\ttest: 0.7437152\tbest: 0.7437152 (22)\ttotal: 5.7s\tremaining: 4m 2s\n",
      "23:\tlearn: 0.7414956\ttest: 0.7430771\tbest: 0.7437152 (22)\ttotal: 5.93s\tremaining: 4m 1s\n",
      "24:\tlearn: 0.7424436\ttest: 0.7433749\tbest: 0.7437152 (22)\ttotal: 6.21s\tremaining: 4m 2s\n",
      "25:\tlearn: 0.7424983\ttest: 0.7437152\tbest: 0.7437152 (22)\ttotal: 6.47s\tremaining: 4m 2s\n",
      "26:\tlearn: 0.7423889\ttest: 0.7436301\tbest: 0.7437152 (22)\ttotal: 6.66s\tremaining: 4m\n",
      "27:\tlearn: 0.7430999\ttest: 0.7438853\tbest: 0.7438853 (27)\ttotal: 6.9s\tremaining: 3m 59s\n",
      "28:\tlearn: 0.7442301\ttest: 0.7452040\tbest: 0.7452040 (28)\ttotal: 7.1s\tremaining: 3m 57s\n",
      "29:\tlearn: 0.7439567\ttest: 0.7457569\tbest: 0.7457569 (29)\ttotal: 7.4s\tremaining: 3m 59s\n",
      "30:\tlearn: 0.7441572\ttest: 0.7458846\tbest: 0.7458846 (30)\ttotal: 7.68s\tremaining: 4m\n",
      "31:\tlearn: 0.7442119\ttest: 0.7463525\tbest: 0.7463525 (31)\ttotal: 7.88s\tremaining: 3m 58s\n",
      "32:\tlearn: 0.7443942\ttest: 0.7466502\tbest: 0.7466502 (32)\ttotal: 8.11s\tremaining: 3m 57s\n",
      "33:\tlearn: 0.7447224\ttest: 0.7469905\tbest: 0.7469905 (33)\ttotal: 8.3s\tremaining: 3m 55s\n",
      "34:\tlearn: 0.7445583\ttest: 0.7475860\tbest: 0.7475860 (34)\ttotal: 8.61s\tremaining: 3m 57s\n",
      "35:\tlearn: 0.7450140\ttest: 0.7475860\tbest: 0.7475860 (34)\ttotal: 8.89s\tremaining: 3m 58s\n",
      "36:\tlearn: 0.7452693\ttest: 0.7475860\tbest: 0.7475860 (34)\ttotal: 9.22s\tremaining: 3m 59s\n",
      "37:\tlearn: 0.7450870\ttest: 0.7480539\tbest: 0.7480539 (37)\ttotal: 9.53s\tremaining: 4m 1s\n",
      "38:\tlearn: 0.7451963\ttest: 0.7484368\tbest: 0.7484368 (38)\ttotal: 9.84s\tremaining: 4m 2s\n",
      "39:\tlearn: 0.7457250\ttest: 0.7479689\tbest: 0.7484368 (38)\ttotal: 10.2s\tremaining: 4m 5s\n",
      "40:\tlearn: 0.7459620\ttest: 0.7485644\tbest: 0.7485644 (40)\ttotal: 10.5s\tremaining: 4m 6s\n",
      "41:\tlearn: 0.7458344\ttest: 0.7486495\tbest: 0.7486495 (41)\ttotal: 10.8s\tremaining: 4m 6s\n",
      "42:\tlearn: 0.7460167\ttest: 0.7482666\tbest: 0.7486495 (41)\ttotal: 11s\tremaining: 4m 4s\n",
      "43:\tlearn: 0.7460167\ttest: 0.7489472\tbest: 0.7489472 (43)\ttotal: 11.4s\tremaining: 4m 6s\n",
      "44:\tlearn: 0.7468371\ttest: 0.7486920\tbest: 0.7489472 (43)\ttotal: 11.6s\tremaining: 4m 7s\n",
      "45:\tlearn: 0.7475116\ttest: 0.7492875\tbest: 0.7492875 (45)\ttotal: 11.9s\tremaining: 4m 6s\n",
      "46:\tlearn: 0.7473657\ttest: 0.7490748\tbest: 0.7492875 (45)\ttotal: 12.1s\tremaining: 4m 5s\n",
      "47:\tlearn: 0.7476574\ttest: 0.7492875\tbest: 0.7492875 (45)\ttotal: 12.3s\tremaining: 4m 4s\n",
      "48:\tlearn: 0.7476027\ttest: 0.7492450\tbest: 0.7492875 (45)\ttotal: 12.5s\tremaining: 4m 2s\n",
      "49:\tlearn: 0.7474933\ttest: 0.7495427\tbest: 0.7495427 (49)\ttotal: 12.7s\tremaining: 4m 1s\n",
      "50:\tlearn: 0.7476939\ttest: 0.7493726\tbest: 0.7495427 (49)\ttotal: 12.9s\tremaining: 4m\n",
      "51:\tlearn: 0.7476574\ttest: 0.7490323\tbest: 0.7495427 (49)\ttotal: 13.2s\tremaining: 4m 1s\n",
      "52:\tlearn: 0.7481132\ttest: 0.7491174\tbest: 0.7495427 (49)\ttotal: 13.5s\tremaining: 4m 1s\n",
      "53:\tlearn: 0.7478762\ttest: 0.7492024\tbest: 0.7495427 (49)\ttotal: 13.7s\tremaining: 4m\n",
      "54:\tlearn: 0.7482043\ttest: 0.7492024\tbest: 0.7495427 (49)\ttotal: 14s\tremaining: 3m 59s\n",
      "55:\tlearn: 0.7484231\ttest: 0.7493726\tbest: 0.7495427 (49)\ttotal: 14.1s\tremaining: 3m 58s\n",
      "56:\tlearn: 0.7482955\ttest: 0.7496278\tbest: 0.7496278 (56)\ttotal: 14.3s\tremaining: 3m 57s\n",
      "57:\tlearn: 0.7484049\ttest: 0.7495853\tbest: 0.7496278 (56)\ttotal: 14.6s\tremaining: 3m 56s\n",
      "58:\tlearn: 0.7485507\ttest: 0.7493300\tbest: 0.7496278 (56)\ttotal: 14.7s\tremaining: 3m 54s\n",
      "59:\tlearn: 0.7489518\ttest: 0.7497554\tbest: 0.7497554 (59)\ttotal: 14.9s\tremaining: 3m 54s\n",
      "60:\tlearn: 0.7493893\ttest: 0.7495427\tbest: 0.7497554 (59)\ttotal: 15.1s\tremaining: 3m 52s\n",
      "61:\tlearn: 0.7493346\ttest: 0.7500957\tbest: 0.7500957 (61)\ttotal: 15.3s\tremaining: 3m 51s\n",
      "62:\tlearn: 0.7491523\ttest: 0.7496278\tbest: 0.7500957 (61)\ttotal: 15.5s\tremaining: 3m 50s\n",
      "63:\tlearn: 0.7495534\ttest: 0.7500106\tbest: 0.7500957 (61)\ttotal: 15.7s\tremaining: 3m 48s\n",
      "64:\tlearn: 0.7497721\ttest: 0.7497554\tbest: 0.7500957 (61)\ttotal: 15.9s\tremaining: 3m 48s\n",
      "65:\tlearn: 0.7498450\ttest: 0.7498830\tbest: 0.7500957 (61)\ttotal: 16s\tremaining: 3m 47s\n",
      "66:\tlearn: 0.7498997\ttest: 0.7499681\tbest: 0.7500957 (61)\ttotal: 16.2s\tremaining: 3m 45s\n",
      "67:\tlearn: 0.7500820\ttest: 0.7505636\tbest: 0.7505636 (67)\ttotal: 16.4s\tremaining: 3m 45s\n",
      "68:\tlearn: 0.7500273\ttest: 0.7505636\tbest: 0.7505636 (67)\ttotal: 16.6s\tremaining: 3m 44s\n",
      "69:\tlearn: 0.7503555\ttest: 0.7515420\tbest: 0.7515420 (69)\ttotal: 16.9s\tremaining: 3m 43s\n",
      "70:\tlearn: 0.7505196\ttest: 0.7514994\tbest: 0.7515420 (69)\ttotal: 17s\tremaining: 3m 42s\n",
      "71:\tlearn: 0.7509753\ttest: 0.7516696\tbest: 0.7516696 (71)\ttotal: 17.3s\tremaining: 3m 42s\n",
      "72:\tlearn: 0.7508112\ttest: 0.7518823\tbest: 0.7518823 (72)\ttotal: 17.5s\tremaining: 3m 42s\n",
      "73:\tlearn: 0.7515587\ttest: 0.7522226\tbest: 0.7522226 (73)\ttotal: 17.7s\tremaining: 3m 41s\n",
      "74:\tlearn: 0.7516863\ttest: 0.7523076\tbest: 0.7523076 (74)\ttotal: 17.9s\tremaining: 3m 41s\n",
      "75:\tlearn: 0.7517228\ttest: 0.7527755\tbest: 0.7527755 (75)\ttotal: 18.1s\tremaining: 3m 40s\n",
      "76:\tlearn: 0.7519051\ttest: 0.7526054\tbest: 0.7527755 (75)\ttotal: 18.3s\tremaining: 3m 39s\n",
      "77:\tlearn: 0.7516134\ttest: 0.7520949\tbest: 0.7527755 (75)\ttotal: 18.5s\tremaining: 3m 39s\n",
      "78:\tlearn: 0.7522332\ttest: 0.7523076\tbest: 0.7527755 (75)\ttotal: 18.7s\tremaining: 3m 38s\n",
      "79:\tlearn: 0.7521785\ttest: 0.7525628\tbest: 0.7527755 (75)\ttotal: 18.9s\tremaining: 3m 37s\n",
      "80:\tlearn: 0.7522697\ttest: 0.7524778\tbest: 0.7527755 (75)\ttotal: 19.1s\tremaining: 3m 37s\n",
      "81:\tlearn: 0.7524155\ttest: 0.7526479\tbest: 0.7527755 (75)\ttotal: 19.4s\tremaining: 3m 36s\n",
      "82:\tlearn: 0.7523973\ttest: 0.7528181\tbest: 0.7528181 (82)\ttotal: 19.6s\tremaining: 3m 36s\n",
      "83:\tlearn: 0.7523061\ttest: 0.7524778\tbest: 0.7528181 (82)\ttotal: 19.8s\tremaining: 3m 35s\n",
      "84:\tlearn: 0.7521420\ttest: 0.7523502\tbest: 0.7528181 (82)\ttotal: 20s\tremaining: 3m 35s\n",
      "85:\tlearn: 0.7524884\ttest: 0.7529882\tbest: 0.7529882 (85)\ttotal: 20.1s\tremaining: 3m 34s\n",
      "86:\tlearn: 0.7526343\ttest: 0.7528181\tbest: 0.7529882 (85)\ttotal: 20.3s\tremaining: 3m 33s\n",
      "87:\tlearn: 0.7527072\ttest: 0.7531158\tbest: 0.7531158 (87)\ttotal: 20.6s\tremaining: 3m 33s\n",
      "88:\tlearn: 0.7531083\ttest: 0.7529882\tbest: 0.7531158 (87)\ttotal: 20.8s\tremaining: 3m 32s\n",
      "89:\tlearn: 0.7533088\ttest: 0.7535412\tbest: 0.7535412 (89)\ttotal: 21s\tremaining: 3m 32s\n",
      "90:\tlearn: 0.7534182\ttest: 0.7529457\tbest: 0.7535412 (89)\ttotal: 21.2s\tremaining: 3m 32s\n",
      "91:\tlearn: 0.7535640\ttest: 0.7529031\tbest: 0.7535412 (89)\ttotal: 21.4s\tremaining: 3m 31s\n",
      "92:\tlearn: 0.7536734\ttest: 0.7529882\tbest: 0.7535412 (89)\ttotal: 21.6s\tremaining: 3m 30s\n"
     ]
    },
    {
     "name": "stdout",
     "output_type": "stream",
     "text": [
      "93:\tlearn: 0.7537828\ttest: 0.7527330\tbest: 0.7535412 (89)\ttotal: 21.8s\tremaining: 3m 30s\n",
      "94:\tlearn: 0.7539286\ttest: 0.7528181\tbest: 0.7535412 (89)\ttotal: 22s\tremaining: 3m 29s\n",
      "95:\tlearn: 0.7541109\ttest: 0.7526479\tbest: 0.7535412 (89)\ttotal: 22.2s\tremaining: 3m 29s\n",
      "96:\tlearn: 0.7543114\ttest: 0.7531158\tbest: 0.7535412 (89)\ttotal: 22.4s\tremaining: 3m 28s\n",
      "97:\tlearn: 0.7540015\ttest: 0.7534561\tbest: 0.7535412 (89)\ttotal: 22.6s\tremaining: 3m 27s\n",
      "98:\tlearn: 0.7541291\ttest: 0.7534987\tbest: 0.7535412 (89)\ttotal: 22.8s\tremaining: 3m 27s\n",
      "99:\tlearn: 0.7540927\ttest: 0.7535412\tbest: 0.7535412 (89)\ttotal: 22.9s\tremaining: 3m 26s\n",
      "100:\tlearn: 0.7545120\ttest: 0.7534987\tbest: 0.7535412 (89)\ttotal: 23.1s\tremaining: 3m 26s\n",
      "101:\tlearn: 0.7546760\ttest: 0.7541367\tbest: 0.7541367 (101)\ttotal: 23.3s\tremaining: 3m 25s\n",
      "102:\tlearn: 0.7547854\ttest: 0.7541793\tbest: 0.7541793 (102)\ttotal: 23.5s\tremaining: 3m 24s\n",
      "103:\tlearn: 0.7552047\ttest: 0.7544345\tbest: 0.7544345 (103)\ttotal: 23.7s\tremaining: 3m 24s\n",
      "104:\tlearn: 0.7551865\ttest: 0.7547748\tbest: 0.7547748 (104)\ttotal: 24s\tremaining: 3m 24s\n",
      "105:\tlearn: 0.7553870\ttest: 0.7548173\tbest: 0.7548173 (105)\ttotal: 24.2s\tremaining: 3m 24s\n",
      "106:\tlearn: 0.7554417\ttest: 0.7544770\tbest: 0.7548173 (105)\ttotal: 24.4s\tremaining: 3m 23s\n",
      "107:\tlearn: 0.7555876\ttest: 0.7545621\tbest: 0.7548173 (105)\ttotal: 24.6s\tremaining: 3m 23s\n",
      "108:\tlearn: 0.7556058\ttest: 0.7549024\tbest: 0.7549024 (108)\ttotal: 24.9s\tremaining: 3m 23s\n",
      "109:\tlearn: 0.7556423\ttest: 0.7548173\tbest: 0.7549024 (108)\ttotal: 25.1s\tremaining: 3m 22s\n",
      "110:\tlearn: 0.7555876\ttest: 0.7549024\tbest: 0.7549024 (108)\ttotal: 25.3s\tremaining: 3m 22s\n",
      "111:\tlearn: 0.7560798\ttest: 0.7547748\tbest: 0.7549024 (108)\ttotal: 25.5s\tremaining: 3m 22s\n",
      "112:\tlearn: 0.7560251\ttest: 0.7547322\tbest: 0.7549024 (108)\ttotal: 25.7s\tremaining: 3m 21s\n",
      "113:\tlearn: 0.7561709\ttest: 0.7547748\tbest: 0.7549024 (108)\ttotal: 26s\tremaining: 3m 21s\n",
      "114:\tlearn: 0.7566267\ttest: 0.7550725\tbest: 0.7550725 (114)\ttotal: 26.2s\tremaining: 3m 21s\n",
      "115:\tlearn: 0.7568090\ttest: 0.7550725\tbest: 0.7550725 (114)\ttotal: 26.4s\tremaining: 3m 20s\n",
      "116:\tlearn: 0.7569913\ttest: 0.7554979\tbest: 0.7554979 (116)\ttotal: 26.6s\tremaining: 3m 20s\n",
      "117:\tlearn: 0.7569001\ttest: 0.7555404\tbest: 0.7555404 (117)\ttotal: 26.7s\tremaining: 3m 19s\n",
      "118:\tlearn: 0.7571554\ttest: 0.7555830\tbest: 0.7555830 (118)\ttotal: 26.9s\tremaining: 3m 19s\n",
      "119:\tlearn: 0.7572465\ttest: 0.7560934\tbest: 0.7560934 (119)\ttotal: 27.1s\tremaining: 3m 18s\n",
      "120:\tlearn: 0.7573012\ttest: 0.7559233\tbest: 0.7560934 (119)\ttotal: 27.4s\tremaining: 3m 19s\n",
      "121:\tlearn: 0.7573377\ttest: 0.7558807\tbest: 0.7560934 (119)\ttotal: 27.6s\tremaining: 3m 18s\n",
      "122:\tlearn: 0.7574835\ttest: 0.7560934\tbest: 0.7560934 (119)\ttotal: 27.9s\tremaining: 3m 18s\n",
      "123:\tlearn: 0.7577752\ttest: 0.7558807\tbest: 0.7560934 (119)\ttotal: 28.1s\tremaining: 3m 18s\n",
      "124:\tlearn: 0.7577752\ttest: 0.7558807\tbest: 0.7560934 (119)\ttotal: 28.4s\tremaining: 3m 18s\n",
      "125:\tlearn: 0.7575564\ttest: 0.7558382\tbest: 0.7560934 (119)\ttotal: 28.5s\tremaining: 3m 18s\n",
      "126:\tlearn: 0.7577205\ttest: 0.7558807\tbest: 0.7560934 (119)\ttotal: 29s\tremaining: 3m 19s\n",
      "127:\tlearn: 0.7579939\ttest: 0.7562210\tbest: 0.7562210 (127)\ttotal: 29.2s\tremaining: 3m 19s\n",
      "128:\tlearn: 0.7577934\ttest: 0.7561785\tbest: 0.7562210 (127)\ttotal: 29.4s\tremaining: 3m 18s\n",
      "129:\tlearn: 0.7578299\ttest: 0.7562636\tbest: 0.7562636 (129)\ttotal: 29.6s\tremaining: 3m 18s\n",
      "130:\tlearn: 0.7582492\ttest: 0.7566464\tbest: 0.7566464 (130)\ttotal: 29.9s\tremaining: 3m 18s\n",
      "131:\tlearn: 0.7582674\ttest: 0.7564762\tbest: 0.7566464 (130)\ttotal: 30.1s\tremaining: 3m 17s\n",
      "132:\tlearn: 0.7582674\ttest: 0.7561785\tbest: 0.7566464 (130)\ttotal: 30.3s\tremaining: 3m 17s\n",
      "133:\tlearn: 0.7585226\ttest: 0.7562210\tbest: 0.7566464 (130)\ttotal: 30.6s\tremaining: 3m 17s\n",
      "134:\tlearn: 0.7584862\ttest: 0.7563912\tbest: 0.7566464 (130)\ttotal: 30.8s\tremaining: 3m 17s\n",
      "135:\tlearn: 0.7589419\ttest: 0.7569016\tbest: 0.7569016 (135)\ttotal: 31s\tremaining: 3m 16s\n",
      "136:\tlearn: 0.7589055\ttest: 0.7568165\tbest: 0.7569016 (135)\ttotal: 31.2s\tremaining: 3m 16s\n",
      "137:\tlearn: 0.7591607\ttest: 0.7566464\tbest: 0.7569016 (135)\ttotal: 31.4s\tremaining: 3m 16s\n",
      "138:\tlearn: 0.7593794\ttest: 0.7566464\tbest: 0.7569016 (135)\ttotal: 31.7s\tremaining: 3m 16s\n",
      "139:\tlearn: 0.7594706\ttest: 0.7571143\tbest: 0.7571143 (139)\ttotal: 32s\tremaining: 3m 16s\n",
      "140:\tlearn: 0.7592518\ttest: 0.7570292\tbest: 0.7571143 (139)\ttotal: 32.2s\tremaining: 3m 16s\n",
      "141:\tlearn: 0.7593065\ttest: 0.7573695\tbest: 0.7573695 (141)\ttotal: 32.4s\tremaining: 3m 16s\n",
      "142:\tlearn: 0.7592883\ttest: 0.7573270\tbest: 0.7573695 (141)\ttotal: 32.6s\tremaining: 3m 15s\n",
      "143:\tlearn: 0.7595253\ttest: 0.7575397\tbest: 0.7575397 (143)\ttotal: 32.9s\tremaining: 3m 15s\n",
      "144:\tlearn: 0.7598717\ttest: 0.7571143\tbest: 0.7575397 (143)\ttotal: 33s\tremaining: 3m 14s\n",
      "145:\tlearn: 0.7600357\ttest: 0.7576247\tbest: 0.7576247 (145)\ttotal: 33.3s\tremaining: 3m 14s\n",
      "146:\tlearn: 0.7599081\ttest: 0.7577949\tbest: 0.7577949 (146)\ttotal: 33.5s\tremaining: 3m 14s\n",
      "147:\tlearn: 0.7599446\ttest: 0.7578800\tbest: 0.7578800 (147)\ttotal: 33.8s\tremaining: 3m 14s\n",
      "148:\tlearn: 0.7600357\ttest: 0.7582203\tbest: 0.7582203 (148)\ttotal: 33.9s\tremaining: 3m 13s\n",
      "149:\tlearn: 0.7604733\ttest: 0.7577949\tbest: 0.7582203 (148)\ttotal: 34.1s\tremaining: 3m 13s\n",
      "150:\tlearn: 0.7603456\ttest: 0.7579225\tbest: 0.7582203 (148)\ttotal: 34.3s\tremaining: 3m 12s\n",
      "151:\tlearn: 0.7603821\ttest: 0.7579225\tbest: 0.7582203 (148)\ttotal: 34.5s\tremaining: 3m 12s\n",
      "152:\tlearn: 0.7603274\ttest: 0.7579650\tbest: 0.7582203 (148)\ttotal: 34.7s\tremaining: 3m 12s\n",
      "153:\tlearn: 0.7604915\ttest: 0.7580076\tbest: 0.7582203 (148)\ttotal: 35s\tremaining: 3m 12s\n",
      "154:\tlearn: 0.7605279\ttest: 0.7579225\tbest: 0.7582203 (148)\ttotal: 35.3s\tremaining: 3m 12s\n",
      "155:\tlearn: 0.7606373\ttest: 0.7572844\tbest: 0.7582203 (148)\ttotal: 35.5s\tremaining: 3m 11s\n",
      "156:\tlearn: 0.7607832\ttest: 0.7572419\tbest: 0.7582203 (148)\ttotal: 35.7s\tremaining: 3m 11s\n",
      "157:\tlearn: 0.7607102\ttest: 0.7573695\tbest: 0.7582203 (148)\ttotal: 35.8s\tremaining: 3m 11s\n",
      "158:\tlearn: 0.7606191\ttest: 0.7574971\tbest: 0.7582203 (148)\ttotal: 36.1s\tremaining: 3m 10s\n",
      "159:\tlearn: 0.7608379\ttest: 0.7576673\tbest: 0.7582203 (148)\ttotal: 36.3s\tremaining: 3m 10s\n",
      "160:\tlearn: 0.7609290\ttest: 0.7577098\tbest: 0.7582203 (148)\ttotal: 36.6s\tremaining: 3m 10s\n",
      "161:\tlearn: 0.7611478\ttest: 0.7578374\tbest: 0.7582203 (148)\ttotal: 36.8s\tremaining: 3m 10s\n",
      "162:\tlearn: 0.7614030\ttest: 0.7576673\tbest: 0.7582203 (148)\ttotal: 37s\tremaining: 3m 10s\n",
      "163:\tlearn: 0.7616035\ttest: 0.7573270\tbest: 0.7582203 (148)\ttotal: 37.3s\tremaining: 3m 10s\n",
      "164:\tlearn: 0.7616582\ttest: 0.7575397\tbest: 0.7582203 (148)\ttotal: 37.5s\tremaining: 3m 10s\n",
      "165:\tlearn: 0.7615124\ttest: 0.7576247\tbest: 0.7582203 (148)\ttotal: 37.8s\tremaining: 3m 9s\n",
      "166:\tlearn: 0.7616218\ttest: 0.7576247\tbest: 0.7582203 (148)\ttotal: 37.9s\tremaining: 3m 9s\n",
      "167:\tlearn: 0.7618770\ttest: 0.7575822\tbest: 0.7582203 (148)\ttotal: 38.1s\tremaining: 3m 8s\n",
      "168:\tlearn: 0.7618223\ttest: 0.7580076\tbest: 0.7582203 (148)\ttotal: 38.4s\tremaining: 3m 8s\n",
      "169:\tlearn: 0.7620228\ttest: 0.7580076\tbest: 0.7582203 (148)\ttotal: 38.5s\tremaining: 3m 7s\n",
      "170:\tlearn: 0.7621322\ttest: 0.7583479\tbest: 0.7583479 (170)\ttotal: 38.8s\tremaining: 3m 7s\n",
      "171:\tlearn: 0.7619864\ttest: 0.7582203\tbest: 0.7583479 (170)\ttotal: 39s\tremaining: 3m 7s\n",
      "172:\tlearn: 0.7621869\ttest: 0.7583904\tbest: 0.7583904 (172)\ttotal: 39.2s\tremaining: 3m 7s\n",
      "173:\tlearn: 0.7621869\ttest: 0.7581352\tbest: 0.7583904 (172)\ttotal: 39.6s\tremaining: 3m 7s\n",
      "174:\tlearn: 0.7623510\ttest: 0.7586031\tbest: 0.7586031 (174)\ttotal: 39.8s\tremaining: 3m 7s\n",
      "175:\tlearn: 0.7623692\ttest: 0.7586031\tbest: 0.7586031 (174)\ttotal: 40s\tremaining: 3m 7s\n",
      "176:\tlearn: 0.7621322\ttest: 0.7586456\tbest: 0.7586456 (176)\ttotal: 40.2s\tremaining: 3m 6s\n",
      "177:\tlearn: 0.7626244\ttest: 0.7588158\tbest: 0.7588158 (177)\ttotal: 40.4s\tremaining: 3m 6s\n",
      "178:\tlearn: 0.7624057\ttest: 0.7585606\tbest: 0.7588158 (177)\ttotal: 40.5s\tremaining: 3m 5s\n",
      "179:\tlearn: 0.7625150\ttest: 0.7588583\tbest: 0.7588583 (179)\ttotal: 40.8s\tremaining: 3m 5s\n",
      "180:\tlearn: 0.7625697\ttest: 0.7589859\tbest: 0.7589859 (180)\ttotal: 41s\tremaining: 3m 5s\n",
      "181:\tlearn: 0.7627338\ttest: 0.7588583\tbest: 0.7589859 (180)\ttotal: 41.3s\tremaining: 3m 5s\n",
      "182:\tlearn: 0.7628067\ttest: 0.7588158\tbest: 0.7589859 (180)\ttotal: 41.6s\tremaining: 3m 5s\n",
      "183:\tlearn: 0.7628979\ttest: 0.7588158\tbest: 0.7589859 (180)\ttotal: 41.8s\tremaining: 3m 5s\n"
     ]
    },
    {
     "name": "stdout",
     "output_type": "stream",
     "text": [
      "184:\tlearn: 0.7630255\ttest: 0.7588583\tbest: 0.7589859 (180)\ttotal: 42.1s\tremaining: 3m 5s\n",
      "185:\tlearn: 0.7630255\ttest: 0.7588583\tbest: 0.7589859 (180)\ttotal: 42.3s\tremaining: 3m 5s\n",
      "186:\tlearn: 0.7634995\ttest: 0.7590710\tbest: 0.7590710 (186)\ttotal: 42.5s\tremaining: 3m 4s\n",
      "187:\tlearn: 0.7635359\ttest: 0.7587732\tbest: 0.7590710 (186)\ttotal: 42.7s\tremaining: 3m 4s\n",
      "188:\tlearn: 0.7636818\ttest: 0.7586882\tbest: 0.7590710 (186)\ttotal: 43.1s\tremaining: 3m 4s\n",
      "189:\tlearn: 0.7635906\ttest: 0.7586882\tbest: 0.7590710 (186)\ttotal: 43.4s\tremaining: 3m 5s\n",
      "190:\tlearn: 0.7634995\ttest: 0.7586456\tbest: 0.7590710 (186)\ttotal: 43.7s\tremaining: 3m 5s\n",
      "191:\tlearn: 0.7639005\ttest: 0.7585606\tbest: 0.7590710 (186)\ttotal: 44s\tremaining: 3m 5s\n",
      "192:\tlearn: 0.7639917\ttest: 0.7583904\tbest: 0.7590710 (186)\ttotal: 44.3s\tremaining: 3m 5s\n",
      "193:\tlearn: 0.7641558\ttest: 0.7583904\tbest: 0.7590710 (186)\ttotal: 44.5s\tremaining: 3m 5s\n",
      "194:\tlearn: 0.7643745\ttest: 0.7583904\tbest: 0.7590710 (186)\ttotal: 44.8s\tremaining: 3m 4s\n",
      "195:\tlearn: 0.7644292\ttest: 0.7584755\tbest: 0.7590710 (186)\ttotal: 45.1s\tremaining: 3m 4s\n",
      "196:\tlearn: 0.7643016\ttest: 0.7584329\tbest: 0.7590710 (186)\ttotal: 45.3s\tremaining: 3m 4s\n",
      "197:\tlearn: 0.7646115\ttest: 0.7586456\tbest: 0.7590710 (186)\ttotal: 45.6s\tremaining: 3m 4s\n",
      "198:\tlearn: 0.7649579\ttest: 0.7586456\tbest: 0.7590710 (186)\ttotal: 45.8s\tremaining: 3m 4s\n",
      "199:\tlearn: 0.7652131\ttest: 0.7584329\tbest: 0.7590710 (186)\ttotal: 46s\tremaining: 3m 4s\n",
      "200:\tlearn: 0.7652496\ttest: 0.7584329\tbest: 0.7590710 (186)\ttotal: 46.3s\tremaining: 3m 3s\n",
      "201:\tlearn: 0.7652496\ttest: 0.7583053\tbest: 0.7590710 (186)\ttotal: 46.5s\tremaining: 3m 3s\n",
      "202:\tlearn: 0.7652860\ttest: 0.7589008\tbest: 0.7590710 (186)\ttotal: 46.7s\tremaining: 3m 3s\n",
      "203:\tlearn: 0.7654683\ttest: 0.7586456\tbest: 0.7590710 (186)\ttotal: 47s\tremaining: 3m 3s\n",
      "204:\tlearn: 0.7655959\ttest: 0.7587732\tbest: 0.7590710 (186)\ttotal: 47.2s\tremaining: 3m 2s\n",
      "205:\tlearn: 0.7656506\ttest: 0.7588158\tbest: 0.7590710 (186)\ttotal: 47.4s\tremaining: 3m 2s\n",
      "206:\tlearn: 0.7655777\ttest: 0.7591986\tbest: 0.7591986 (206)\ttotal: 47.6s\tremaining: 3m 2s\n",
      "207:\tlearn: 0.7656142\ttest: 0.7589434\tbest: 0.7591986 (206)\ttotal: 47.8s\tremaining: 3m 2s\n",
      "208:\tlearn: 0.7656871\ttest: 0.7593688\tbest: 0.7593688 (208)\ttotal: 48s\tremaining: 3m 1s\n",
      "209:\tlearn: 0.7657236\ttest: 0.7593262\tbest: 0.7593688 (208)\ttotal: 48.3s\tremaining: 3m 1s\n",
      "210:\tlearn: 0.7659788\ttest: 0.7591135\tbest: 0.7593688 (208)\ttotal: 48.5s\tremaining: 3m 1s\n",
      "211:\tlearn: 0.7661246\ttest: 0.7589434\tbest: 0.7593688 (208)\ttotal: 48.7s\tremaining: 3m 1s\n",
      "212:\tlearn: 0.7661429\ttest: 0.7591135\tbest: 0.7593688 (208)\ttotal: 49.1s\tremaining: 3m 1s\n",
      "213:\tlearn: 0.7660882\ttest: 0.7587732\tbest: 0.7593688 (208)\ttotal: 49.4s\tremaining: 3m 1s\n",
      "214:\tlearn: 0.7664710\ttest: 0.7583479\tbest: 0.7593688 (208)\ttotal: 49.7s\tremaining: 3m 1s\n",
      "215:\tlearn: 0.7666351\ttest: 0.7581777\tbest: 0.7593688 (208)\ttotal: 49.9s\tremaining: 3m 1s\n",
      "216:\tlearn: 0.7666168\ttest: 0.7582628\tbest: 0.7593688 (208)\ttotal: 50.1s\tremaining: 3m\n",
      "217:\tlearn: 0.7664163\ttest: 0.7584755\tbest: 0.7593688 (208)\ttotal: 50.3s\tremaining: 3m\n",
      "218:\tlearn: 0.7666533\ttest: 0.7583053\tbest: 0.7593688 (208)\ttotal: 50.7s\tremaining: 3m\n",
      "219:\tlearn: 0.7668538\ttest: 0.7580501\tbest: 0.7593688 (208)\ttotal: 50.9s\tremaining: 3m\n",
      "220:\tlearn: 0.7668903\ttest: 0.7583479\tbest: 0.7593688 (208)\ttotal: 51.2s\tremaining: 3m\n",
      "221:\tlearn: 0.7669450\ttest: 0.7584755\tbest: 0.7593688 (208)\ttotal: 51.4s\tremaining: 3m\n",
      "222:\tlearn: 0.7671637\ttest: 0.7583479\tbest: 0.7593688 (208)\ttotal: 51.6s\tremaining: 2m 59s\n",
      "223:\tlearn: 0.7671637\ttest: 0.7586456\tbest: 0.7593688 (208)\ttotal: 51.8s\tremaining: 2m 59s\n",
      "224:\tlearn: 0.7672731\ttest: 0.7583053\tbest: 0.7593688 (208)\ttotal: 52s\tremaining: 2m 59s\n",
      "225:\tlearn: 0.7672549\ttest: 0.7586882\tbest: 0.7593688 (208)\ttotal: 52.2s\tremaining: 2m 58s\n",
      "226:\tlearn: 0.7672184\ttest: 0.7586031\tbest: 0.7593688 (208)\ttotal: 52.5s\tremaining: 2m 58s\n",
      "227:\tlearn: 0.7671820\ttest: 0.7588583\tbest: 0.7593688 (208)\ttotal: 52.7s\tremaining: 2m 58s\n",
      "228:\tlearn: 0.7672549\ttest: 0.7590285\tbest: 0.7593688 (208)\ttotal: 52.9s\tremaining: 2m 58s\n",
      "229:\tlearn: 0.7674372\ttest: 0.7592411\tbest: 0.7593688 (208)\ttotal: 53.2s\tremaining: 2m 57s\n",
      "230:\tlearn: 0.7674007\ttest: 0.7592837\tbest: 0.7593688 (208)\ttotal: 53.4s\tremaining: 2m 57s\n",
      "231:\tlearn: 0.7673460\ttest: 0.7589859\tbest: 0.7593688 (208)\ttotal: 53.6s\tremaining: 2m 57s\n",
      "232:\tlearn: 0.7672549\ttest: 0.7591135\tbest: 0.7593688 (208)\ttotal: 53.8s\tremaining: 2m 57s\n",
      "233:\tlearn: 0.7673825\ttest: 0.7585606\tbest: 0.7593688 (208)\ttotal: 54.1s\tremaining: 2m 57s\n",
      "234:\tlearn: 0.7674554\ttest: 0.7586882\tbest: 0.7593688 (208)\ttotal: 54.4s\tremaining: 2m 57s\n",
      "235:\tlearn: 0.7676377\ttest: 0.7589008\tbest: 0.7593688 (208)\ttotal: 54.6s\tremaining: 2m 56s\n",
      "236:\tlearn: 0.7674554\ttest: 0.7591135\tbest: 0.7593688 (208)\ttotal: 54.8s\tremaining: 2m 56s\n",
      "237:\tlearn: 0.7674919\ttest: 0.7588158\tbest: 0.7593688 (208)\ttotal: 55.1s\tremaining: 2m 56s\n",
      "238:\tlearn: 0.7675830\ttest: 0.7592837\tbest: 0.7593688 (208)\ttotal: 55.3s\tremaining: 2m 56s\n",
      "239:\tlearn: 0.7676195\ttest: 0.7589008\tbest: 0.7593688 (208)\ttotal: 55.5s\tremaining: 2m 55s\n",
      "240:\tlearn: 0.7678930\ttest: 0.7591986\tbest: 0.7593688 (208)\ttotal: 55.8s\tremaining: 2m 55s\n",
      "241:\tlearn: 0.7679476\ttest: 0.7589859\tbest: 0.7593688 (208)\ttotal: 56s\tremaining: 2m 55s\n",
      "242:\tlearn: 0.7680753\ttest: 0.7595814\tbest: 0.7595814 (242)\ttotal: 56.3s\tremaining: 2m 55s\n",
      "243:\tlearn: 0.7681299\ttest: 0.7596240\tbest: 0.7596240 (243)\ttotal: 56.5s\tremaining: 2m 54s\n",
      "244:\tlearn: 0.7682211\ttest: 0.7597516\tbest: 0.7597516 (244)\ttotal: 56.7s\tremaining: 2m 54s\n",
      "245:\tlearn: 0.7682393\ttest: 0.7596240\tbest: 0.7597516 (244)\ttotal: 56.9s\tremaining: 2m 54s\n",
      "246:\tlearn: 0.7688409\ttest: 0.7595389\tbest: 0.7597516 (244)\ttotal: 57.1s\tremaining: 2m 54s\n",
      "247:\tlearn: 0.7689503\ttest: 0.7594964\tbest: 0.7597516 (244)\ttotal: 57.3s\tremaining: 2m 53s\n",
      "248:\tlearn: 0.7688956\ttest: 0.7596665\tbest: 0.7597516 (244)\ttotal: 57.5s\tremaining: 2m 53s\n",
      "249:\tlearn: 0.7688774\ttest: 0.7596665\tbest: 0.7597516 (244)\ttotal: 57.8s\tremaining: 2m 53s\n",
      "250:\tlearn: 0.7687498\ttest: 0.7598792\tbest: 0.7598792 (250)\ttotal: 58.2s\tremaining: 2m 53s\n",
      "251:\tlearn: 0.7690050\ttest: 0.7599217\tbest: 0.7599217 (251)\ttotal: 58.4s\tremaining: 2m 53s\n",
      "252:\tlearn: 0.7690961\ttest: 0.7597090\tbest: 0.7599217 (251)\ttotal: 58.7s\tremaining: 2m 53s\n",
      "253:\tlearn: 0.7690232\ttest: 0.7596665\tbest: 0.7599217 (251)\ttotal: 58.9s\tremaining: 2m 53s\n",
      "254:\tlearn: 0.7689868\ttest: 0.7599217\tbest: 0.7599217 (251)\ttotal: 59.1s\tremaining: 2m 52s\n",
      "255:\tlearn: 0.7691508\ttest: 0.7599217\tbest: 0.7599217 (251)\ttotal: 59.3s\tremaining: 2m 52s\n",
      "256:\tlearn: 0.7692055\ttest: 0.7597941\tbest: 0.7599217 (251)\ttotal: 59.5s\tremaining: 2m 51s\n",
      "257:\tlearn: 0.7694243\ttest: 0.7598367\tbest: 0.7599217 (251)\ttotal: 59.7s\tremaining: 2m 51s\n",
      "258:\tlearn: 0.7694790\ttest: 0.7595389\tbest: 0.7599217 (251)\ttotal: 59.9s\tremaining: 2m 51s\n",
      "259:\tlearn: 0.7697160\ttest: 0.7591135\tbest: 0.7599217 (251)\ttotal: 1m\tremaining: 2m 51s\n",
      "260:\tlearn: 0.7696066\ttest: 0.7593688\tbest: 0.7599217 (251)\ttotal: 1m\tremaining: 2m 50s\n",
      "261:\tlearn: 0.7696613\ttest: 0.7594113\tbest: 0.7599217 (251)\ttotal: 1m\tremaining: 2m 50s\n",
      "262:\tlearn: 0.7698618\ttest: 0.7591561\tbest: 0.7599217 (251)\ttotal: 1m\tremaining: 2m 50s\n",
      "263:\tlearn: 0.7699530\ttest: 0.7591135\tbest: 0.7599217 (251)\ttotal: 1m\tremaining: 2m 49s\n",
      "264:\tlearn: 0.7699347\ttest: 0.7590285\tbest: 0.7599217 (251)\ttotal: 1m 1s\tremaining: 2m 49s\n",
      "265:\tlearn: 0.7701900\ttest: 0.7589008\tbest: 0.7599217 (251)\ttotal: 1m 1s\tremaining: 2m 49s\n",
      "266:\tlearn: 0.7702082\ttest: 0.7588158\tbest: 0.7599217 (251)\ttotal: 1m 1s\tremaining: 2m 49s\n",
      "267:\tlearn: 0.7701717\ttest: 0.7590285\tbest: 0.7599217 (251)\ttotal: 1m 1s\tremaining: 2m 48s\n",
      "268:\tlearn: 0.7702264\ttest: 0.7591986\tbest: 0.7599217 (251)\ttotal: 1m 1s\tremaining: 2m 48s\n",
      "269:\tlearn: 0.7703540\ttest: 0.7591986\tbest: 0.7599217 (251)\ttotal: 1m 2s\tremaining: 2m 48s\n",
      "270:\tlearn: 0.7705363\ttest: 0.7595389\tbest: 0.7599217 (251)\ttotal: 1m 2s\tremaining: 2m 48s\n",
      "271:\tlearn: 0.7705363\ttest: 0.7595389\tbest: 0.7599217 (251)\ttotal: 1m 2s\tremaining: 2m 47s\n",
      "272:\tlearn: 0.7704816\ttest: 0.7594964\tbest: 0.7599217 (251)\ttotal: 1m 2s\tremaining: 2m 47s\n",
      "273:\tlearn: 0.7707186\ttest: 0.7594964\tbest: 0.7599217 (251)\ttotal: 1m 3s\tremaining: 2m 47s\n",
      "274:\tlearn: 0.7707369\ttest: 0.7595389\tbest: 0.7599217 (251)\ttotal: 1m 3s\tremaining: 2m 46s\n"
     ]
    },
    {
     "name": "stdout",
     "output_type": "stream",
     "text": [
      "275:\tlearn: 0.7705910\ttest: 0.7594964\tbest: 0.7599217 (251)\ttotal: 1m 3s\tremaining: 2m 46s\n",
      "276:\tlearn: 0.7706275\ttest: 0.7593262\tbest: 0.7599217 (251)\ttotal: 1m 3s\tremaining: 2m 46s\n",
      "277:\tlearn: 0.7708645\ttest: 0.7591986\tbest: 0.7599217 (251)\ttotal: 1m 3s\tremaining: 2m 45s\n",
      "278:\tlearn: 0.7708645\ttest: 0.7590710\tbest: 0.7599217 (251)\ttotal: 1m 4s\tremaining: 2m 45s\n",
      "279:\tlearn: 0.7711197\ttest: 0.7589008\tbest: 0.7599217 (251)\ttotal: 1m 4s\tremaining: 2m 45s\n",
      "280:\tlearn: 0.7709556\ttest: 0.7587732\tbest: 0.7599217 (251)\ttotal: 1m 4s\tremaining: 2m 45s\n",
      "281:\tlearn: 0.7710650\ttest: 0.7590285\tbest: 0.7599217 (251)\ttotal: 1m 4s\tremaining: 2m 44s\n",
      "282:\tlearn: 0.7709921\ttest: 0.7588158\tbest: 0.7599217 (251)\ttotal: 1m 4s\tremaining: 2m 44s\n",
      "283:\tlearn: 0.7710285\ttest: 0.7588158\tbest: 0.7599217 (251)\ttotal: 1m 5s\tremaining: 2m 44s\n",
      "284:\tlearn: 0.7714843\ttest: 0.7591561\tbest: 0.7599217 (251)\ttotal: 1m 5s\tremaining: 2m 44s\n",
      "285:\tlearn: 0.7713749\ttest: 0.7592411\tbest: 0.7599217 (251)\ttotal: 1m 5s\tremaining: 2m 43s\n",
      "286:\tlearn: 0.7715937\ttest: 0.7590285\tbest: 0.7599217 (251)\ttotal: 1m 5s\tremaining: 2m 43s\n",
      "287:\tlearn: 0.7714478\ttest: 0.7588583\tbest: 0.7599217 (251)\ttotal: 1m 6s\tremaining: 2m 43s\n",
      "288:\tlearn: 0.7718489\ttest: 0.7587732\tbest: 0.7599217 (251)\ttotal: 1m 6s\tremaining: 2m 43s\n",
      "289:\tlearn: 0.7717760\ttest: 0.7587307\tbest: 0.7599217 (251)\ttotal: 1m 6s\tremaining: 2m 43s\n",
      "290:\tlearn: 0.7719218\ttest: 0.7587732\tbest: 0.7599217 (251)\ttotal: 1m 6s\tremaining: 2m 42s\n",
      "291:\tlearn: 0.7718854\ttest: 0.7586456\tbest: 0.7599217 (251)\ttotal: 1m 7s\tremaining: 2m 42s\n",
      "292:\tlearn: 0.7721041\ttest: 0.7590710\tbest: 0.7599217 (251)\ttotal: 1m 7s\tremaining: 2m 42s\n",
      "293:\tlearn: 0.7721406\ttest: 0.7588583\tbest: 0.7599217 (251)\ttotal: 1m 7s\tremaining: 2m 42s\n",
      "294:\tlearn: 0.7721771\ttest: 0.7588158\tbest: 0.7599217 (251)\ttotal: 1m 7s\tremaining: 2m 42s\n",
      "295:\tlearn: 0.7720130\ttest: 0.7589008\tbest: 0.7599217 (251)\ttotal: 1m 8s\tremaining: 2m 41s\n",
      "296:\tlearn: 0.7721406\ttest: 0.7591986\tbest: 0.7599217 (251)\ttotal: 1m 8s\tremaining: 2m 41s\n",
      "297:\tlearn: 0.7721406\ttest: 0.7590285\tbest: 0.7599217 (251)\ttotal: 1m 8s\tremaining: 2m 41s\n",
      "298:\tlearn: 0.7722317\ttest: 0.7590710\tbest: 0.7599217 (251)\ttotal: 1m 8s\tremaining: 2m 41s\n",
      "299:\tlearn: 0.7722135\ttest: 0.7590285\tbest: 0.7599217 (251)\ttotal: 1m 9s\tremaining: 2m 41s\n",
      "300:\tlearn: 0.7724870\ttest: 0.7591986\tbest: 0.7599217 (251)\ttotal: 1m 9s\tremaining: 2m 40s\n",
      "301:\tlearn: 0.7721041\ttest: 0.7590710\tbest: 0.7599217 (251)\ttotal: 1m 9s\tremaining: 2m 40s\n",
      "302:\tlearn: 0.7721953\ttest: 0.7591135\tbest: 0.7599217 (251)\ttotal: 1m 9s\tremaining: 2m 40s\n",
      "303:\tlearn: 0.7723958\ttest: 0.7595814\tbest: 0.7599217 (251)\ttotal: 1m 9s\tremaining: 2m 39s\n",
      "304:\tlearn: 0.7724323\ttest: 0.7594964\tbest: 0.7599217 (251)\ttotal: 1m 10s\tremaining: 2m 39s\n",
      "305:\tlearn: 0.7722135\ttest: 0.7595814\tbest: 0.7599217 (251)\ttotal: 1m 10s\tremaining: 2m 39s\n",
      "306:\tlearn: 0.7727057\ttest: 0.7598792\tbest: 0.7599217 (251)\ttotal: 1m 10s\tremaining: 2m 39s\n",
      "307:\tlearn: 0.7727057\ttest: 0.7597516\tbest: 0.7599217 (251)\ttotal: 1m 10s\tremaining: 2m 39s\n",
      "308:\tlearn: 0.7726510\ttest: 0.7596665\tbest: 0.7599217 (251)\ttotal: 1m 11s\tremaining: 2m 38s\n",
      "309:\tlearn: 0.7728333\ttest: 0.7598792\tbest: 0.7599217 (251)\ttotal: 1m 11s\tremaining: 2m 38s\n",
      "310:\tlearn: 0.7729974\ttest: 0.7598792\tbest: 0.7599217 (251)\ttotal: 1m 11s\tremaining: 2m 38s\n",
      "311:\tlearn: 0.7731068\ttest: 0.7598367\tbest: 0.7599217 (251)\ttotal: 1m 11s\tremaining: 2m 38s\n",
      "312:\tlearn: 0.7731797\ttest: 0.7598367\tbest: 0.7599217 (251)\ttotal: 1m 12s\tremaining: 2m 38s\n",
      "313:\tlearn: 0.7731250\ttest: 0.7597516\tbest: 0.7599217 (251)\ttotal: 1m 12s\tremaining: 2m 38s\n",
      "314:\tlearn: 0.7732162\ttest: 0.7598367\tbest: 0.7599217 (251)\ttotal: 1m 12s\tremaining: 2m 37s\n",
      "315:\tlearn: 0.7732526\ttest: 0.7595389\tbest: 0.7599217 (251)\ttotal: 1m 12s\tremaining: 2m 37s\n",
      "316:\tlearn: 0.7732891\ttest: 0.7597090\tbest: 0.7599217 (251)\ttotal: 1m 13s\tremaining: 2m 37s\n",
      "317:\tlearn: 0.7733802\ttest: 0.7595389\tbest: 0.7599217 (251)\ttotal: 1m 13s\tremaining: 2m 37s\n",
      "318:\tlearn: 0.7734896\ttest: 0.7597090\tbest: 0.7599217 (251)\ttotal: 1m 13s\tremaining: 2m 37s\n",
      "319:\tlearn: 0.7734714\ttest: 0.7597941\tbest: 0.7599217 (251)\ttotal: 1m 13s\tremaining: 2m 36s\n",
      "320:\tlearn: 0.7736172\ttest: 0.7598792\tbest: 0.7599217 (251)\ttotal: 1m 14s\tremaining: 2m 36s\n",
      "321:\tlearn: 0.7736537\ttest: 0.7598367\tbest: 0.7599217 (251)\ttotal: 1m 14s\tremaining: 2m 36s\n",
      "322:\tlearn: 0.7738542\ttest: 0.7600919\tbest: 0.7600919 (322)\ttotal: 1m 14s\tremaining: 2m 36s\n",
      "323:\tlearn: 0.7737266\ttest: 0.7600493\tbest: 0.7600919 (322)\ttotal: 1m 14s\tremaining: 2m 35s\n",
      "324:\tlearn: 0.7736902\ttest: 0.7603896\tbest: 0.7603896 (324)\ttotal: 1m 14s\tremaining: 2m 35s\n",
      "325:\tlearn: 0.7740548\ttest: 0.7600919\tbest: 0.7603896 (324)\ttotal: 1m 15s\tremaining: 2m 35s\n",
      "326:\tlearn: 0.7740365\ttest: 0.7600919\tbest: 0.7603896 (324)\ttotal: 1m 15s\tremaining: 2m 35s\n",
      "327:\tlearn: 0.7738725\ttest: 0.7602195\tbest: 0.7603896 (324)\ttotal: 1m 15s\tremaining: 2m 35s\n",
      "328:\tlearn: 0.7740365\ttest: 0.7602620\tbest: 0.7603896 (324)\ttotal: 1m 15s\tremaining: 2m 34s\n",
      "329:\tlearn: 0.7741277\ttest: 0.7603471\tbest: 0.7603896 (324)\ttotal: 1m 16s\tremaining: 2m 34s\n",
      "330:\tlearn: 0.7740912\ttest: 0.7601770\tbest: 0.7603896 (324)\ttotal: 1m 16s\tremaining: 2m 34s\n",
      "331:\tlearn: 0.7742006\ttest: 0.7603046\tbest: 0.7603896 (324)\ttotal: 1m 16s\tremaining: 2m 34s\n",
      "332:\tlearn: 0.7741824\ttest: 0.7603896\tbest: 0.7603896 (324)\ttotal: 1m 16s\tremaining: 2m 34s\n",
      "333:\tlearn: 0.7740183\ttest: 0.7603896\tbest: 0.7603896 (324)\ttotal: 1m 17s\tremaining: 2m 33s\n",
      "334:\tlearn: 0.7741641\ttest: 0.7602195\tbest: 0.7603896 (324)\ttotal: 1m 17s\tremaining: 2m 33s\n",
      "335:\tlearn: 0.7743100\ttest: 0.7602620\tbest: 0.7603896 (324)\ttotal: 1m 17s\tremaining: 2m 33s\n",
      "336:\tlearn: 0.7742735\ttest: 0.7598367\tbest: 0.7603896 (324)\ttotal: 1m 17s\tremaining: 2m 33s\n",
      "337:\tlearn: 0.7745287\ttest: 0.7600493\tbest: 0.7603896 (324)\ttotal: 1m 18s\tremaining: 2m 33s\n",
      "338:\tlearn: 0.7747840\ttest: 0.7600919\tbest: 0.7603896 (324)\ttotal: 1m 18s\tremaining: 2m 32s\n",
      "339:\tlearn: 0.7747840\ttest: 0.7600919\tbest: 0.7603896 (324)\ttotal: 1m 18s\tremaining: 2m 32s\n",
      "340:\tlearn: 0.7748751\ttest: 0.7603471\tbest: 0.7603896 (324)\ttotal: 1m 18s\tremaining: 2m 32s\n",
      "341:\tlearn: 0.7750574\ttest: 0.7601344\tbest: 0.7603896 (324)\ttotal: 1m 19s\tremaining: 2m 32s\n",
      "342:\tlearn: 0.7749663\ttest: 0.7603896\tbest: 0.7603896 (324)\ttotal: 1m 19s\tremaining: 2m 32s\n",
      "343:\tlearn: 0.7749116\ttest: 0.7606023\tbest: 0.7606023 (343)\ttotal: 1m 19s\tremaining: 2m 31s\n",
      "344:\tlearn: 0.7750574\ttest: 0.7604322\tbest: 0.7606023 (343)\ttotal: 1m 19s\tremaining: 2m 31s\n",
      "345:\tlearn: 0.7750939\ttest: 0.7605172\tbest: 0.7606023 (343)\ttotal: 1m 20s\tremaining: 2m 31s\n",
      "346:\tlearn: 0.7750574\ttest: 0.7604747\tbest: 0.7606023 (343)\ttotal: 1m 20s\tremaining: 2m 31s\n",
      "347:\tlearn: 0.7753126\ttest: 0.7606874\tbest: 0.7606874 (347)\ttotal: 1m 20s\tremaining: 2m 30s\n",
      "348:\tlearn: 0.7752580\ttest: 0.7603046\tbest: 0.7606874 (347)\ttotal: 1m 20s\tremaining: 2m 30s\n",
      "349:\tlearn: 0.7752944\ttest: 0.7604322\tbest: 0.7606874 (347)\ttotal: 1m 21s\tremaining: 2m 30s\n",
      "350:\tlearn: 0.7754585\ttest: 0.7606449\tbest: 0.7606874 (347)\ttotal: 1m 21s\tremaining: 2m 30s\n",
      "351:\tlearn: 0.7754585\ttest: 0.7606023\tbest: 0.7606874 (347)\ttotal: 1m 21s\tremaining: 2m 29s\n",
      "352:\tlearn: 0.7755861\ttest: 0.7606023\tbest: 0.7606874 (347)\ttotal: 1m 21s\tremaining: 2m 29s\n",
      "353:\tlearn: 0.7755496\ttest: 0.7603471\tbest: 0.7606874 (347)\ttotal: 1m 21s\tremaining: 2m 29s\n",
      "354:\tlearn: 0.7755314\ttest: 0.7602620\tbest: 0.7606874 (347)\ttotal: 1m 22s\tremaining: 2m 29s\n",
      "355:\tlearn: 0.7756226\ttest: 0.7604322\tbest: 0.7606874 (347)\ttotal: 1m 22s\tremaining: 2m 29s\n",
      "356:\tlearn: 0.7755679\ttest: 0.7605172\tbest: 0.7606874 (347)\ttotal: 1m 22s\tremaining: 2m 28s\n",
      "357:\tlearn: 0.7754585\ttest: 0.7601344\tbest: 0.7606874 (347)\ttotal: 1m 22s\tremaining: 2m 28s\n",
      "358:\tlearn: 0.7756773\ttest: 0.7602195\tbest: 0.7606874 (347)\ttotal: 1m 23s\tremaining: 2m 28s\n",
      "359:\tlearn: 0.7758049\ttest: 0.7601770\tbest: 0.7606874 (347)\ttotal: 1m 23s\tremaining: 2m 28s\n",
      "360:\tlearn: 0.7758231\ttest: 0.7602620\tbest: 0.7606874 (347)\ttotal: 1m 23s\tremaining: 2m 27s\n",
      "361:\tlearn: 0.7759325\ttest: 0.7602620\tbest: 0.7606874 (347)\ttotal: 1m 23s\tremaining: 2m 27s\n",
      "362:\tlearn: 0.7758778\ttest: 0.7600919\tbest: 0.7606874 (347)\ttotal: 1m 24s\tremaining: 2m 27s\n",
      "363:\tlearn: 0.7758960\ttest: 0.7602195\tbest: 0.7606874 (347)\ttotal: 1m 24s\tremaining: 2m 27s\n",
      "364:\tlearn: 0.7758960\ttest: 0.7603046\tbest: 0.7606874 (347)\ttotal: 1m 24s\tremaining: 2m 27s\n"
     ]
    },
    {
     "name": "stdout",
     "output_type": "stream",
     "text": [
      "365:\tlearn: 0.7759507\ttest: 0.7602620\tbest: 0.7606874 (347)\ttotal: 1m 24s\tremaining: 2m 26s\n",
      "366:\tlearn: 0.7759872\ttest: 0.7601770\tbest: 0.7606874 (347)\ttotal: 1m 25s\tremaining: 2m 26s\n",
      "367:\tlearn: 0.7762424\ttest: 0.7600493\tbest: 0.7606874 (347)\ttotal: 1m 25s\tremaining: 2m 26s\n",
      "368:\tlearn: 0.7763518\ttest: 0.7601344\tbest: 0.7606874 (347)\ttotal: 1m 25s\tremaining: 2m 26s\n",
      "369:\tlearn: 0.7763153\ttest: 0.7600068\tbest: 0.7606874 (347)\ttotal: 1m 25s\tremaining: 2m 26s\n",
      "370:\tlearn: 0.7763518\ttest: 0.7598792\tbest: 0.7606874 (347)\ttotal: 1m 26s\tremaining: 2m 25s\n",
      "371:\tlearn: 0.7760419\ttest: 0.7600919\tbest: 0.7606874 (347)\ttotal: 1m 26s\tremaining: 2m 25s\n",
      "372:\tlearn: 0.7762788\ttest: 0.7596240\tbest: 0.7606874 (347)\ttotal: 1m 26s\tremaining: 2m 25s\n",
      "373:\tlearn: 0.7763882\ttest: 0.7595814\tbest: 0.7606874 (347)\ttotal: 1m 26s\tremaining: 2m 25s\n",
      "374:\tlearn: 0.7764976\ttest: 0.7597090\tbest: 0.7606874 (347)\ttotal: 1m 27s\tremaining: 2m 25s\n",
      "375:\tlearn: 0.7764429\ttest: 0.7597090\tbest: 0.7606874 (347)\ttotal: 1m 27s\tremaining: 2m 25s\n",
      "376:\tlearn: 0.7764247\ttest: 0.7595389\tbest: 0.7606874 (347)\ttotal: 1m 27s\tremaining: 2m 25s\n",
      "377:\tlearn: 0.7768987\ttest: 0.7597516\tbest: 0.7606874 (347)\ttotal: 1m 28s\tremaining: 2m 25s\n",
      "378:\tlearn: 0.7767893\ttest: 0.7595389\tbest: 0.7606874 (347)\ttotal: 1m 28s\tremaining: 2m 24s\n",
      "379:\tlearn: 0.7769351\ttest: 0.7596240\tbest: 0.7606874 (347)\ttotal: 1m 28s\tremaining: 2m 24s\n",
      "380:\tlearn: 0.7769898\ttest: 0.7595389\tbest: 0.7606874 (347)\ttotal: 1m 28s\tremaining: 2m 24s\n",
      "381:\tlearn: 0.7768622\ttest: 0.7597516\tbest: 0.7606874 (347)\ttotal: 1m 29s\tremaining: 2m 24s\n",
      "382:\tlearn: 0.7766617\ttest: 0.7597090\tbest: 0.7606874 (347)\ttotal: 1m 29s\tremaining: 2m 23s\n",
      "383:\tlearn: 0.7766799\ttest: 0.7596665\tbest: 0.7606874 (347)\ttotal: 1m 29s\tremaining: 2m 23s\n",
      "384:\tlearn: 0.7767711\ttest: 0.7597090\tbest: 0.7606874 (347)\ttotal: 1m 29s\tremaining: 2m 23s\n",
      "385:\tlearn: 0.7768440\ttest: 0.7597090\tbest: 0.7606874 (347)\ttotal: 1m 29s\tremaining: 2m 23s\n",
      "386:\tlearn: 0.7770445\ttest: 0.7595389\tbest: 0.7606874 (347)\ttotal: 1m 30s\tremaining: 2m 22s\n",
      "387:\tlearn: 0.7770992\ttest: 0.7596240\tbest: 0.7606874 (347)\ttotal: 1m 30s\tremaining: 2m 22s\n",
      "388:\tlearn: 0.7773180\ttest: 0.7595814\tbest: 0.7606874 (347)\ttotal: 1m 30s\tremaining: 2m 22s\n",
      "389:\tlearn: 0.7773727\ttest: 0.7597516\tbest: 0.7606874 (347)\ttotal: 1m 30s\tremaining: 2m 22s\n",
      "390:\tlearn: 0.7775367\ttest: 0.7596240\tbest: 0.7606874 (347)\ttotal: 1m 31s\tremaining: 2m 22s\n",
      "391:\tlearn: 0.7776826\ttest: 0.7597941\tbest: 0.7606874 (347)\ttotal: 1m 31s\tremaining: 2m 21s\n",
      "392:\tlearn: 0.7777190\ttest: 0.7600068\tbest: 0.7606874 (347)\ttotal: 1m 31s\tremaining: 2m 21s\n",
      "393:\tlearn: 0.7779013\ttest: 0.7600919\tbest: 0.7606874 (347)\ttotal: 1m 32s\tremaining: 2m 21s\n",
      "394:\tlearn: 0.7778284\ttest: 0.7598792\tbest: 0.7606874 (347)\ttotal: 1m 32s\tremaining: 2m 21s\n",
      "395:\tlearn: 0.7778466\ttest: 0.7596240\tbest: 0.7606874 (347)\ttotal: 1m 32s\tremaining: 2m 21s\n",
      "396:\tlearn: 0.7780107\ttest: 0.7599217\tbest: 0.7606874 (347)\ttotal: 1m 32s\tremaining: 2m 20s\n",
      "397:\tlearn: 0.7781383\ttest: 0.7601770\tbest: 0.7606874 (347)\ttotal: 1m 32s\tremaining: 2m 20s\n",
      "398:\tlearn: 0.7780836\ttest: 0.7597090\tbest: 0.7606874 (347)\ttotal: 1m 33s\tremaining: 2m 20s\n",
      "399:\tlearn: 0.7780472\ttest: 0.7599643\tbest: 0.7606874 (347)\ttotal: 1m 33s\tremaining: 2m 20s\n",
      "400:\tlearn: 0.7781201\ttest: 0.7598367\tbest: 0.7606874 (347)\ttotal: 1m 33s\tremaining: 2m 19s\n",
      "401:\tlearn: 0.7781201\ttest: 0.7597941\tbest: 0.7606874 (347)\ttotal: 1m 33s\tremaining: 2m 19s\n",
      "402:\tlearn: 0.7782295\ttest: 0.7596665\tbest: 0.7606874 (347)\ttotal: 1m 34s\tremaining: 2m 19s\n",
      "403:\tlearn: 0.7783024\ttest: 0.7597516\tbest: 0.7606874 (347)\ttotal: 1m 34s\tremaining: 2m 19s\n",
      "404:\tlearn: 0.7782842\ttest: 0.7598367\tbest: 0.7606874 (347)\ttotal: 1m 34s\tremaining: 2m 19s\n",
      "405:\tlearn: 0.7782295\ttest: 0.7600919\tbest: 0.7606874 (347)\ttotal: 1m 35s\tremaining: 2m 19s\n",
      "406:\tlearn: 0.7782659\ttest: 0.7600068\tbest: 0.7606874 (347)\ttotal: 1m 35s\tremaining: 2m 18s\n",
      "407:\tlearn: 0.7785941\ttest: 0.7600068\tbest: 0.7606874 (347)\ttotal: 1m 35s\tremaining: 2m 18s\n",
      "408:\tlearn: 0.7786670\ttest: 0.7600068\tbest: 0.7606874 (347)\ttotal: 1m 35s\tremaining: 2m 18s\n",
      "409:\tlearn: 0.7787764\ttest: 0.7602195\tbest: 0.7606874 (347)\ttotal: 1m 35s\tremaining: 2m 18s\n",
      "410:\tlearn: 0.7787035\ttest: 0.7603046\tbest: 0.7606874 (347)\ttotal: 1m 36s\tremaining: 2m 17s\n",
      "411:\tlearn: 0.7787035\ttest: 0.7602620\tbest: 0.7606874 (347)\ttotal: 1m 36s\tremaining: 2m 17s\n",
      "412:\tlearn: 0.7787946\ttest: 0.7602195\tbest: 0.7606874 (347)\ttotal: 1m 36s\tremaining: 2m 17s\n",
      "413:\tlearn: 0.7789769\ttest: 0.7603471\tbest: 0.7606874 (347)\ttotal: 1m 37s\tremaining: 2m 17s\n",
      "414:\tlearn: 0.7792504\ttest: 0.7600919\tbest: 0.7606874 (347)\ttotal: 1m 37s\tremaining: 2m 17s\n",
      "415:\tlearn: 0.7793962\ttest: 0.7600068\tbest: 0.7606874 (347)\ttotal: 1m 37s\tremaining: 2m 17s\n",
      "416:\tlearn: 0.7792321\ttest: 0.7600493\tbest: 0.7606874 (347)\ttotal: 1m 37s\tremaining: 2m 16s\n",
      "417:\tlearn: 0.7793051\ttest: 0.7599643\tbest: 0.7606874 (347)\ttotal: 1m 38s\tremaining: 2m 16s\n",
      "418:\tlearn: 0.7793233\ttest: 0.7599643\tbest: 0.7606874 (347)\ttotal: 1m 38s\tremaining: 2m 16s\n",
      "419:\tlearn: 0.7793415\ttest: 0.7597090\tbest: 0.7606874 (347)\ttotal: 1m 38s\tremaining: 2m 16s\n",
      "420:\tlearn: 0.7791957\ttest: 0.7596240\tbest: 0.7606874 (347)\ttotal: 1m 38s\tremaining: 2m 15s\n",
      "421:\tlearn: 0.7793415\ttest: 0.7596665\tbest: 0.7606874 (347)\ttotal: 1m 39s\tremaining: 2m 15s\n",
      "422:\tlearn: 0.7793051\ttest: 0.7599643\tbest: 0.7606874 (347)\ttotal: 1m 39s\tremaining: 2m 15s\n",
      "423:\tlearn: 0.7793780\ttest: 0.7600919\tbest: 0.7606874 (347)\ttotal: 1m 39s\tremaining: 2m 15s\n",
      "424:\tlearn: 0.7795056\ttest: 0.7599643\tbest: 0.7606874 (347)\ttotal: 1m 39s\tremaining: 2m 15s\n",
      "425:\tlearn: 0.7796514\ttest: 0.7598792\tbest: 0.7606874 (347)\ttotal: 1m 40s\tremaining: 2m 15s\n",
      "426:\tlearn: 0.7797608\ttest: 0.7600493\tbest: 0.7606874 (347)\ttotal: 1m 40s\tremaining: 2m 14s\n",
      "427:\tlearn: 0.7797608\ttest: 0.7601344\tbest: 0.7606874 (347)\ttotal: 1m 40s\tremaining: 2m 14s\n",
      "428:\tlearn: 0.7799796\ttest: 0.7606874\tbest: 0.7606874 (347)\ttotal: 1m 41s\tremaining: 2m 14s\n",
      "429:\tlearn: 0.7799614\ttest: 0.7603046\tbest: 0.7606874 (347)\ttotal: 1m 41s\tremaining: 2m 14s\n",
      "430:\tlearn: 0.7798337\ttest: 0.7604747\tbest: 0.7606874 (347)\ttotal: 1m 41s\tremaining: 2m 14s\n",
      "431:\tlearn: 0.7799796\ttest: 0.7603046\tbest: 0.7606874 (347)\ttotal: 1m 41s\tremaining: 2m 13s\n",
      "432:\tlearn: 0.7799431\ttest: 0.7607299\tbest: 0.7607299 (432)\ttotal: 1m 42s\tremaining: 2m 13s\n",
      "433:\tlearn: 0.7799978\ttest: 0.7609852\tbest: 0.7609852 (433)\ttotal: 1m 42s\tremaining: 2m 13s\n",
      "434:\tlearn: 0.7801254\ttest: 0.7609852\tbest: 0.7609852 (433)\ttotal: 1m 42s\tremaining: 2m 13s\n",
      "435:\tlearn: 0.7803989\ttest: 0.7613254\tbest: 0.7613254 (435)\ttotal: 1m 42s\tremaining: 2m 13s\n",
      "436:\tlearn: 0.7805629\ttest: 0.7611978\tbest: 0.7613254 (435)\ttotal: 1m 43s\tremaining: 2m 12s\n",
      "437:\tlearn: 0.7804536\ttest: 0.7613680\tbest: 0.7613680 (437)\ttotal: 1m 43s\tremaining: 2m 12s\n",
      "438:\tlearn: 0.7805447\ttest: 0.7611128\tbest: 0.7613680 (437)\ttotal: 1m 43s\tremaining: 2m 12s\n",
      "439:\tlearn: 0.7805083\ttest: 0.7611128\tbest: 0.7613680 (437)\ttotal: 1m 44s\tremaining: 2m 12s\n",
      "440:\tlearn: 0.7804718\ttest: 0.7611128\tbest: 0.7613680 (437)\ttotal: 1m 44s\tremaining: 2m 12s\n",
      "441:\tlearn: 0.7805812\ttest: 0.7610277\tbest: 0.7613680 (437)\ttotal: 1m 44s\tremaining: 2m 12s\n",
      "442:\tlearn: 0.7809276\ttest: 0.7613254\tbest: 0.7613680 (437)\ttotal: 1m 44s\tremaining: 2m 11s\n",
      "443:\tlearn: 0.7807999\ttest: 0.7612829\tbest: 0.7613680 (437)\ttotal: 1m 45s\tremaining: 2m 11s\n",
      "444:\tlearn: 0.7806906\ttest: 0.7608575\tbest: 0.7613680 (437)\ttotal: 1m 45s\tremaining: 2m 11s\n",
      "445:\tlearn: 0.7808364\ttest: 0.7606874\tbest: 0.7613680 (437)\ttotal: 1m 45s\tremaining: 2m 11s\n",
      "446:\tlearn: 0.7807999\ttest: 0.7608150\tbest: 0.7613680 (437)\ttotal: 1m 45s\tremaining: 2m 11s\n",
      "447:\tlearn: 0.7808546\ttest: 0.7606874\tbest: 0.7613680 (437)\ttotal: 1m 46s\tremaining: 2m 10s\n",
      "448:\tlearn: 0.7810187\ttest: 0.7609426\tbest: 0.7613680 (437)\ttotal: 1m 46s\tremaining: 2m 10s\n",
      "449:\tlearn: 0.7810552\ttest: 0.7611128\tbest: 0.7613680 (437)\ttotal: 1m 46s\tremaining: 2m 10s\n",
      "450:\tlearn: 0.7812010\ttest: 0.7609426\tbest: 0.7613680 (437)\ttotal: 1m 47s\tremaining: 2m 10s\n",
      "451:\tlearn: 0.7811099\ttest: 0.7611128\tbest: 0.7613680 (437)\ttotal: 1m 47s\tremaining: 2m 10s\n",
      "452:\tlearn: 0.7814015\ttest: 0.7611553\tbest: 0.7613680 (437)\ttotal: 1m 47s\tremaining: 2m 10s\n",
      "453:\tlearn: 0.7812010\ttest: 0.7609426\tbest: 0.7613680 (437)\ttotal: 1m 47s\tremaining: 2m 9s\n",
      "454:\tlearn: 0.7813651\ttest: 0.7611128\tbest: 0.7613680 (437)\ttotal: 1m 48s\tremaining: 2m 9s\n"
     ]
    },
    {
     "name": "stdout",
     "output_type": "stream",
     "text": [
      "455:\tlearn: 0.7814927\ttest: 0.7611128\tbest: 0.7613680 (437)\ttotal: 1m 48s\tremaining: 2m 9s\n",
      "456:\tlearn: 0.7815109\ttest: 0.7611128\tbest: 0.7613680 (437)\ttotal: 1m 48s\tremaining: 2m 9s\n",
      "457:\tlearn: 0.7816203\ttest: 0.7609426\tbest: 0.7613680 (437)\ttotal: 1m 48s\tremaining: 2m 8s\n",
      "458:\tlearn: 0.7816568\ttest: 0.7609001\tbest: 0.7613680 (437)\ttotal: 1m 49s\tremaining: 2m 8s\n",
      "459:\tlearn: 0.7817297\ttest: 0.7607299\tbest: 0.7613680 (437)\ttotal: 1m 49s\tremaining: 2m 8s\n",
      "460:\tlearn: 0.7817479\ttest: 0.7607299\tbest: 0.7613680 (437)\ttotal: 1m 49s\tremaining: 2m 8s\n",
      "461:\tlearn: 0.7818573\ttest: 0.7605598\tbest: 0.7613680 (437)\ttotal: 1m 50s\tremaining: 2m 8s\n",
      "462:\tlearn: 0.7821307\ttest: 0.7606023\tbest: 0.7613680 (437)\ttotal: 1m 50s\tremaining: 2m 8s\n",
      "463:\tlearn: 0.7821490\ttest: 0.7604322\tbest: 0.7613680 (437)\ttotal: 1m 50s\tremaining: 2m 7s\n",
      "464:\tlearn: 0.7822766\ttest: 0.7605172\tbest: 0.7613680 (437)\ttotal: 1m 50s\tremaining: 2m 7s\n",
      "465:\tlearn: 0.7822766\ttest: 0.7606449\tbest: 0.7613680 (437)\ttotal: 1m 51s\tremaining: 2m 7s\n",
      "466:\tlearn: 0.7822948\ttest: 0.7606874\tbest: 0.7613680 (437)\ttotal: 1m 51s\tremaining: 2m 7s\n",
      "467:\tlearn: 0.7821854\ttest: 0.7606449\tbest: 0.7613680 (437)\ttotal: 1m 51s\tremaining: 2m 6s\n",
      "468:\tlearn: 0.7822401\ttest: 0.7607299\tbest: 0.7613680 (437)\ttotal: 1m 51s\tremaining: 2m 6s\n",
      "469:\tlearn: 0.7821672\ttest: 0.7604747\tbest: 0.7613680 (437)\ttotal: 1m 52s\tremaining: 2m 6s\n",
      "470:\tlearn: 0.7822037\ttest: 0.7603896\tbest: 0.7613680 (437)\ttotal: 1m 52s\tremaining: 2m 6s\n",
      "471:\tlearn: 0.7822948\ttest: 0.7603046\tbest: 0.7613680 (437)\ttotal: 1m 52s\tremaining: 2m 6s\n",
      "472:\tlearn: 0.7822037\ttest: 0.7606449\tbest: 0.7613680 (437)\ttotal: 1m 52s\tremaining: 2m 5s\n",
      "473:\tlearn: 0.7822401\ttest: 0.7604322\tbest: 0.7613680 (437)\ttotal: 1m 53s\tremaining: 2m 5s\n",
      "474:\tlearn: 0.7825318\ttest: 0.7611978\tbest: 0.7613680 (437)\ttotal: 1m 53s\tremaining: 2m 5s\n",
      "475:\tlearn: 0.7825683\ttest: 0.7611553\tbest: 0.7613680 (437)\ttotal: 1m 53s\tremaining: 2m 5s\n",
      "476:\tlearn: 0.7824954\ttest: 0.7610277\tbest: 0.7613680 (437)\ttotal: 1m 54s\tremaining: 2m 5s\n",
      "477:\tlearn: 0.7826412\ttest: 0.7610277\tbest: 0.7613680 (437)\ttotal: 1m 54s\tremaining: 2m 4s\n",
      "478:\tlearn: 0.7826959\ttest: 0.7609001\tbest: 0.7613680 (437)\ttotal: 1m 54s\tremaining: 2m 4s\n",
      "479:\tlearn: 0.7826594\ttest: 0.7609001\tbest: 0.7613680 (437)\ttotal: 1m 55s\tremaining: 2m 4s\n",
      "480:\tlearn: 0.7827870\ttest: 0.7611553\tbest: 0.7613680 (437)\ttotal: 1m 55s\tremaining: 2m 4s\n",
      "481:\tlearn: 0.7827323\ttest: 0.7610277\tbest: 0.7613680 (437)\ttotal: 1m 55s\tremaining: 2m 4s\n",
      "482:\tlearn: 0.7826777\ttest: 0.7609852\tbest: 0.7613680 (437)\ttotal: 1m 55s\tremaining: 2m 4s\n",
      "483:\tlearn: 0.7828235\ttest: 0.7611978\tbest: 0.7613680 (437)\ttotal: 1m 56s\tremaining: 2m 3s\n",
      "484:\tlearn: 0.7831152\ttest: 0.7612829\tbest: 0.7613680 (437)\ttotal: 1m 56s\tremaining: 2m 3s\n",
      "485:\tlearn: 0.7829511\ttest: 0.7614531\tbest: 0.7614531 (485)\ttotal: 1m 56s\tremaining: 2m 3s\n",
      "486:\tlearn: 0.7830423\ttest: 0.7610277\tbest: 0.7614531 (485)\ttotal: 1m 57s\tremaining: 2m 3s\n",
      "487:\tlearn: 0.7831699\ttest: 0.7609426\tbest: 0.7614531 (485)\ttotal: 1m 57s\tremaining: 2m 3s\n",
      "488:\tlearn: 0.7833157\ttest: 0.7609852\tbest: 0.7614531 (485)\ttotal: 1m 57s\tremaining: 2m 2s\n",
      "489:\tlearn: 0.7835527\ttest: 0.7611553\tbest: 0.7614531 (485)\ttotal: 1m 57s\tremaining: 2m 2s\n",
      "490:\tlearn: 0.7835162\ttest: 0.7607725\tbest: 0.7614531 (485)\ttotal: 1m 58s\tremaining: 2m 2s\n",
      "491:\tlearn: 0.7833886\ttest: 0.7609426\tbest: 0.7614531 (485)\ttotal: 1m 58s\tremaining: 2m 2s\n",
      "492:\tlearn: 0.7833886\ttest: 0.7608150\tbest: 0.7614531 (485)\ttotal: 1m 58s\tremaining: 2m 2s\n",
      "493:\tlearn: 0.7835162\ttest: 0.7607725\tbest: 0.7614531 (485)\ttotal: 1m 58s\tremaining: 2m 1s\n",
      "494:\tlearn: 0.7836621\ttest: 0.7608150\tbest: 0.7614531 (485)\ttotal: 1m 59s\tremaining: 2m 1s\n",
      "495:\tlearn: 0.7836621\ttest: 0.7609001\tbest: 0.7614531 (485)\ttotal: 1m 59s\tremaining: 2m 1s\n",
      "496:\tlearn: 0.7838444\ttest: 0.7608575\tbest: 0.7614531 (485)\ttotal: 1m 59s\tremaining: 2m 1s\n",
      "497:\tlearn: 0.7838626\ttest: 0.7609001\tbest: 0.7614531 (485)\ttotal: 2m\tremaining: 2m 1s\n",
      "498:\tlearn: 0.7838626\ttest: 0.7608575\tbest: 0.7614531 (485)\ttotal: 2m\tremaining: 2m\n",
      "499:\tlearn: 0.7838262\ttest: 0.7605598\tbest: 0.7614531 (485)\ttotal: 2m\tremaining: 2m\n",
      "500:\tlearn: 0.7838991\ttest: 0.7605172\tbest: 0.7614531 (485)\ttotal: 2m\tremaining: 2m\n",
      "501:\tlearn: 0.7840449\ttest: 0.7604322\tbest: 0.7614531 (485)\ttotal: 2m 1s\tremaining: 2m\n",
      "502:\tlearn: 0.7839538\ttest: 0.7605172\tbest: 0.7614531 (485)\ttotal: 2m 1s\tremaining: 1m 59s\n",
      "503:\tlearn: 0.7837897\ttest: 0.7601770\tbest: 0.7614531 (485)\ttotal: 2m 1s\tremaining: 1m 59s\n",
      "504:\tlearn: 0.7839173\ttest: 0.7602620\tbest: 0.7614531 (485)\ttotal: 2m 1s\tremaining: 1m 59s\n",
      "505:\tlearn: 0.7839173\ttest: 0.7603896\tbest: 0.7614531 (485)\ttotal: 2m 2s\tremaining: 1m 59s\n",
      "506:\tlearn: 0.7839538\ttest: 0.7605172\tbest: 0.7614531 (485)\ttotal: 2m 2s\tremaining: 1m 59s\n",
      "507:\tlearn: 0.7838079\ttest: 0.7601770\tbest: 0.7614531 (485)\ttotal: 2m 2s\tremaining: 1m 58s\n",
      "508:\tlearn: 0.7838808\ttest: 0.7602620\tbest: 0.7614531 (485)\ttotal: 2m 2s\tremaining: 1m 58s\n",
      "509:\tlearn: 0.7839173\ttest: 0.7602620\tbest: 0.7614531 (485)\ttotal: 2m 3s\tremaining: 1m 58s\n",
      "510:\tlearn: 0.7839173\ttest: 0.7601344\tbest: 0.7614531 (485)\ttotal: 2m 3s\tremaining: 1m 58s\n",
      "511:\tlearn: 0.7841908\ttest: 0.7602195\tbest: 0.7614531 (485)\ttotal: 2m 3s\tremaining: 1m 58s\n",
      "512:\tlearn: 0.7843366\ttest: 0.7602620\tbest: 0.7614531 (485)\ttotal: 2m 4s\tremaining: 1m 57s\n",
      "513:\tlearn: 0.7843731\ttest: 0.7603046\tbest: 0.7614531 (485)\ttotal: 2m 4s\tremaining: 1m 57s\n",
      "514:\tlearn: 0.7844278\ttest: 0.7601770\tbest: 0.7614531 (485)\ttotal: 2m 4s\tremaining: 1m 57s\n",
      "515:\tlearn: 0.7844460\ttest: 0.7603471\tbest: 0.7614531 (485)\ttotal: 2m 4s\tremaining: 1m 57s\n",
      "516:\tlearn: 0.7845007\ttest: 0.7605598\tbest: 0.7614531 (485)\ttotal: 2m 5s\tremaining: 1m 56s\n",
      "517:\tlearn: 0.7847194\ttest: 0.7606874\tbest: 0.7614531 (485)\ttotal: 2m 5s\tremaining: 1m 56s\n",
      "518:\tlearn: 0.7846283\ttest: 0.7608150\tbest: 0.7614531 (485)\ttotal: 2m 5s\tremaining: 1m 56s\n",
      "519:\tlearn: 0.7848106\ttest: 0.7606449\tbest: 0.7614531 (485)\ttotal: 2m 6s\tremaining: 1m 56s\n",
      "520:\tlearn: 0.7850476\ttest: 0.7606874\tbest: 0.7614531 (485)\ttotal: 2m 6s\tremaining: 1m 56s\n",
      "521:\tlearn: 0.7851387\ttest: 0.7606023\tbest: 0.7614531 (485)\ttotal: 2m 6s\tremaining: 1m 55s\n",
      "522:\tlearn: 0.7852846\ttest: 0.7608575\tbest: 0.7614531 (485)\ttotal: 2m 6s\tremaining: 1m 55s\n",
      "523:\tlearn: 0.7851934\ttest: 0.7603471\tbest: 0.7614531 (485)\ttotal: 2m 6s\tremaining: 1m 55s\n",
      "524:\tlearn: 0.7852481\ttest: 0.7602620\tbest: 0.7614531 (485)\ttotal: 2m 7s\tremaining: 1m 55s\n",
      "525:\tlearn: 0.7853940\ttest: 0.7603896\tbest: 0.7614531 (485)\ttotal: 2m 7s\tremaining: 1m 54s\n",
      "526:\tlearn: 0.7854851\ttest: 0.7605598\tbest: 0.7614531 (485)\ttotal: 2m 7s\tremaining: 1m 54s\n",
      "527:\tlearn: 0.7856856\ttest: 0.7605598\tbest: 0.7614531 (485)\ttotal: 2m 7s\tremaining: 1m 54s\n",
      "528:\tlearn: 0.7858132\ttest: 0.7604747\tbest: 0.7614531 (485)\ttotal: 2m 8s\tremaining: 1m 54s\n",
      "529:\tlearn: 0.7859591\ttest: 0.7605172\tbest: 0.7614531 (485)\ttotal: 2m 8s\tremaining: 1m 53s\n",
      "530:\tlearn: 0.7858497\ttest: 0.7607725\tbest: 0.7614531 (485)\ttotal: 2m 8s\tremaining: 1m 53s\n",
      "531:\tlearn: 0.7857950\ttest: 0.7604747\tbest: 0.7614531 (485)\ttotal: 2m 8s\tremaining: 1m 53s\n",
      "532:\tlearn: 0.7858862\ttest: 0.7605172\tbest: 0.7614531 (485)\ttotal: 2m 9s\tremaining: 1m 53s\n",
      "533:\tlearn: 0.7857950\ttest: 0.7607299\tbest: 0.7614531 (485)\ttotal: 2m 9s\tremaining: 1m 52s\n",
      "534:\tlearn: 0.7859044\ttest: 0.7609001\tbest: 0.7614531 (485)\ttotal: 2m 9s\tremaining: 1m 52s\n",
      "535:\tlearn: 0.7859044\ttest: 0.7609001\tbest: 0.7614531 (485)\ttotal: 2m 9s\tremaining: 1m 52s\n",
      "536:\tlearn: 0.7859044\ttest: 0.7608150\tbest: 0.7614531 (485)\ttotal: 2m 10s\tremaining: 1m 52s\n",
      "537:\tlearn: 0.7859773\ttest: 0.7608575\tbest: 0.7614531 (485)\ttotal: 2m 10s\tremaining: 1m 52s\n",
      "538:\tlearn: 0.7863237\ttest: 0.7609852\tbest: 0.7614531 (485)\ttotal: 2m 10s\tremaining: 1m 51s\n",
      "539:\tlearn: 0.7861961\ttest: 0.7609852\tbest: 0.7614531 (485)\ttotal: 2m 11s\tremaining: 1m 51s\n",
      "540:\tlearn: 0.7864513\ttest: 0.7608150\tbest: 0.7614531 (485)\ttotal: 2m 11s\tremaining: 1m 51s\n",
      "541:\tlearn: 0.7866883\ttest: 0.7603046\tbest: 0.7614531 (485)\ttotal: 2m 11s\tremaining: 1m 51s\n",
      "542:\tlearn: 0.7866154\ttest: 0.7604322\tbest: 0.7614531 (485)\ttotal: 2m 11s\tremaining: 1m 50s\n",
      "543:\tlearn: 0.7863966\ttest: 0.7603896\tbest: 0.7614531 (485)\ttotal: 2m 12s\tremaining: 1m 50s\n",
      "544:\tlearn: 0.7863966\ttest: 0.7605172\tbest: 0.7614531 (485)\ttotal: 2m 12s\tremaining: 1m 50s\n",
      "545:\tlearn: 0.7865425\ttest: 0.7607725\tbest: 0.7614531 (485)\ttotal: 2m 12s\tremaining: 1m 50s\n"
     ]
    },
    {
     "name": "stdout",
     "output_type": "stream",
     "text": [
      "546:\tlearn: 0.7863055\ttest: 0.7607299\tbest: 0.7614531 (485)\ttotal: 2m 12s\tremaining: 1m 50s\n",
      "547:\tlearn: 0.7864878\ttest: 0.7607725\tbest: 0.7614531 (485)\ttotal: 2m 13s\tremaining: 1m 49s\n",
      "548:\tlearn: 0.7865607\ttest: 0.7606874\tbest: 0.7614531 (485)\ttotal: 2m 13s\tremaining: 1m 49s\n",
      "549:\tlearn: 0.7866154\ttest: 0.7606023\tbest: 0.7614531 (485)\ttotal: 2m 13s\tremaining: 1m 49s\n",
      "550:\tlearn: 0.7867430\ttest: 0.7606449\tbest: 0.7614531 (485)\ttotal: 2m 14s\tremaining: 1m 49s\n",
      "551:\tlearn: 0.7868706\ttest: 0.7608575\tbest: 0.7614531 (485)\ttotal: 2m 14s\tremaining: 1m 49s\n",
      "552:\tlearn: 0.7867795\ttest: 0.7609001\tbest: 0.7614531 (485)\ttotal: 2m 14s\tremaining: 1m 48s\n",
      "553:\tlearn: 0.7869618\ttest: 0.7611553\tbest: 0.7614531 (485)\ttotal: 2m 15s\tremaining: 1m 48s\n",
      "554:\tlearn: 0.7869982\ttest: 0.7613680\tbest: 0.7614531 (485)\ttotal: 2m 15s\tremaining: 1m 48s\n",
      "555:\tlearn: 0.7870529\ttest: 0.7614531\tbest: 0.7614531 (485)\ttotal: 2m 15s\tremaining: 1m 48s\n",
      "556:\tlearn: 0.7871441\ttest: 0.7612829\tbest: 0.7614531 (485)\ttotal: 2m 15s\tremaining: 1m 48s\n",
      "557:\tlearn: 0.7872352\ttest: 0.7612829\tbest: 0.7614531 (485)\ttotal: 2m 16s\tremaining: 1m 47s\n",
      "558:\tlearn: 0.7871623\ttest: 0.7613254\tbest: 0.7614531 (485)\ttotal: 2m 16s\tremaining: 1m 47s\n",
      "559:\tlearn: 0.7873264\ttest: 0.7612404\tbest: 0.7614531 (485)\ttotal: 2m 17s\tremaining: 1m 47s\n",
      "560:\tlearn: 0.7872534\ttest: 0.7611978\tbest: 0.7614531 (485)\ttotal: 2m 17s\tremaining: 1m 47s\n",
      "561:\tlearn: 0.7874540\ttest: 0.7614105\tbest: 0.7614531 (485)\ttotal: 2m 17s\tremaining: 1m 47s\n",
      "562:\tlearn: 0.7875633\ttest: 0.7612829\tbest: 0.7614531 (485)\ttotal: 2m 18s\tremaining: 1m 47s\n",
      "563:\tlearn: 0.7875998\ttest: 0.7609426\tbest: 0.7614531 (485)\ttotal: 2m 18s\tremaining: 1m 46s\n",
      "564:\tlearn: 0.7875633\ttest: 0.7609426\tbest: 0.7614531 (485)\ttotal: 2m 18s\tremaining: 1m 46s\n",
      "565:\tlearn: 0.7876545\ttest: 0.7608150\tbest: 0.7614531 (485)\ttotal: 2m 18s\tremaining: 1m 46s\n",
      "566:\tlearn: 0.7876180\ttest: 0.7606874\tbest: 0.7614531 (485)\ttotal: 2m 19s\tremaining: 1m 46s\n",
      "567:\tlearn: 0.7876363\ttest: 0.7606874\tbest: 0.7614531 (485)\ttotal: 2m 19s\tremaining: 1m 46s\n",
      "568:\tlearn: 0.7875087\ttest: 0.7607725\tbest: 0.7614531 (485)\ttotal: 2m 19s\tremaining: 1m 45s\n",
      "569:\tlearn: 0.7875998\ttest: 0.7608150\tbest: 0.7614531 (485)\ttotal: 2m 20s\tremaining: 1m 45s\n",
      "570:\tlearn: 0.7875998\ttest: 0.7606874\tbest: 0.7614531 (485)\ttotal: 2m 20s\tremaining: 1m 45s\n",
      "571:\tlearn: 0.7877639\ttest: 0.7606874\tbest: 0.7614531 (485)\ttotal: 2m 20s\tremaining: 1m 45s\n",
      "572:\tlearn: 0.7878186\ttest: 0.7605172\tbest: 0.7614531 (485)\ttotal: 2m 20s\tremaining: 1m 45s\n",
      "573:\tlearn: 0.7879644\ttest: 0.7606874\tbest: 0.7614531 (485)\ttotal: 2m 21s\tremaining: 1m 44s\n",
      "574:\tlearn: 0.7880738\ttest: 0.7608575\tbest: 0.7614531 (485)\ttotal: 2m 21s\tremaining: 1m 44s\n",
      "575:\tlearn: 0.7881285\ttest: 0.7606449\tbest: 0.7614531 (485)\ttotal: 2m 21s\tremaining: 1m 44s\n",
      "576:\tlearn: 0.7878733\ttest: 0.7606023\tbest: 0.7614531 (485)\ttotal: 2m 22s\tremaining: 1m 44s\n",
      "577:\tlearn: 0.7880191\ttest: 0.7606874\tbest: 0.7614531 (485)\ttotal: 2m 22s\tremaining: 1m 43s\n",
      "578:\tlearn: 0.7882379\ttest: 0.7605172\tbest: 0.7614531 (485)\ttotal: 2m 22s\tremaining: 1m 43s\n",
      "579:\tlearn: 0.7881649\ttest: 0.7605598\tbest: 0.7614531 (485)\ttotal: 2m 22s\tremaining: 1m 43s\n",
      "580:\tlearn: 0.7881103\ttest: 0.7606023\tbest: 0.7614531 (485)\ttotal: 2m 23s\tremaining: 1m 43s\n",
      "581:\tlearn: 0.7882561\ttest: 0.7605172\tbest: 0.7614531 (485)\ttotal: 2m 23s\tremaining: 1m 43s\n",
      "582:\tlearn: 0.7884384\ttest: 0.7606023\tbest: 0.7614531 (485)\ttotal: 2m 23s\tremaining: 1m 42s\n",
      "583:\tlearn: 0.7884931\ttest: 0.7605598\tbest: 0.7614531 (485)\ttotal: 2m 23s\tremaining: 1m 42s\n",
      "584:\tlearn: 0.7885113\ttest: 0.7606874\tbest: 0.7614531 (485)\ttotal: 2m 24s\tremaining: 1m 42s\n",
      "585:\tlearn: 0.7886207\ttest: 0.7608575\tbest: 0.7614531 (485)\ttotal: 2m 24s\tremaining: 1m 42s\n",
      "586:\tlearn: 0.7885842\ttest: 0.7608575\tbest: 0.7614531 (485)\ttotal: 2m 24s\tremaining: 1m 41s\n",
      "587:\tlearn: 0.7886572\ttest: 0.7608575\tbest: 0.7614531 (485)\ttotal: 2m 24s\tremaining: 1m 41s\n",
      "588:\tlearn: 0.7886207\ttest: 0.7608575\tbest: 0.7614531 (485)\ttotal: 2m 25s\tremaining: 1m 41s\n",
      "589:\tlearn: 0.7886936\ttest: 0.7604322\tbest: 0.7614531 (485)\ttotal: 2m 25s\tremaining: 1m 41s\n",
      "590:\tlearn: 0.7887119\ttest: 0.7604747\tbest: 0.7614531 (485)\ttotal: 2m 25s\tremaining: 1m 40s\n",
      "591:\tlearn: 0.7888577\ttest: 0.7604747\tbest: 0.7614531 (485)\ttotal: 2m 26s\tremaining: 1m 40s\n",
      "592:\tlearn: 0.7890765\ttest: 0.7606023\tbest: 0.7614531 (485)\ttotal: 2m 26s\tremaining: 1m 40s\n",
      "593:\tlearn: 0.7889488\ttest: 0.7604747\tbest: 0.7614531 (485)\ttotal: 2m 26s\tremaining: 1m 40s\n",
      "594:\tlearn: 0.7890035\ttest: 0.7605172\tbest: 0.7614531 (485)\ttotal: 2m 26s\tremaining: 1m 40s\n",
      "595:\tlearn: 0.7890035\ttest: 0.7606449\tbest: 0.7614531 (485)\ttotal: 2m 27s\tremaining: 1m 39s\n",
      "596:\tlearn: 0.7892588\ttest: 0.7605598\tbest: 0.7614531 (485)\ttotal: 2m 27s\tremaining: 1m 39s\n",
      "597:\tlearn: 0.7893317\ttest: 0.7605598\tbest: 0.7614531 (485)\ttotal: 2m 27s\tremaining: 1m 39s\n",
      "598:\tlearn: 0.7894958\ttest: 0.7604747\tbest: 0.7614531 (485)\ttotal: 2m 27s\tremaining: 1m 38s\n",
      "599:\tlearn: 0.7895322\ttest: 0.7604747\tbest: 0.7614531 (485)\ttotal: 2m 28s\tremaining: 1m 38s\n",
      "600:\tlearn: 0.7896416\ttest: 0.7605172\tbest: 0.7614531 (485)\ttotal: 2m 28s\tremaining: 1m 38s\n",
      "601:\tlearn: 0.7896963\ttest: 0.7605172\tbest: 0.7614531 (485)\ttotal: 2m 28s\tremaining: 1m 38s\n",
      "602:\tlearn: 0.7896781\ttest: 0.7606023\tbest: 0.7614531 (485)\ttotal: 2m 28s\tremaining: 1m 38s\n",
      "603:\tlearn: 0.7898421\ttest: 0.7601770\tbest: 0.7614531 (485)\ttotal: 2m 29s\tremaining: 1m 37s\n",
      "604:\tlearn: 0.7898421\ttest: 0.7603896\tbest: 0.7614531 (485)\ttotal: 2m 29s\tremaining: 1m 37s\n",
      "605:\tlearn: 0.7899880\ttest: 0.7603471\tbest: 0.7614531 (485)\ttotal: 2m 29s\tremaining: 1m 37s\n",
      "606:\tlearn: 0.7898786\ttest: 0.7602620\tbest: 0.7614531 (485)\ttotal: 2m 29s\tremaining: 1m 37s\n",
      "607:\tlearn: 0.7899880\ttest: 0.7603046\tbest: 0.7614531 (485)\ttotal: 2m 30s\tremaining: 1m 36s\n",
      "608:\tlearn: 0.7902067\ttest: 0.7602195\tbest: 0.7614531 (485)\ttotal: 2m 30s\tremaining: 1m 36s\n",
      "609:\tlearn: 0.7901156\ttest: 0.7601344\tbest: 0.7614531 (485)\ttotal: 2m 30s\tremaining: 1m 36s\n",
      "610:\tlearn: 0.7901520\ttest: 0.7600493\tbest: 0.7614531 (485)\ttotal: 2m 30s\tremaining: 1m 36s\n",
      "611:\tlearn: 0.7901885\ttest: 0.7601344\tbest: 0.7614531 (485)\ttotal: 2m 31s\tremaining: 1m 35s\n",
      "612:\tlearn: 0.7902250\ttest: 0.7600493\tbest: 0.7614531 (485)\ttotal: 2m 31s\tremaining: 1m 35s\n",
      "613:\tlearn: 0.7904984\ttest: 0.7598792\tbest: 0.7614531 (485)\ttotal: 2m 31s\tremaining: 1m 35s\n",
      "614:\tlearn: 0.7904802\ttest: 0.7600493\tbest: 0.7614531 (485)\ttotal: 2m 31s\tremaining: 1m 35s\n",
      "615:\tlearn: 0.7904620\ttest: 0.7598792\tbest: 0.7614531 (485)\ttotal: 2m 32s\tremaining: 1m 34s\n",
      "616:\tlearn: 0.7902979\ttest: 0.7600919\tbest: 0.7614531 (485)\ttotal: 2m 32s\tremaining: 1m 34s\n",
      "617:\tlearn: 0.7902979\ttest: 0.7601344\tbest: 0.7614531 (485)\ttotal: 2m 32s\tremaining: 1m 34s\n",
      "618:\tlearn: 0.7904437\ttest: 0.7598367\tbest: 0.7614531 (485)\ttotal: 2m 32s\tremaining: 1m 34s\n",
      "619:\tlearn: 0.7904620\ttest: 0.7600068\tbest: 0.7614531 (485)\ttotal: 2m 33s\tremaining: 1m 33s\n",
      "620:\tlearn: 0.7905166\ttest: 0.7601344\tbest: 0.7614531 (485)\ttotal: 2m 33s\tremaining: 1m 33s\n",
      "621:\tlearn: 0.7905531\ttest: 0.7600919\tbest: 0.7614531 (485)\ttotal: 2m 33s\tremaining: 1m 33s\n",
      "622:\tlearn: 0.7904073\ttest: 0.7598792\tbest: 0.7614531 (485)\ttotal: 2m 33s\tremaining: 1m 33s\n",
      "623:\tlearn: 0.7904620\ttest: 0.7598792\tbest: 0.7614531 (485)\ttotal: 2m 34s\tremaining: 1m 32s\n",
      "624:\tlearn: 0.7906078\ttest: 0.7599643\tbest: 0.7614531 (485)\ttotal: 2m 34s\tremaining: 1m 32s\n",
      "625:\tlearn: 0.7906625\ttest: 0.7601770\tbest: 0.7614531 (485)\ttotal: 2m 34s\tremaining: 1m 32s\n",
      "626:\tlearn: 0.7910453\ttest: 0.7600919\tbest: 0.7614531 (485)\ttotal: 2m 35s\tremaining: 1m 32s\n",
      "627:\tlearn: 0.7910453\ttest: 0.7598792\tbest: 0.7614531 (485)\ttotal: 2m 35s\tremaining: 1m 32s\n",
      "628:\tlearn: 0.7911912\ttest: 0.7596665\tbest: 0.7614531 (485)\ttotal: 2m 35s\tremaining: 1m 31s\n",
      "629:\tlearn: 0.7912641\ttest: 0.7597516\tbest: 0.7614531 (485)\ttotal: 2m 35s\tremaining: 1m 31s\n",
      "630:\tlearn: 0.7913188\ttest: 0.7597941\tbest: 0.7614531 (485)\ttotal: 2m 36s\tremaining: 1m 31s\n",
      "631:\tlearn: 0.7913005\ttest: 0.7596665\tbest: 0.7614531 (485)\ttotal: 2m 36s\tremaining: 1m 31s\n",
      "632:\tlearn: 0.7912276\ttest: 0.7597516\tbest: 0.7614531 (485)\ttotal: 2m 36s\tremaining: 1m 30s\n",
      "633:\tlearn: 0.7913370\ttest: 0.7598792\tbest: 0.7614531 (485)\ttotal: 2m 36s\tremaining: 1m 30s\n",
      "634:\tlearn: 0.7913005\ttest: 0.7598367\tbest: 0.7614531 (485)\ttotal: 2m 37s\tremaining: 1m 30s\n",
      "635:\tlearn: 0.7913735\ttest: 0.7599643\tbest: 0.7614531 (485)\ttotal: 2m 37s\tremaining: 1m 30s\n"
     ]
    },
    {
     "name": "stdout",
     "output_type": "stream",
     "text": [
      "636:\tlearn: 0.7913370\ttest: 0.7598792\tbest: 0.7614531 (485)\ttotal: 2m 37s\tremaining: 1m 29s\n",
      "637:\tlearn: 0.7913735\ttest: 0.7598367\tbest: 0.7614531 (485)\ttotal: 2m 38s\tremaining: 1m 29s\n",
      "638:\tlearn: 0.7915558\ttest: 0.7597516\tbest: 0.7614531 (485)\ttotal: 2m 38s\tremaining: 1m 29s\n",
      "639:\tlearn: 0.7917016\ttest: 0.7596240\tbest: 0.7614531 (485)\ttotal: 2m 38s\tremaining: 1m 29s\n",
      "640:\tlearn: 0.7917016\ttest: 0.7594113\tbest: 0.7614531 (485)\ttotal: 2m 38s\tremaining: 1m 28s\n",
      "641:\tlearn: 0.7915558\ttest: 0.7595389\tbest: 0.7614531 (485)\ttotal: 2m 39s\tremaining: 1m 28s\n",
      "642:\tlearn: 0.7915375\ttest: 0.7598367\tbest: 0.7614531 (485)\ttotal: 2m 39s\tremaining: 1m 28s\n",
      "643:\tlearn: 0.7916105\ttest: 0.7599217\tbest: 0.7614531 (485)\ttotal: 2m 39s\tremaining: 1m 28s\n",
      "644:\tlearn: 0.7916287\ttest: 0.7600919\tbest: 0.7614531 (485)\ttotal: 2m 40s\tremaining: 1m 28s\n",
      "645:\tlearn: 0.7919204\ttest: 0.7602620\tbest: 0.7614531 (485)\ttotal: 2m 40s\tremaining: 1m 27s\n",
      "646:\tlearn: 0.7919021\ttest: 0.7600493\tbest: 0.7614531 (485)\ttotal: 2m 40s\tremaining: 1m 27s\n",
      "647:\tlearn: 0.7920844\ttest: 0.7602620\tbest: 0.7614531 (485)\ttotal: 2m 40s\tremaining: 1m 27s\n",
      "648:\tlearn: 0.7919568\ttest: 0.7602195\tbest: 0.7614531 (485)\ttotal: 2m 41s\tremaining: 1m 27s\n",
      "649:\tlearn: 0.7918839\ttest: 0.7601770\tbest: 0.7614531 (485)\ttotal: 2m 41s\tremaining: 1m 26s\n",
      "650:\tlearn: 0.7920298\ttest: 0.7602195\tbest: 0.7614531 (485)\ttotal: 2m 41s\tremaining: 1m 26s\n",
      "651:\tlearn: 0.7922121\ttest: 0.7603896\tbest: 0.7614531 (485)\ttotal: 2m 41s\tremaining: 1m 26s\n",
      "652:\tlearn: 0.7923032\ttest: 0.7604747\tbest: 0.7614531 (485)\ttotal: 2m 42s\tremaining: 1m 26s\n",
      "653:\tlearn: 0.7923214\ttest: 0.7605172\tbest: 0.7614531 (485)\ttotal: 2m 42s\tremaining: 1m 25s\n",
      "654:\tlearn: 0.7922850\ttest: 0.7605172\tbest: 0.7614531 (485)\ttotal: 2m 42s\tremaining: 1m 25s\n",
      "655:\tlearn: 0.7922850\ttest: 0.7605172\tbest: 0.7614531 (485)\ttotal: 2m 43s\tremaining: 1m 25s\n",
      "656:\tlearn: 0.7922121\ttest: 0.7604747\tbest: 0.7614531 (485)\ttotal: 2m 43s\tremaining: 1m 25s\n",
      "657:\tlearn: 0.7923397\ttest: 0.7607299\tbest: 0.7614531 (485)\ttotal: 2m 43s\tremaining: 1m 25s\n",
      "658:\tlearn: 0.7923397\ttest: 0.7605598\tbest: 0.7614531 (485)\ttotal: 2m 43s\tremaining: 1m 24s\n",
      "659:\tlearn: 0.7925220\ttest: 0.7607725\tbest: 0.7614531 (485)\ttotal: 2m 44s\tremaining: 1m 24s\n",
      "660:\tlearn: 0.7926678\ttest: 0.7603471\tbest: 0.7614531 (485)\ttotal: 2m 44s\tremaining: 1m 24s\n",
      "661:\tlearn: 0.7926313\ttest: 0.7602620\tbest: 0.7614531 (485)\ttotal: 2m 44s\tremaining: 1m 24s\n",
      "662:\tlearn: 0.7928319\ttest: 0.7603471\tbest: 0.7614531 (485)\ttotal: 2m 45s\tremaining: 1m 23s\n",
      "663:\tlearn: 0.7928319\ttest: 0.7604747\tbest: 0.7614531 (485)\ttotal: 2m 45s\tremaining: 1m 23s\n",
      "664:\tlearn: 0.7929230\ttest: 0.7603896\tbest: 0.7614531 (485)\ttotal: 2m 45s\tremaining: 1m 23s\n",
      "665:\tlearn: 0.7930324\ttest: 0.7604747\tbest: 0.7614531 (485)\ttotal: 2m 45s\tremaining: 1m 23s\n",
      "666:\tlearn: 0.7932876\ttest: 0.7599643\tbest: 0.7614531 (485)\ttotal: 2m 46s\tremaining: 1m 22s\n",
      "667:\tlearn: 0.7932329\ttest: 0.7601770\tbest: 0.7614531 (485)\ttotal: 2m 46s\tremaining: 1m 22s\n",
      "668:\tlearn: 0.7929960\ttest: 0.7602620\tbest: 0.7614531 (485)\ttotal: 2m 46s\tremaining: 1m 22s\n",
      "669:\tlearn: 0.7931965\ttest: 0.7605598\tbest: 0.7614531 (485)\ttotal: 2m 47s\tremaining: 1m 22s\n",
      "670:\tlearn: 0.7932694\ttest: 0.7601344\tbest: 0.7614531 (485)\ttotal: 2m 47s\tremaining: 1m 22s\n",
      "671:\tlearn: 0.7931783\ttest: 0.7597090\tbest: 0.7614531 (485)\ttotal: 2m 47s\tremaining: 1m 21s\n",
      "672:\tlearn: 0.7931965\ttest: 0.7600919\tbest: 0.7614531 (485)\ttotal: 2m 47s\tremaining: 1m 21s\n",
      "673:\tlearn: 0.7933606\ttest: 0.7603046\tbest: 0.7614531 (485)\ttotal: 2m 48s\tremaining: 1m 21s\n",
      "674:\tlearn: 0.7933788\ttest: 0.7604747\tbest: 0.7614531 (485)\ttotal: 2m 48s\tremaining: 1m 21s\n",
      "675:\tlearn: 0.7933423\ttest: 0.7606449\tbest: 0.7614531 (485)\ttotal: 2m 48s\tremaining: 1m 20s\n",
      "676:\tlearn: 0.7933423\ttest: 0.7604747\tbest: 0.7614531 (485)\ttotal: 2m 49s\tremaining: 1m 20s\n",
      "677:\tlearn: 0.7933059\ttest: 0.7607725\tbest: 0.7614531 (485)\ttotal: 2m 49s\tremaining: 1m 20s\n",
      "678:\tlearn: 0.7933059\ttest: 0.7606023\tbest: 0.7614531 (485)\ttotal: 2m 49s\tremaining: 1m 20s\n",
      "679:\tlearn: 0.7932147\ttest: 0.7606023\tbest: 0.7614531 (485)\ttotal: 2m 49s\tremaining: 1m 19s\n",
      "680:\tlearn: 0.7934152\ttest: 0.7606023\tbest: 0.7614531 (485)\ttotal: 2m 50s\tremaining: 1m 19s\n",
      "681:\tlearn: 0.7934152\ttest: 0.7603046\tbest: 0.7614531 (485)\ttotal: 2m 50s\tremaining: 1m 19s\n",
      "682:\tlearn: 0.7936158\ttest: 0.7604322\tbest: 0.7614531 (485)\ttotal: 2m 50s\tremaining: 1m 19s\n",
      "683:\tlearn: 0.7935429\ttest: 0.7603896\tbest: 0.7614531 (485)\ttotal: 2m 51s\tremaining: 1m 19s\n",
      "684:\tlearn: 0.7935429\ttest: 0.7603896\tbest: 0.7614531 (485)\ttotal: 2m 51s\tremaining: 1m 18s\n",
      "685:\tlearn: 0.7938710\ttest: 0.7606023\tbest: 0.7614531 (485)\ttotal: 2m 51s\tremaining: 1m 18s\n",
      "686:\tlearn: 0.7939986\ttest: 0.7606023\tbest: 0.7614531 (485)\ttotal: 2m 51s\tremaining: 1m 18s\n",
      "687:\tlearn: 0.7939622\ttest: 0.7606874\tbest: 0.7614531 (485)\ttotal: 2m 52s\tremaining: 1m 18s\n",
      "688:\tlearn: 0.7941445\ttest: 0.7606449\tbest: 0.7614531 (485)\ttotal: 2m 52s\tremaining: 1m 17s\n",
      "689:\tlearn: 0.7942356\ttest: 0.7605172\tbest: 0.7614531 (485)\ttotal: 2m 52s\tremaining: 1m 17s\n",
      "690:\tlearn: 0.7943632\ttest: 0.7603896\tbest: 0.7614531 (485)\ttotal: 2m 53s\tremaining: 1m 17s\n",
      "691:\tlearn: 0.7943268\ttest: 0.7602620\tbest: 0.7614531 (485)\ttotal: 2m 53s\tremaining: 1m 17s\n",
      "692:\tlearn: 0.7943268\ttest: 0.7605172\tbest: 0.7614531 (485)\ttotal: 2m 53s\tremaining: 1m 16s\n",
      "693:\tlearn: 0.7944361\ttest: 0.7604747\tbest: 0.7614531 (485)\ttotal: 2m 53s\tremaining: 1m 16s\n",
      "694:\tlearn: 0.7944544\ttest: 0.7602620\tbest: 0.7614531 (485)\ttotal: 2m 54s\tremaining: 1m 16s\n",
      "695:\tlearn: 0.7945638\ttest: 0.7602195\tbest: 0.7614531 (485)\ttotal: 2m 54s\tremaining: 1m 16s\n",
      "696:\tlearn: 0.7946549\ttest: 0.7603471\tbest: 0.7614531 (485)\ttotal: 2m 54s\tremaining: 1m 15s\n",
      "697:\tlearn: 0.7947096\ttest: 0.7601344\tbest: 0.7614531 (485)\ttotal: 2m 54s\tremaining: 1m 15s\n",
      "698:\tlearn: 0.7945273\ttest: 0.7600068\tbest: 0.7614531 (485)\ttotal: 2m 55s\tremaining: 1m 15s\n",
      "699:\tlearn: 0.7947825\ttest: 0.7602195\tbest: 0.7614531 (485)\ttotal: 2m 55s\tremaining: 1m 15s\n",
      "700:\tlearn: 0.7948190\ttest: 0.7601344\tbest: 0.7614531 (485)\ttotal: 2m 55s\tremaining: 1m 14s\n",
      "701:\tlearn: 0.7947825\ttest: 0.7597516\tbest: 0.7614531 (485)\ttotal: 2m 56s\tremaining: 1m 14s\n",
      "702:\tlearn: 0.7947643\ttest: 0.7601344\tbest: 0.7614531 (485)\ttotal: 2m 56s\tremaining: 1m 14s\n",
      "703:\tlearn: 0.7948190\ttest: 0.7599643\tbest: 0.7614531 (485)\ttotal: 2m 56s\tremaining: 1m 14s\n",
      "704:\tlearn: 0.7947278\ttest: 0.7600493\tbest: 0.7614531 (485)\ttotal: 2m 56s\tremaining: 1m 14s\n",
      "705:\tlearn: 0.7948919\ttest: 0.7597941\tbest: 0.7614531 (485)\ttotal: 2m 57s\tremaining: 1m 13s\n",
      "706:\tlearn: 0.7948372\ttest: 0.7597516\tbest: 0.7614531 (485)\ttotal: 2m 57s\tremaining: 1m 13s\n",
      "707:\tlearn: 0.7949648\ttest: 0.7602195\tbest: 0.7614531 (485)\ttotal: 2m 57s\tremaining: 1m 13s\n",
      "708:\tlearn: 0.7951471\ttest: 0.7603046\tbest: 0.7614531 (485)\ttotal: 2m 58s\tremaining: 1m 13s\n",
      "709:\tlearn: 0.7952018\ttest: 0.7602195\tbest: 0.7614531 (485)\ttotal: 2m 58s\tremaining: 1m 12s\n",
      "710:\tlearn: 0.7951107\ttest: 0.7601344\tbest: 0.7614531 (485)\ttotal: 2m 58s\tremaining: 1m 12s\n",
      "711:\tlearn: 0.7953841\ttest: 0.7602195\tbest: 0.7614531 (485)\ttotal: 2m 58s\tremaining: 1m 12s\n",
      "712:\tlearn: 0.7952383\ttest: 0.7602620\tbest: 0.7614531 (485)\ttotal: 2m 59s\tremaining: 1m 12s\n",
      "713:\tlearn: 0.7953112\ttest: 0.7601344\tbest: 0.7614531 (485)\ttotal: 2m 59s\tremaining: 1m 11s\n",
      "714:\tlearn: 0.7952930\ttest: 0.7597090\tbest: 0.7614531 (485)\ttotal: 2m 59s\tremaining: 1m 11s\n",
      "715:\tlearn: 0.7955482\ttest: 0.7597516\tbest: 0.7614531 (485)\ttotal: 3m\tremaining: 1m 11s\n",
      "716:\tlearn: 0.7955846\ttest: 0.7597941\tbest: 0.7614531 (485)\ttotal: 3m\tremaining: 1m 11s\n",
      "717:\tlearn: 0.7956393\ttest: 0.7596665\tbest: 0.7614531 (485)\ttotal: 3m\tremaining: 1m 10s\n",
      "718:\tlearn: 0.7957669\ttest: 0.7597516\tbest: 0.7614531 (485)\ttotal: 3m\tremaining: 1m 10s\n",
      "719:\tlearn: 0.7956211\ttest: 0.7599217\tbest: 0.7614531 (485)\ttotal: 3m 1s\tremaining: 1m 10s\n",
      "720:\tlearn: 0.7960404\ttest: 0.7597941\tbest: 0.7614531 (485)\ttotal: 3m 1s\tremaining: 1m 10s\n",
      "721:\tlearn: 0.7960404\ttest: 0.7599643\tbest: 0.7614531 (485)\ttotal: 3m 1s\tremaining: 1m 10s\n",
      "722:\tlearn: 0.7959675\ttest: 0.7599643\tbest: 0.7614531 (485)\ttotal: 3m 2s\tremaining: 1m 9s\n",
      "723:\tlearn: 0.7960222\ttest: 0.7597941\tbest: 0.7614531 (485)\ttotal: 3m 2s\tremaining: 1m 9s\n",
      "724:\tlearn: 0.7961315\ttest: 0.7599643\tbest: 0.7614531 (485)\ttotal: 3m 2s\tremaining: 1m 9s\n",
      "725:\tlearn: 0.7962045\ttest: 0.7596240\tbest: 0.7614531 (485)\ttotal: 3m 2s\tremaining: 1m 9s\n"
     ]
    },
    {
     "name": "stdout",
     "output_type": "stream",
     "text": [
      "726:\tlearn: 0.7963503\ttest: 0.7595389\tbest: 0.7614531 (485)\ttotal: 3m 3s\tremaining: 1m 8s\n",
      "727:\tlearn: 0.7963139\ttest: 0.7594538\tbest: 0.7614531 (485)\ttotal: 3m 3s\tremaining: 1m 8s\n",
      "728:\tlearn: 0.7963321\ttest: 0.7597090\tbest: 0.7614531 (485)\ttotal: 3m 3s\tremaining: 1m 8s\n",
      "729:\tlearn: 0.7964232\ttest: 0.7598367\tbest: 0.7614531 (485)\ttotal: 3m 4s\tremaining: 1m 8s\n",
      "730:\tlearn: 0.7966420\ttest: 0.7599217\tbest: 0.7614531 (485)\ttotal: 3m 4s\tremaining: 1m 7s\n",
      "731:\tlearn: 0.7966602\ttest: 0.7598792\tbest: 0.7614531 (485)\ttotal: 3m 4s\tremaining: 1m 7s\n",
      "732:\tlearn: 0.7965144\ttest: 0.7597941\tbest: 0.7614531 (485)\ttotal: 3m 4s\tremaining: 1m 7s\n",
      "733:\tlearn: 0.7966055\ttest: 0.7599217\tbest: 0.7614531 (485)\ttotal: 3m 5s\tremaining: 1m 7s\n",
      "734:\tlearn: 0.7968425\ttest: 0.7598792\tbest: 0.7614531 (485)\ttotal: 3m 5s\tremaining: 1m 6s\n",
      "735:\tlearn: 0.7966055\ttest: 0.7600493\tbest: 0.7614531 (485)\ttotal: 3m 5s\tremaining: 1m 6s\n",
      "736:\tlearn: 0.7966785\ttest: 0.7603896\tbest: 0.7614531 (485)\ttotal: 3m 6s\tremaining: 1m 6s\n",
      "737:\tlearn: 0.7968061\ttest: 0.7603471\tbest: 0.7614531 (485)\ttotal: 3m 6s\tremaining: 1m 6s\n",
      "738:\tlearn: 0.7968425\ttest: 0.7601344\tbest: 0.7614531 (485)\ttotal: 3m 6s\tremaining: 1m 5s\n",
      "739:\tlearn: 0.7968608\ttest: 0.7600919\tbest: 0.7614531 (485)\ttotal: 3m 7s\tremaining: 1m 5s\n",
      "740:\tlearn: 0.7968425\ttest: 0.7601770\tbest: 0.7614531 (485)\ttotal: 3m 7s\tremaining: 1m 5s\n",
      "741:\tlearn: 0.7969337\ttest: 0.7605172\tbest: 0.7614531 (485)\ttotal: 3m 7s\tremaining: 1m 5s\n",
      "742:\tlearn: 0.7970066\ttest: 0.7603896\tbest: 0.7614531 (485)\ttotal: 3m 7s\tremaining: 1m 5s\n",
      "743:\tlearn: 0.7969884\ttest: 0.7604322\tbest: 0.7614531 (485)\ttotal: 3m 8s\tremaining: 1m 4s\n",
      "744:\tlearn: 0.7969884\ttest: 0.7605598\tbest: 0.7614531 (485)\ttotal: 3m 8s\tremaining: 1m 4s\n",
      "745:\tlearn: 0.7970978\ttest: 0.7605598\tbest: 0.7614531 (485)\ttotal: 3m 12s\tremaining: 1m 5s\n",
      "746:\tlearn: 0.7970066\ttest: 0.7604747\tbest: 0.7614531 (485)\ttotal: 3m 12s\tremaining: 1m 5s\n",
      "747:\tlearn: 0.7970066\ttest: 0.7605172\tbest: 0.7614531 (485)\ttotal: 3m 13s\tremaining: 1m 5s\n",
      "748:\tlearn: 0.7973530\ttest: 0.7606874\tbest: 0.7614531 (485)\ttotal: 3m 13s\tremaining: 1m 4s\n",
      "749:\tlearn: 0.7974806\ttest: 0.7607725\tbest: 0.7614531 (485)\ttotal: 3m 13s\tremaining: 1m 4s\n",
      "750:\tlearn: 0.7976082\ttest: 0.7609426\tbest: 0.7614531 (485)\ttotal: 3m 13s\tremaining: 1m 4s\n",
      "751:\tlearn: 0.7974624\ttest: 0.7609426\tbest: 0.7614531 (485)\ttotal: 3m 14s\tremaining: 1m 4s\n",
      "752:\tlearn: 0.7974624\ttest: 0.7610277\tbest: 0.7614531 (485)\ttotal: 3m 14s\tremaining: 1m 3s\n",
      "753:\tlearn: 0.7974806\ttest: 0.7609852\tbest: 0.7614531 (485)\ttotal: 3m 14s\tremaining: 1m 3s\n",
      "754:\tlearn: 0.7975535\ttest: 0.7610702\tbest: 0.7614531 (485)\ttotal: 3m 15s\tremaining: 1m 3s\n",
      "755:\tlearn: 0.7976629\ttest: 0.7612404\tbest: 0.7614531 (485)\ttotal: 3m 15s\tremaining: 1m 3s\n",
      "756:\tlearn: 0.7977905\ttest: 0.7611553\tbest: 0.7614531 (485)\ttotal: 3m 15s\tremaining: 1m 2s\n",
      "757:\tlearn: 0.7975717\ttest: 0.7609852\tbest: 0.7614531 (485)\ttotal: 3m 16s\tremaining: 1m 2s\n",
      "758:\tlearn: 0.7974988\ttest: 0.7609426\tbest: 0.7614531 (485)\ttotal: 3m 16s\tremaining: 1m 2s\n",
      "759:\tlearn: 0.7974988\ttest: 0.7607299\tbest: 0.7614531 (485)\ttotal: 3m 16s\tremaining: 1m 2s\n",
      "760:\tlearn: 0.7975353\ttest: 0.7608575\tbest: 0.7614531 (485)\ttotal: 3m 16s\tremaining: 1m 1s\n",
      "761:\tlearn: 0.7975353\ttest: 0.7607299\tbest: 0.7614531 (485)\ttotal: 3m 17s\tremaining: 1m 1s\n",
      "762:\tlearn: 0.7978816\ttest: 0.7603896\tbest: 0.7614531 (485)\ttotal: 3m 17s\tremaining: 1m 1s\n",
      "763:\tlearn: 0.7978634\ttest: 0.7606023\tbest: 0.7614531 (485)\ttotal: 3m 17s\tremaining: 1m 1s\n",
      "764:\tlearn: 0.7977723\ttest: 0.7604322\tbest: 0.7614531 (485)\ttotal: 3m 17s\tremaining: 1m\n",
      "765:\tlearn: 0.7978270\ttest: 0.7605172\tbest: 0.7614531 (485)\ttotal: 3m 18s\tremaining: 1m\n",
      "766:\tlearn: 0.7978270\ttest: 0.7606874\tbest: 0.7614531 (485)\ttotal: 3m 18s\tremaining: 1m\n",
      "767:\tlearn: 0.7980093\ttest: 0.7607299\tbest: 0.7614531 (485)\ttotal: 3m 18s\tremaining: 1m\n",
      "768:\tlearn: 0.7981369\ttest: 0.7607299\tbest: 0.7614531 (485)\ttotal: 3m 19s\tremaining: 59.8s\n",
      "769:\tlearn: 0.7982645\ttest: 0.7606874\tbest: 0.7614531 (485)\ttotal: 3m 19s\tremaining: 59.6s\n",
      "770:\tlearn: 0.7984103\ttest: 0.7607299\tbest: 0.7614531 (485)\ttotal: 3m 19s\tremaining: 59.3s\n",
      "771:\tlearn: 0.7985379\ttest: 0.7606874\tbest: 0.7614531 (485)\ttotal: 3m 19s\tremaining: 59.1s\n",
      "772:\tlearn: 0.7985744\ttest: 0.7608150\tbest: 0.7614531 (485)\ttotal: 3m 20s\tremaining: 58.8s\n",
      "773:\tlearn: 0.7986291\ttest: 0.7608150\tbest: 0.7614531 (485)\ttotal: 3m 20s\tremaining: 58.6s\n",
      "774:\tlearn: 0.7986109\ttest: 0.7608150\tbest: 0.7614531 (485)\ttotal: 3m 20s\tremaining: 58.3s\n",
      "775:\tlearn: 0.7988296\ttest: 0.7609852\tbest: 0.7614531 (485)\ttotal: 3m 21s\tremaining: 58.1s\n",
      "776:\tlearn: 0.7986291\ttest: 0.7609426\tbest: 0.7614531 (485)\ttotal: 3m 21s\tremaining: 57.8s\n",
      "777:\tlearn: 0.7987202\ttest: 0.7609426\tbest: 0.7614531 (485)\ttotal: 3m 21s\tremaining: 57.6s\n",
      "778:\tlearn: 0.7988296\ttest: 0.7608150\tbest: 0.7614531 (485)\ttotal: 3m 22s\tremaining: 57.4s\n",
      "779:\tlearn: 0.7988296\ttest: 0.7611128\tbest: 0.7614531 (485)\ttotal: 3m 22s\tremaining: 57.1s\n",
      "780:\tlearn: 0.7989572\ttest: 0.7608575\tbest: 0.7614531 (485)\ttotal: 3m 22s\tremaining: 56.9s\n",
      "781:\tlearn: 0.7989572\ttest: 0.7608575\tbest: 0.7614531 (485)\ttotal: 3m 23s\tremaining: 56.6s\n",
      "782:\tlearn: 0.7990119\ttest: 0.7609001\tbest: 0.7614531 (485)\ttotal: 3m 23s\tremaining: 56.4s\n",
      "783:\tlearn: 0.7990302\ttest: 0.7608575\tbest: 0.7614531 (485)\ttotal: 3m 23s\tremaining: 56.1s\n",
      "784:\tlearn: 0.7990666\ttest: 0.7609852\tbest: 0.7614531 (485)\ttotal: 3m 24s\tremaining: 55.9s\n",
      "785:\tlearn: 0.7991395\ttest: 0.7608150\tbest: 0.7614531 (485)\ttotal: 3m 24s\tremaining: 55.6s\n",
      "786:\tlearn: 0.7992671\ttest: 0.7608575\tbest: 0.7614531 (485)\ttotal: 3m 24s\tremaining: 55.4s\n",
      "787:\tlearn: 0.7993948\ttest: 0.7609852\tbest: 0.7614531 (485)\ttotal: 3m 25s\tremaining: 55.2s\n",
      "788:\tlearn: 0.7993401\ttest: 0.7611978\tbest: 0.7614531 (485)\ttotal: 3m 25s\tremaining: 54.9s\n",
      "789:\tlearn: 0.7995406\ttest: 0.7612404\tbest: 0.7614531 (485)\ttotal: 3m 25s\tremaining: 54.6s\n",
      "790:\tlearn: 0.7995588\ttest: 0.7612404\tbest: 0.7614531 (485)\ttotal: 3m 25s\tremaining: 54.4s\n",
      "791:\tlearn: 0.7995771\ttest: 0.7610277\tbest: 0.7614531 (485)\ttotal: 3m 26s\tremaining: 54.1s\n",
      "792:\tlearn: 0.7997411\ttest: 0.7614531\tbest: 0.7614531 (485)\ttotal: 3m 26s\tremaining: 53.9s\n",
      "793:\tlearn: 0.7997047\ttest: 0.7612404\tbest: 0.7614531 (485)\ttotal: 3m 26s\tremaining: 53.6s\n",
      "794:\tlearn: 0.7999234\ttest: 0.7609001\tbest: 0.7614531 (485)\ttotal: 3m 26s\tremaining: 53.4s\n",
      "795:\tlearn: 0.8000693\ttest: 0.7604322\tbest: 0.7614531 (485)\ttotal: 3m 27s\tremaining: 53.1s\n",
      "796:\tlearn: 0.8000693\ttest: 0.7604747\tbest: 0.7614531 (485)\ttotal: 3m 27s\tremaining: 52.9s\n",
      "797:\tlearn: 0.8001787\ttest: 0.7601770\tbest: 0.7614531 (485)\ttotal: 3m 27s\tremaining: 52.6s\n",
      "798:\tlearn: 0.8002516\ttest: 0.7606023\tbest: 0.7614531 (485)\ttotal: 3m 28s\tremaining: 52.4s\n",
      "799:\tlearn: 0.8005615\ttest: 0.7604747\tbest: 0.7614531 (485)\ttotal: 3m 28s\tremaining: 52.1s\n",
      "800:\tlearn: 0.8005250\ttest: 0.7603046\tbest: 0.7614531 (485)\ttotal: 3m 28s\tremaining: 51.9s\n",
      "801:\tlearn: 0.8006162\ttest: 0.7606874\tbest: 0.7614531 (485)\ttotal: 3m 29s\tremaining: 51.6s\n",
      "802:\tlearn: 0.8007438\ttest: 0.7606874\tbest: 0.7614531 (485)\ttotal: 3m 29s\tremaining: 51.4s\n",
      "803:\tlearn: 0.8006526\ttest: 0.7606874\tbest: 0.7614531 (485)\ttotal: 3m 29s\tremaining: 51.1s\n",
      "804:\tlearn: 0.8006344\ttest: 0.7608150\tbest: 0.7614531 (485)\ttotal: 3m 29s\tremaining: 50.8s\n",
      "805:\tlearn: 0.8007438\ttest: 0.7607299\tbest: 0.7614531 (485)\ttotal: 3m 30s\tremaining: 50.6s\n",
      "806:\tlearn: 0.8007073\ttest: 0.7606449\tbest: 0.7614531 (485)\ttotal: 3m 30s\tremaining: 50.3s\n",
      "807:\tlearn: 0.8006891\ttest: 0.7605598\tbest: 0.7614531 (485)\ttotal: 3m 30s\tremaining: 50.1s\n",
      "808:\tlearn: 0.8007438\ttest: 0.7605172\tbest: 0.7614531 (485)\ttotal: 3m 31s\tremaining: 49.8s\n",
      "809:\tlearn: 0.8008532\ttest: 0.7604747\tbest: 0.7614531 (485)\ttotal: 3m 31s\tremaining: 49.6s\n",
      "810:\tlearn: 0.8008349\ttest: 0.7604747\tbest: 0.7614531 (485)\ttotal: 3m 31s\tremaining: 49.3s\n",
      "811:\tlearn: 0.8008896\ttest: 0.7603896\tbest: 0.7614531 (485)\ttotal: 3m 31s\tremaining: 49.1s\n",
      "812:\tlearn: 0.8010537\ttest: 0.7601770\tbest: 0.7614531 (485)\ttotal: 3m 32s\tremaining: 48.8s\n",
      "813:\tlearn: 0.8009443\ttest: 0.7601770\tbest: 0.7614531 (485)\ttotal: 3m 32s\tremaining: 48.6s\n",
      "814:\tlearn: 0.8010719\ttest: 0.7603471\tbest: 0.7614531 (485)\ttotal: 3m 32s\tremaining: 48.3s\n",
      "815:\tlearn: 0.8011995\ttest: 0.7601770\tbest: 0.7614531 (485)\ttotal: 3m 33s\tremaining: 48.1s\n",
      "816:\tlearn: 0.8011813\ttest: 0.7603046\tbest: 0.7614531 (485)\ttotal: 3m 33s\tremaining: 47.8s\n"
     ]
    },
    {
     "name": "stdout",
     "output_type": "stream",
     "text": [
      "817:\tlearn: 0.8013636\ttest: 0.7604322\tbest: 0.7614531 (485)\ttotal: 3m 33s\tremaining: 47.6s\n",
      "818:\tlearn: 0.8014001\ttest: 0.7604747\tbest: 0.7614531 (485)\ttotal: 3m 34s\tremaining: 47.3s\n",
      "819:\tlearn: 0.8014365\ttest: 0.7603046\tbest: 0.7614531 (485)\ttotal: 3m 34s\tremaining: 47.1s\n",
      "820:\tlearn: 0.8015459\ttest: 0.7603471\tbest: 0.7614531 (485)\ttotal: 3m 34s\tremaining: 46.8s\n",
      "821:\tlearn: 0.8016371\ttest: 0.7605172\tbest: 0.7614531 (485)\ttotal: 3m 35s\tremaining: 46.6s\n",
      "822:\tlearn: 0.8016553\ttest: 0.7604322\tbest: 0.7614531 (485)\ttotal: 3m 35s\tremaining: 46.3s\n",
      "823:\tlearn: 0.8016371\ttest: 0.7605172\tbest: 0.7614531 (485)\ttotal: 3m 35s\tremaining: 46.1s\n",
      "824:\tlearn: 0.8016918\ttest: 0.7602620\tbest: 0.7614531 (485)\ttotal: 3m 36s\tremaining: 45.8s\n",
      "825:\tlearn: 0.8018923\ttest: 0.7606449\tbest: 0.7614531 (485)\ttotal: 3m 36s\tremaining: 45.6s\n",
      "826:\tlearn: 0.8018558\ttest: 0.7603896\tbest: 0.7614531 (485)\ttotal: 3m 36s\tremaining: 45.3s\n",
      "827:\tlearn: 0.8018558\ttest: 0.7603896\tbest: 0.7614531 (485)\ttotal: 3m 37s\tremaining: 45.1s\n",
      "828:\tlearn: 0.8016735\ttest: 0.7601344\tbest: 0.7614531 (485)\ttotal: 3m 37s\tremaining: 44.8s\n",
      "829:\tlearn: 0.8018011\ttest: 0.7599643\tbest: 0.7614531 (485)\ttotal: 3m 37s\tremaining: 44.6s\n",
      "830:\tlearn: 0.8022934\ttest: 0.7602195\tbest: 0.7614531 (485)\ttotal: 3m 37s\tremaining: 44.3s\n",
      "831:\tlearn: 0.8024392\ttest: 0.7600493\tbest: 0.7614531 (485)\ttotal: 3m 38s\tremaining: 44s\n",
      "832:\tlearn: 0.8026580\ttest: 0.7600493\tbest: 0.7614531 (485)\ttotal: 3m 38s\tremaining: 43.8s\n",
      "833:\tlearn: 0.8026215\ttest: 0.7603046\tbest: 0.7614531 (485)\ttotal: 3m 38s\tremaining: 43.5s\n",
      "834:\tlearn: 0.8027309\ttest: 0.7601770\tbest: 0.7614531 (485)\ttotal: 3m 39s\tremaining: 43.3s\n",
      "835:\tlearn: 0.8028950\ttest: 0.7603471\tbest: 0.7614531 (485)\ttotal: 3m 39s\tremaining: 43s\n",
      "836:\tlearn: 0.8031320\ttest: 0.7603046\tbest: 0.7614531 (485)\ttotal: 3m 39s\tremaining: 42.8s\n",
      "837:\tlearn: 0.8031684\ttest: 0.7603471\tbest: 0.7614531 (485)\ttotal: 3m 39s\tremaining: 42.5s\n",
      "838:\tlearn: 0.8030955\ttest: 0.7603471\tbest: 0.7614531 (485)\ttotal: 3m 40s\tremaining: 42.3s\n",
      "839:\tlearn: 0.8030408\ttest: 0.7604747\tbest: 0.7614531 (485)\ttotal: 3m 40s\tremaining: 42s\n",
      "840:\tlearn: 0.8030773\ttest: 0.7605172\tbest: 0.7614531 (485)\ttotal: 3m 40s\tremaining: 41.8s\n",
      "841:\tlearn: 0.8029314\ttest: 0.7603471\tbest: 0.7614531 (485)\ttotal: 3m 41s\tremaining: 41.5s\n",
      "842:\tlearn: 0.8032413\ttest: 0.7602620\tbest: 0.7614531 (485)\ttotal: 3m 41s\tremaining: 41.3s\n",
      "843:\tlearn: 0.8035148\ttest: 0.7603046\tbest: 0.7614531 (485)\ttotal: 3m 41s\tremaining: 41s\n",
      "844:\tlearn: 0.8035330\ttest: 0.7600919\tbest: 0.7614531 (485)\ttotal: 3m 42s\tremaining: 40.8s\n",
      "845:\tlearn: 0.8034783\ttest: 0.7600493\tbest: 0.7614531 (485)\ttotal: 3m 42s\tremaining: 40.5s\n",
      "846:\tlearn: 0.8035148\ttest: 0.7601344\tbest: 0.7614531 (485)\ttotal: 3m 42s\tremaining: 40.3s\n",
      "847:\tlearn: 0.8036059\ttest: 0.7602620\tbest: 0.7614531 (485)\ttotal: 3m 43s\tremaining: 40s\n",
      "848:\tlearn: 0.8037518\ttest: 0.7603046\tbest: 0.7614531 (485)\ttotal: 3m 43s\tremaining: 39.8s\n",
      "849:\tlearn: 0.8037882\ttest: 0.7604747\tbest: 0.7614531 (485)\ttotal: 3m 43s\tremaining: 39.5s\n",
      "850:\tlearn: 0.8039705\ttest: 0.7601344\tbest: 0.7614531 (485)\ttotal: 3m 44s\tremaining: 39.2s\n",
      "851:\tlearn: 0.8039341\ttest: 0.7602195\tbest: 0.7614531 (485)\ttotal: 3m 44s\tremaining: 39s\n",
      "852:\tlearn: 0.8039705\ttest: 0.7602195\tbest: 0.7614531 (485)\ttotal: 3m 44s\tremaining: 38.7s\n",
      "853:\tlearn: 0.8040617\ttest: 0.7599643\tbest: 0.7614531 (485)\ttotal: 3m 45s\tremaining: 38.5s\n",
      "854:\tlearn: 0.8041346\ttest: 0.7600919\tbest: 0.7614531 (485)\ttotal: 3m 45s\tremaining: 38.2s\n",
      "855:\tlearn: 0.8041528\ttest: 0.7598792\tbest: 0.7614531 (485)\ttotal: 3m 45s\tremaining: 38s\n",
      "856:\tlearn: 0.8041893\ttest: 0.7600068\tbest: 0.7614531 (485)\ttotal: 3m 46s\tremaining: 37.7s\n",
      "857:\tlearn: 0.8040617\ttest: 0.7599643\tbest: 0.7614531 (485)\ttotal: 3m 46s\tremaining: 37.5s\n",
      "858:\tlearn: 0.8042075\ttest: 0.7598367\tbest: 0.7614531 (485)\ttotal: 3m 46s\tremaining: 37.2s\n",
      "859:\tlearn: 0.8042258\ttest: 0.7599217\tbest: 0.7614531 (485)\ttotal: 3m 47s\tremaining: 37s\n",
      "860:\tlearn: 0.8043534\ttest: 0.7598792\tbest: 0.7614531 (485)\ttotal: 3m 47s\tremaining: 36.7s\n",
      "861:\tlearn: 0.8043351\ttest: 0.7597090\tbest: 0.7614531 (485)\ttotal: 3m 47s\tremaining: 36.5s\n",
      "862:\tlearn: 0.8043351\ttest: 0.7596665\tbest: 0.7614531 (485)\ttotal: 3m 48s\tremaining: 36.2s\n",
      "863:\tlearn: 0.8044628\ttest: 0.7596240\tbest: 0.7614531 (485)\ttotal: 3m 48s\tremaining: 35.9s\n",
      "864:\tlearn: 0.8045904\ttest: 0.7597516\tbest: 0.7614531 (485)\ttotal: 3m 48s\tremaining: 35.7s\n",
      "865:\tlearn: 0.8046086\ttest: 0.7596240\tbest: 0.7614531 (485)\ttotal: 3m 48s\tremaining: 35.4s\n",
      "866:\tlearn: 0.8046086\ttest: 0.7594538\tbest: 0.7614531 (485)\ttotal: 3m 49s\tremaining: 35.2s\n",
      "867:\tlearn: 0.8047180\ttest: 0.7594964\tbest: 0.7614531 (485)\ttotal: 3m 49s\tremaining: 34.9s\n",
      "868:\tlearn: 0.8046815\ttest: 0.7596240\tbest: 0.7614531 (485)\ttotal: 3m 49s\tremaining: 34.7s\n",
      "869:\tlearn: 0.8045539\ttest: 0.7598792\tbest: 0.7614531 (485)\ttotal: 3m 50s\tremaining: 34.4s\n",
      "870:\tlearn: 0.8046633\ttest: 0.7596240\tbest: 0.7614531 (485)\ttotal: 3m 50s\tremaining: 34.2s\n",
      "871:\tlearn: 0.8046815\ttest: 0.7598367\tbest: 0.7614531 (485)\ttotal: 3m 50s\tremaining: 33.9s\n",
      "872:\tlearn: 0.8047362\ttest: 0.7598367\tbest: 0.7614531 (485)\ttotal: 3m 51s\tremaining: 33.6s\n",
      "873:\tlearn: 0.8047727\ttest: 0.7597516\tbest: 0.7614531 (485)\ttotal: 3m 51s\tremaining: 33.4s\n",
      "874:\tlearn: 0.8047909\ttest: 0.7597516\tbest: 0.7614531 (485)\ttotal: 3m 51s\tremaining: 33.1s\n",
      "875:\tlearn: 0.8048638\ttest: 0.7597516\tbest: 0.7614531 (485)\ttotal: 3m 52s\tremaining: 32.9s\n",
      "876:\tlearn: 0.8048091\ttest: 0.7599217\tbest: 0.7614531 (485)\ttotal: 3m 52s\tremaining: 32.6s\n",
      "877:\tlearn: 0.8048638\ttest: 0.7599643\tbest: 0.7614531 (485)\ttotal: 3m 52s\tremaining: 32.4s\n",
      "878:\tlearn: 0.8047909\ttest: 0.7599643\tbest: 0.7614531 (485)\ttotal: 3m 53s\tremaining: 32.1s\n",
      "879:\tlearn: 0.8047544\ttest: 0.7601344\tbest: 0.7614531 (485)\ttotal: 3m 53s\tremaining: 31.8s\n",
      "880:\tlearn: 0.8046633\ttest: 0.7600919\tbest: 0.7614531 (485)\ttotal: 3m 53s\tremaining: 31.6s\n",
      "881:\tlearn: 0.8046633\ttest: 0.7602620\tbest: 0.7614531 (485)\ttotal: 3m 54s\tremaining: 31.3s\n",
      "882:\tlearn: 0.8046997\ttest: 0.7602195\tbest: 0.7614531 (485)\ttotal: 3m 54s\tremaining: 31.1s\n",
      "883:\tlearn: 0.8046815\ttest: 0.7600493\tbest: 0.7614531 (485)\ttotal: 3m 54s\tremaining: 30.8s\n",
      "884:\tlearn: 0.8045904\ttest: 0.7602620\tbest: 0.7614531 (485)\ttotal: 3m 55s\tremaining: 30.6s\n",
      "885:\tlearn: 0.8046997\ttest: 0.7601344\tbest: 0.7614531 (485)\ttotal: 3m 55s\tremaining: 30.3s\n",
      "886:\tlearn: 0.8046815\ttest: 0.7601770\tbest: 0.7614531 (485)\ttotal: 3m 55s\tremaining: 30s\n",
      "887:\tlearn: 0.8046451\ttest: 0.7601770\tbest: 0.7614531 (485)\ttotal: 3m 56s\tremaining: 29.8s\n",
      "888:\tlearn: 0.8048274\ttest: 0.7601344\tbest: 0.7614531 (485)\ttotal: 3m 56s\tremaining: 29.5s\n",
      "889:\tlearn: 0.8051737\ttest: 0.7601344\tbest: 0.7614531 (485)\ttotal: 3m 56s\tremaining: 29.3s\n",
      "890:\tlearn: 0.8051920\ttest: 0.7601344\tbest: 0.7614531 (485)\ttotal: 3m 57s\tremaining: 29s\n",
      "891:\tlearn: 0.8051373\ttest: 0.7601344\tbest: 0.7614531 (485)\ttotal: 3m 57s\tremaining: 28.7s\n",
      "892:\tlearn: 0.8052467\ttest: 0.7602195\tbest: 0.7614531 (485)\ttotal: 3m 57s\tremaining: 28.5s\n",
      "893:\tlearn: 0.8052649\ttest: 0.7600919\tbest: 0.7614531 (485)\ttotal: 3m 58s\tremaining: 28.2s\n",
      "894:\tlearn: 0.8052649\ttest: 0.7601770\tbest: 0.7614531 (485)\ttotal: 3m 58s\tremaining: 28s\n",
      "895:\tlearn: 0.8054472\ttest: 0.7602195\tbest: 0.7614531 (485)\ttotal: 3m 58s\tremaining: 27.7s\n",
      "896:\tlearn: 0.8053743\ttest: 0.7602195\tbest: 0.7614531 (485)\ttotal: 3m 58s\tremaining: 27.4s\n",
      "897:\tlearn: 0.8053743\ttest: 0.7601344\tbest: 0.7614531 (485)\ttotal: 3m 59s\tremaining: 27.2s\n",
      "898:\tlearn: 0.8052102\ttest: 0.7600493\tbest: 0.7614531 (485)\ttotal: 3m 59s\tremaining: 26.9s\n",
      "899:\tlearn: 0.8053196\ttest: 0.7601770\tbest: 0.7614531 (485)\ttotal: 3m 59s\tremaining: 26.6s\n",
      "900:\tlearn: 0.8053925\ttest: 0.7599643\tbest: 0.7614531 (485)\ttotal: 4m\tremaining: 26.4s\n",
      "901:\tlearn: 0.8054472\ttest: 0.7601770\tbest: 0.7614531 (485)\ttotal: 4m\tremaining: 26.1s\n",
      "902:\tlearn: 0.8054836\ttest: 0.7602620\tbest: 0.7614531 (485)\ttotal: 4m\tremaining: 25.9s\n",
      "903:\tlearn: 0.8057206\ttest: 0.7603046\tbest: 0.7614531 (485)\ttotal: 4m 1s\tremaining: 25.6s\n",
      "904:\tlearn: 0.8057936\ttest: 0.7602195\tbest: 0.7614531 (485)\ttotal: 4m 1s\tremaining: 25.3s\n",
      "905:\tlearn: 0.8057206\ttest: 0.7603896\tbest: 0.7614531 (485)\ttotal: 4m 1s\tremaining: 25.1s\n",
      "906:\tlearn: 0.8060488\ttest: 0.7604322\tbest: 0.7614531 (485)\ttotal: 4m 2s\tremaining: 24.8s\n",
      "907:\tlearn: 0.8059759\ttest: 0.7606449\tbest: 0.7614531 (485)\ttotal: 4m 2s\tremaining: 24.6s\n"
     ]
    },
    {
     "name": "stdout",
     "output_type": "stream",
     "text": [
      "908:\tlearn: 0.8060123\ttest: 0.7605598\tbest: 0.7614531 (485)\ttotal: 4m 2s\tremaining: 24.3s\n",
      "909:\tlearn: 0.8060852\ttest: 0.7603896\tbest: 0.7614531 (485)\ttotal: 4m 3s\tremaining: 24s\n",
      "910:\tlearn: 0.8062129\ttest: 0.7603471\tbest: 0.7614531 (485)\ttotal: 4m 3s\tremaining: 23.8s\n",
      "911:\tlearn: 0.8063405\ttest: 0.7601770\tbest: 0.7614531 (485)\ttotal: 4m 3s\tremaining: 23.5s\n",
      "912:\tlearn: 0.8063952\ttest: 0.7600068\tbest: 0.7614531 (485)\ttotal: 4m 4s\tremaining: 23.3s\n",
      "913:\tlearn: 0.8065592\ttest: 0.7598792\tbest: 0.7614531 (485)\ttotal: 4m 4s\tremaining: 23s\n",
      "914:\tlearn: 0.8066686\ttest: 0.7599217\tbest: 0.7614531 (485)\ttotal: 4m 4s\tremaining: 22.7s\n",
      "915:\tlearn: 0.8067780\ttest: 0.7600068\tbest: 0.7614531 (485)\ttotal: 4m 4s\tremaining: 22.5s\n",
      "916:\tlearn: 0.8068145\ttest: 0.7601344\tbest: 0.7614531 (485)\ttotal: 4m 5s\tremaining: 22.2s\n",
      "917:\tlearn: 0.8068145\ttest: 0.7601344\tbest: 0.7614531 (485)\ttotal: 4m 5s\tremaining: 21.9s\n",
      "918:\tlearn: 0.8068145\ttest: 0.7601770\tbest: 0.7614531 (485)\ttotal: 4m 5s\tremaining: 21.7s\n",
      "919:\tlearn: 0.8067780\ttest: 0.7602195\tbest: 0.7614531 (485)\ttotal: 4m 6s\tremaining: 21.4s\n",
      "920:\tlearn: 0.8069238\ttest: 0.7600919\tbest: 0.7614531 (485)\ttotal: 4m 6s\tremaining: 21.1s\n",
      "921:\tlearn: 0.8072702\ttest: 0.7604322\tbest: 0.7614531 (485)\ttotal: 4m 6s\tremaining: 20.9s\n",
      "922:\tlearn: 0.8074890\ttest: 0.7604322\tbest: 0.7614531 (485)\ttotal: 4m 7s\tremaining: 20.6s\n",
      "923:\tlearn: 0.8074343\ttest: 0.7603896\tbest: 0.7614531 (485)\ttotal: 4m 7s\tremaining: 20.4s\n",
      "924:\tlearn: 0.8073431\ttest: 0.7603046\tbest: 0.7614531 (485)\ttotal: 4m 7s\tremaining: 20.1s\n",
      "925:\tlearn: 0.8074525\ttest: 0.7604747\tbest: 0.7614531 (485)\ttotal: 4m 8s\tremaining: 19.8s\n",
      "926:\tlearn: 0.8073978\ttest: 0.7604747\tbest: 0.7614531 (485)\ttotal: 4m 8s\tremaining: 19.6s\n",
      "927:\tlearn: 0.8076348\ttest: 0.7603046\tbest: 0.7614531 (485)\ttotal: 4m 8s\tremaining: 19.3s\n",
      "928:\tlearn: 0.8076895\ttest: 0.7605172\tbest: 0.7614531 (485)\ttotal: 4m 9s\tremaining: 19s\n",
      "929:\tlearn: 0.8078171\ttest: 0.7603471\tbest: 0.7614531 (485)\ttotal: 4m 9s\tremaining: 18.8s\n",
      "930:\tlearn: 0.8076895\ttest: 0.7603471\tbest: 0.7614531 (485)\ttotal: 4m 9s\tremaining: 18.5s\n",
      "931:\tlearn: 0.8077624\ttest: 0.7606874\tbest: 0.7614531 (485)\ttotal: 4m 10s\tremaining: 18.3s\n",
      "932:\tlearn: 0.8077624\ttest: 0.7606023\tbest: 0.7614531 (485)\ttotal: 4m 10s\tremaining: 18s\n",
      "933:\tlearn: 0.8077624\ttest: 0.7607299\tbest: 0.7614531 (485)\ttotal: 4m 10s\tremaining: 17.7s\n",
      "934:\tlearn: 0.8077260\ttest: 0.7606449\tbest: 0.7614531 (485)\ttotal: 4m 11s\tremaining: 17.5s\n",
      "935:\tlearn: 0.8078900\ttest: 0.7606023\tbest: 0.7614531 (485)\ttotal: 4m 11s\tremaining: 17.2s\n",
      "936:\tlearn: 0.8079265\ttest: 0.7606449\tbest: 0.7614531 (485)\ttotal: 4m 11s\tremaining: 16.9s\n",
      "937:\tlearn: 0.8078900\ttest: 0.7606023\tbest: 0.7614531 (485)\ttotal: 4m 12s\tremaining: 16.7s\n",
      "938:\tlearn: 0.8080176\ttest: 0.7605172\tbest: 0.7614531 (485)\ttotal: 4m 12s\tremaining: 16.4s\n",
      "939:\tlearn: 0.8081453\ttest: 0.7603471\tbest: 0.7614531 (485)\ttotal: 4m 12s\tremaining: 16.1s\n",
      "940:\tlearn: 0.8081635\ttest: 0.7601770\tbest: 0.7614531 (485)\ttotal: 4m 13s\tremaining: 15.9s\n",
      "941:\tlearn: 0.8081635\ttest: 0.7602195\tbest: 0.7614531 (485)\ttotal: 4m 13s\tremaining: 15.6s\n",
      "942:\tlearn: 0.8082182\ttest: 0.7600068\tbest: 0.7614531 (485)\ttotal: 4m 13s\tremaining: 15.3s\n",
      "943:\tlearn: 0.8084005\ttest: 0.7601344\tbest: 0.7614531 (485)\ttotal: 4m 14s\tremaining: 15.1s\n",
      "944:\tlearn: 0.8085281\ttest: 0.7603896\tbest: 0.7614531 (485)\ttotal: 4m 14s\tremaining: 14.8s\n",
      "945:\tlearn: 0.8084734\ttest: 0.7606023\tbest: 0.7614531 (485)\ttotal: 4m 14s\tremaining: 14.5s\n",
      "946:\tlearn: 0.8086922\ttest: 0.7608575\tbest: 0.7614531 (485)\ttotal: 4m 15s\tremaining: 14.3s\n",
      "947:\tlearn: 0.8087104\ttest: 0.7607725\tbest: 0.7614531 (485)\ttotal: 4m 15s\tremaining: 14s\n",
      "948:\tlearn: 0.8087286\ttest: 0.7606449\tbest: 0.7614531 (485)\ttotal: 4m 15s\tremaining: 13.7s\n",
      "949:\tlearn: 0.8086375\ttest: 0.7607299\tbest: 0.7614531 (485)\ttotal: 4m 16s\tremaining: 13.5s\n",
      "950:\tlearn: 0.8086192\ttest: 0.7606449\tbest: 0.7614531 (485)\ttotal: 4m 16s\tremaining: 13.2s\n",
      "951:\tlearn: 0.8086739\ttest: 0.7605598\tbest: 0.7614531 (485)\ttotal: 4m 16s\tremaining: 13s\n",
      "952:\tlearn: 0.8087833\ttest: 0.7606023\tbest: 0.7614531 (485)\ttotal: 4m 17s\tremaining: 12.7s\n",
      "953:\tlearn: 0.8085463\ttest: 0.7605172\tbest: 0.7614531 (485)\ttotal: 4m 17s\tremaining: 12.4s\n",
      "954:\tlearn: 0.8087104\ttest: 0.7605172\tbest: 0.7614531 (485)\ttotal: 4m 18s\tremaining: 12.2s\n",
      "955:\tlearn: 0.8088015\ttest: 0.7605598\tbest: 0.7614531 (485)\ttotal: 4m 18s\tremaining: 11.9s\n",
      "956:\tlearn: 0.8089656\ttest: 0.7605172\tbest: 0.7614531 (485)\ttotal: 4m 18s\tremaining: 11.6s\n",
      "957:\tlearn: 0.8090385\ttest: 0.7606023\tbest: 0.7614531 (485)\ttotal: 4m 19s\tremaining: 11.4s\n",
      "958:\tlearn: 0.8089109\ttest: 0.7606874\tbest: 0.7614531 (485)\ttotal: 4m 19s\tremaining: 11.1s\n",
      "959:\tlearn: 0.8089292\ttest: 0.7607725\tbest: 0.7614531 (485)\ttotal: 4m 19s\tremaining: 10.8s\n",
      "960:\tlearn: 0.8089474\ttest: 0.7607299\tbest: 0.7614531 (485)\ttotal: 4m 19s\tremaining: 10.5s\n",
      "961:\tlearn: 0.8089109\ttest: 0.7606874\tbest: 0.7614531 (485)\ttotal: 4m 20s\tremaining: 10.3s\n",
      "962:\tlearn: 0.8089838\ttest: 0.7606449\tbest: 0.7614531 (485)\ttotal: 4m 20s\tremaining: 10s\n",
      "963:\tlearn: 0.8089109\ttest: 0.7607725\tbest: 0.7614531 (485)\ttotal: 4m 21s\tremaining: 9.75s\n",
      "964:\tlearn: 0.8091479\ttest: 0.7609426\tbest: 0.7614531 (485)\ttotal: 4m 21s\tremaining: 9.48s\n",
      "965:\tlearn: 0.8090568\ttest: 0.7609852\tbest: 0.7614531 (485)\ttotal: 4m 21s\tremaining: 9.21s\n",
      "966:\tlearn: 0.8092391\ttest: 0.7611128\tbest: 0.7614531 (485)\ttotal: 4m 21s\tremaining: 8.94s\n",
      "967:\tlearn: 0.8092938\ttest: 0.7611978\tbest: 0.7614531 (485)\ttotal: 4m 22s\tremaining: 8.67s\n",
      "968:\tlearn: 0.8093120\ttest: 0.7613680\tbest: 0.7614531 (485)\ttotal: 4m 22s\tremaining: 8.41s\n",
      "969:\tlearn: 0.8094396\ttest: 0.7614531\tbest: 0.7614531 (485)\ttotal: 4m 23s\tremaining: 8.14s\n",
      "970:\tlearn: 0.8095672\ttest: 0.7616232\tbest: 0.7616232 (970)\ttotal: 4m 23s\tremaining: 7.87s\n",
      "971:\tlearn: 0.8096219\ttest: 0.7617508\tbest: 0.7617508 (971)\ttotal: 4m 23s\tremaining: 7.6s\n",
      "972:\tlearn: 0.8096948\ttest: 0.7615807\tbest: 0.7617508 (971)\ttotal: 4m 24s\tremaining: 7.33s\n",
      "973:\tlearn: 0.8097495\ttest: 0.7612404\tbest: 0.7617508 (971)\ttotal: 4m 24s\tremaining: 7.06s\n",
      "974:\tlearn: 0.8097860\ttest: 0.7611978\tbest: 0.7617508 (971)\ttotal: 4m 24s\tremaining: 6.79s\n",
      "975:\tlearn: 0.8097677\ttest: 0.7612404\tbest: 0.7617508 (971)\ttotal: 4m 25s\tremaining: 6.52s\n",
      "976:\tlearn: 0.8097131\ttest: 0.7611978\tbest: 0.7617508 (971)\ttotal: 4m 25s\tremaining: 6.25s\n",
      "977:\tlearn: 0.8097313\ttest: 0.7611553\tbest: 0.7617508 (971)\ttotal: 4m 25s\tremaining: 5.98s\n",
      "978:\tlearn: 0.8098042\ttest: 0.7611978\tbest: 0.7617508 (971)\ttotal: 4m 26s\tremaining: 5.71s\n",
      "979:\tlearn: 0.8098407\ttest: 0.7614531\tbest: 0.7617508 (971)\ttotal: 4m 26s\tremaining: 5.44s\n",
      "980:\tlearn: 0.8099500\ttest: 0.7611978\tbest: 0.7617508 (971)\ttotal: 4m 26s\tremaining: 5.17s\n",
      "981:\tlearn: 0.8098954\ttest: 0.7609852\tbest: 0.7617508 (971)\ttotal: 4m 27s\tremaining: 4.89s\n",
      "982:\tlearn: 0.8099318\ttest: 0.7606874\tbest: 0.7617508 (971)\ttotal: 4m 27s\tremaining: 4.63s\n",
      "983:\tlearn: 0.8099500\ttest: 0.7609426\tbest: 0.7617508 (971)\ttotal: 4m 27s\tremaining: 4.36s\n",
      "984:\tlearn: 0.8099865\ttest: 0.7608575\tbest: 0.7617508 (971)\ttotal: 4m 28s\tremaining: 4.08s\n",
      "985:\tlearn: 0.8101141\ttest: 0.7609001\tbest: 0.7617508 (971)\ttotal: 4m 28s\tremaining: 3.81s\n",
      "986:\tlearn: 0.8101688\ttest: 0.7606874\tbest: 0.7617508 (971)\ttotal: 4m 28s\tremaining: 3.54s\n",
      "987:\tlearn: 0.8100777\ttest: 0.7607725\tbest: 0.7617508 (971)\ttotal: 4m 29s\tremaining: 3.27s\n",
      "988:\tlearn: 0.8101141\ttest: 0.7609001\tbest: 0.7617508 (971)\ttotal: 4m 29s\tremaining: 3s\n",
      "989:\tlearn: 0.8101870\ttest: 0.7607299\tbest: 0.7617508 (971)\ttotal: 4m 29s\tremaining: 2.73s\n",
      "990:\tlearn: 0.8102600\ttest: 0.7606874\tbest: 0.7617508 (971)\ttotal: 4m 30s\tremaining: 2.45s\n",
      "991:\tlearn: 0.8102417\ttest: 0.7606874\tbest: 0.7617508 (971)\ttotal: 4m 30s\tremaining: 2.18s\n",
      "992:\tlearn: 0.8103511\ttest: 0.7608150\tbest: 0.7617508 (971)\ttotal: 4m 31s\tremaining: 1.91s\n",
      "993:\tlearn: 0.8104423\ttest: 0.7608575\tbest: 0.7617508 (971)\ttotal: 4m 31s\tremaining: 1.64s\n",
      "994:\tlearn: 0.8103511\ttest: 0.7609426\tbest: 0.7617508 (971)\ttotal: 4m 31s\tremaining: 1.37s\n",
      "995:\tlearn: 0.8104058\ttest: 0.7607725\tbest: 0.7617508 (971)\ttotal: 4m 32s\tremaining: 1.09s\n",
      "996:\tlearn: 0.8104423\ttest: 0.7607725\tbest: 0.7617508 (971)\ttotal: 4m 32s\tremaining: 820ms\n",
      "997:\tlearn: 0.8106246\ttest: 0.7606449\tbest: 0.7617508 (971)\ttotal: 4m 32s\tremaining: 547ms\n",
      "998:\tlearn: 0.8106428\ttest: 0.7606023\tbest: 0.7617508 (971)\ttotal: 4m 33s\tremaining: 274ms\n"
     ]
    },
    {
     "name": "stdout",
     "output_type": "stream",
     "text": [
      "999:\tlearn: 0.8106428\ttest: 0.7604747\tbest: 0.7617508 (971)\ttotal: 4m 33s\tremaining: 0us\n",
      "\n",
      "bestTest = 0.7617508188\n",
      "bestIteration = 971\n",
      "\n",
      "Shrink model to first 972 iterations.\n"
     ]
    },
    {
     "data": {
      "text/plain": [
       "<catboost.core.CatBoostClassifier at 0x13e16a14f28>"
      ]
     },
     "execution_count": 67,
     "metadata": {},
     "output_type": "execute_result"
    }
   ],
   "source": [
    "model.fit(xtrain,ytrain,cat_features=cate_features_index,eval_set=(xtest,ytest))"
   ]
  },
  {
   "cell_type": "code",
   "execution_count": 68,
   "metadata": {},
   "outputs": [
    {
     "name": "stdout",
     "output_type": "stream",
     "text": [
      "the test accuracy is :0.761751\n",
      "the train accuracy is : 0.7840449192401648\n"
     ]
    }
   ],
   "source": [
    "#show the model test acc, but you have to note that the acc is not the cv acc,\n",
    "#so recommend to use the cv acc to evaluate your model!\n",
    "print('the test accuracy is :{:.6f}'.format(accuracy_score(ytest,model.predict(xtest))))\n",
    "test_score_catboost = accuracy_score(ytest,model.predict(xtest))\n",
    "print(\"the train accuracy is :\",model.score(xtrain,ytrain))\n",
    "train_score_catboost = model.score(xtrain,ytrain)"
   ]
  },
  {
   "cell_type": "code",
   "execution_count": 69,
   "metadata": {},
   "outputs": [
    {
     "data": {
      "text/plain": [
       "array([1., 1., 1., ..., 1., 1., 0.])"
      ]
     },
     "execution_count": 69,
     "metadata": {},
     "output_type": "execute_result"
    }
   ],
   "source": [
    "model.predict(xtest)"
   ]
  },
  {
   "cell_type": "code",
   "execution_count": null,
   "metadata": {},
   "outputs": [],
   "source": []
  }
 ],
 "metadata": {
  "kernelspec": {
   "display_name": "Python 3",
   "language": "python",
   "name": "python3"
  },
  "language_info": {
   "codemirror_mode": {
    "name": "ipython",
    "version": 3
   },
   "file_extension": ".py",
   "mimetype": "text/x-python",
   "name": "python",
   "nbconvert_exporter": "python",
   "pygments_lexer": "ipython3",
   "version": "3.7.3"
  }
 },
 "nbformat": 4,
 "nbformat_minor": 2
}
